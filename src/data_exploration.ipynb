{
 "cells": [
  {
   "cell_type": "markdown",
   "source": [
    "# Data Exploration\n",
    "Github: @juansevargasc"
   ],
   "metadata": {
    "collapsed": false
   }
  },
  {
   "cell_type": "code",
   "execution_count": 2,
   "outputs": [],
   "source": [
    "import pandas as pd"
   ],
   "metadata": {
    "collapsed": false,
    "ExecuteTime": {
     "start_time": "2023-05-04T18:35:02.291314Z",
     "end_time": "2023-05-04T18:35:02.696008Z"
    }
   }
  },
  {
   "cell_type": "markdown",
   "source": [
    "## Main CSV file"
   ],
   "metadata": {
    "collapsed": false
   }
  },
  {
   "cell_type": "code",
   "execution_count": 4,
   "outputs": [
    {
     "data": {
      "text/plain": "      FL_DATE  DEP_HOUR MKT_UNIQUE_CARRIER  MKT_CARRIER_FL_NUM  \\\n0  2022-01-01         6                 AA                   1   \n1  2022-01-01         8                 AA                  10   \n2  2022-01-01         0                 AA                1003   \n3  2022-01-01         9                 AA                1004   \n4  2022-01-01        23                 AA                1007   \n\n  OP_UNIQUE_CARRIER  OP_CARRIER_FL_NUM TAIL_NUM ORIGIN DEST  \\\n0                AA                  1   N106NN    JFK  LAX   \n1                AA                 10   N101NN    LAX  JFK   \n2                AA               1003   N830NN    STL  ORD   \n3                AA               1004   N805NN    ORD  FLL   \n4                AA               1007   N870NN    CLT  STL   \n\n              DEP_TIME  ... DEW_POINT  REL_HUMIDITY  ALTIMETER  \\\n0  2022-01-01 06:57:00  ...      8.89         96.69      29.92   \n1  2022-01-01 08:57:00  ...      0.61         44.92      29.87   \n2  2022-01-01 00:00:00  ...       NaN           NaN        NaN   \n3  2022-01-01 09:37:00  ...      0.61         89.09      29.75   \n4  2022-01-01 23:00:00  ...     18.28         89.81      29.79   \n\n   LOWEST_CLOUD_LAYER  N_CLOUD_LAYER  LOW_LEVEL_CLOUD  MID_LEVEL_CLOUD  \\\n0               300.0            2.0              1.0              0.0   \n1              4800.0            1.0              1.0              0.0   \n2                 NaN            NaN              NaN              NaN   \n3               500.0            1.0              1.0              0.0   \n4              1500.0            3.0              1.0              0.0   \n\n   HIGH_LEVEL_CLOUD  CLOUD_COVER ACTIVE_WEATHER  \n0               0.0          4.0            0.0  \n1               0.0          2.0            0.0  \n2               NaN          NaN            NaN  \n3               0.0          4.0            1.0  \n4               1.0          3.0            0.0  \n\n[5 rows x 40 columns]",
      "text/html": "<div>\n<style scoped>\n    .dataframe tbody tr th:only-of-type {\n        vertical-align: middle;\n    }\n\n    .dataframe tbody tr th {\n        vertical-align: top;\n    }\n\n    .dataframe thead th {\n        text-align: right;\n    }\n</style>\n<table border=\"1\" class=\"dataframe\">\n  <thead>\n    <tr style=\"text-align: right;\">\n      <th></th>\n      <th>FL_DATE</th>\n      <th>DEP_HOUR</th>\n      <th>MKT_UNIQUE_CARRIER</th>\n      <th>MKT_CARRIER_FL_NUM</th>\n      <th>OP_UNIQUE_CARRIER</th>\n      <th>OP_CARRIER_FL_NUM</th>\n      <th>TAIL_NUM</th>\n      <th>ORIGIN</th>\n      <th>DEST</th>\n      <th>DEP_TIME</th>\n      <th>...</th>\n      <th>DEW_POINT</th>\n      <th>REL_HUMIDITY</th>\n      <th>ALTIMETER</th>\n      <th>LOWEST_CLOUD_LAYER</th>\n      <th>N_CLOUD_LAYER</th>\n      <th>LOW_LEVEL_CLOUD</th>\n      <th>MID_LEVEL_CLOUD</th>\n      <th>HIGH_LEVEL_CLOUD</th>\n      <th>CLOUD_COVER</th>\n      <th>ACTIVE_WEATHER</th>\n    </tr>\n  </thead>\n  <tbody>\n    <tr>\n      <th>0</th>\n      <td>2022-01-01</td>\n      <td>6</td>\n      <td>AA</td>\n      <td>1</td>\n      <td>AA</td>\n      <td>1</td>\n      <td>N106NN</td>\n      <td>JFK</td>\n      <td>LAX</td>\n      <td>2022-01-01 06:57:00</td>\n      <td>...</td>\n      <td>8.89</td>\n      <td>96.69</td>\n      <td>29.92</td>\n      <td>300.0</td>\n      <td>2.0</td>\n      <td>1.0</td>\n      <td>0.0</td>\n      <td>0.0</td>\n      <td>4.0</td>\n      <td>0.0</td>\n    </tr>\n    <tr>\n      <th>1</th>\n      <td>2022-01-01</td>\n      <td>8</td>\n      <td>AA</td>\n      <td>10</td>\n      <td>AA</td>\n      <td>10</td>\n      <td>N101NN</td>\n      <td>LAX</td>\n      <td>JFK</td>\n      <td>2022-01-01 08:57:00</td>\n      <td>...</td>\n      <td>0.61</td>\n      <td>44.92</td>\n      <td>29.87</td>\n      <td>4800.0</td>\n      <td>1.0</td>\n      <td>1.0</td>\n      <td>0.0</td>\n      <td>0.0</td>\n      <td>2.0</td>\n      <td>0.0</td>\n    </tr>\n    <tr>\n      <th>2</th>\n      <td>2022-01-01</td>\n      <td>0</td>\n      <td>AA</td>\n      <td>1003</td>\n      <td>AA</td>\n      <td>1003</td>\n      <td>N830NN</td>\n      <td>STL</td>\n      <td>ORD</td>\n      <td>2022-01-01 00:00:00</td>\n      <td>...</td>\n      <td>NaN</td>\n      <td>NaN</td>\n      <td>NaN</td>\n      <td>NaN</td>\n      <td>NaN</td>\n      <td>NaN</td>\n      <td>NaN</td>\n      <td>NaN</td>\n      <td>NaN</td>\n      <td>NaN</td>\n    </tr>\n    <tr>\n      <th>3</th>\n      <td>2022-01-01</td>\n      <td>9</td>\n      <td>AA</td>\n      <td>1004</td>\n      <td>AA</td>\n      <td>1004</td>\n      <td>N805NN</td>\n      <td>ORD</td>\n      <td>FLL</td>\n      <td>2022-01-01 09:37:00</td>\n      <td>...</td>\n      <td>0.61</td>\n      <td>89.09</td>\n      <td>29.75</td>\n      <td>500.0</td>\n      <td>1.0</td>\n      <td>1.0</td>\n      <td>0.0</td>\n      <td>0.0</td>\n      <td>4.0</td>\n      <td>1.0</td>\n    </tr>\n    <tr>\n      <th>4</th>\n      <td>2022-01-01</td>\n      <td>23</td>\n      <td>AA</td>\n      <td>1007</td>\n      <td>AA</td>\n      <td>1007</td>\n      <td>N870NN</td>\n      <td>CLT</td>\n      <td>STL</td>\n      <td>2022-01-01 23:00:00</td>\n      <td>...</td>\n      <td>18.28</td>\n      <td>89.81</td>\n      <td>29.79</td>\n      <td>1500.0</td>\n      <td>3.0</td>\n      <td>1.0</td>\n      <td>0.0</td>\n      <td>1.0</td>\n      <td>3.0</td>\n      <td>0.0</td>\n    </tr>\n  </tbody>\n</table>\n<p>5 rows × 40 columns</p>\n</div>"
     },
     "execution_count": 4,
     "metadata": {},
     "output_type": "execute_result"
    }
   ],
   "source": [
    "df = pd.read_csv('../data/csvFiles/CompleteData.csv')\n",
    "df.head()"
   ],
   "metadata": {
    "collapsed": false,
    "ExecuteTime": {
     "start_time": "2023-05-02T13:13:43.469416Z",
     "end_time": "2023-05-02T13:14:02.110649Z"
    }
   }
  },
  {
   "cell_type": "code",
   "execution_count": 5,
   "outputs": [],
   "source": [
    "df = df.head(100)"
   ],
   "metadata": {
    "collapsed": false,
    "ExecuteTime": {
     "start_time": "2023-05-02T13:14:18.716480Z",
     "end_time": "2023-05-02T13:14:18.718653Z"
    }
   }
  },
  {
   "cell_type": "code",
   "execution_count": 6,
   "outputs": [
    {
     "data": {
      "text/plain": "       FL_DATE  DEP_HOUR MKT_UNIQUE_CARRIER  MKT_CARRIER_FL_NUM  \\\n0   2022-01-01         6                 AA                   1   \n1   2022-01-01         8                 AA                  10   \n2   2022-01-01         0                 AA                1003   \n3   2022-01-01         9                 AA                1004   \n4   2022-01-01        23                 AA                1007   \n..         ...       ...                ...                 ...   \n95  2022-01-01        16                 AA                1154   \n96  2022-01-01         5                 AA                1156   \n97  2022-01-01        18                 AA                1158   \n98  2022-01-01         0                 AA                1159   \n99  2022-01-01        21                 AA                 116   \n\n   OP_UNIQUE_CARRIER  OP_CARRIER_FL_NUM TAIL_NUM ORIGIN DEST  \\\n0                 AA                  1   N106NN    JFK  LAX   \n1                 AA                 10   N101NN    LAX  JFK   \n2                 AA               1003   N830NN    STL  ORD   \n3                 AA               1004   N805NN    ORD  FLL   \n4                 AA               1007   N870NN    CLT  STL   \n..               ...                ...      ...    ...  ...   \n95                AA               1154   N920US    PHX  MCO   \n96                AA               1156   N176UW    PHX  ORD   \n97                AA               1158   N943NN    DCA  DFW   \n98                AA               1159   N869NN    MIA  ORD   \n99                AA                116   N834AA    OGG  DFW   \n\n               DEP_TIME  ... DEW_POINT  REL_HUMIDITY  ALTIMETER  \\\n0   2022-01-01 06:57:00  ...      8.89         96.69      29.92   \n1   2022-01-01 08:57:00  ...      0.61         44.92      29.87   \n2   2022-01-01 00:00:00  ...       NaN           NaN        NaN   \n3   2022-01-01 09:37:00  ...      0.61         89.09      29.75   \n4   2022-01-01 23:00:00  ...     18.28         89.81      29.79   \n..                  ...  ...       ...           ...        ...   \n95  2022-01-01 16:43:00  ...      1.72         58.75      29.94   \n96  2022-01-01 05:54:00  ...     10.00         80.52      29.64   \n97  2022-01-01 18:39:00  ...     13.89         93.07      29.73   \n98  2022-01-01 00:00:00  ...       NaN           NaN        NaN   \n99  2022-01-01 21:26:00  ...     20.00         64.69      29.89   \n\n    LOWEST_CLOUD_LAYER  N_CLOUD_LAYER  LOW_LEVEL_CLOUD  MID_LEVEL_CLOUD  \\\n0                300.0            2.0              1.0              0.0   \n1               4800.0            1.0              1.0              0.0   \n2                  NaN            NaN              NaN              NaN   \n3                500.0            1.0              1.0              0.0   \n4               1500.0            3.0              1.0              0.0   \n..                 ...            ...              ...              ...   \n95             10000.0            1.0              0.0              1.0   \n96              1000.0            3.0              1.0              1.0   \n97               500.0            1.0              1.0              0.0   \n98                 NaN            NaN              NaN              NaN   \n99              3500.0            1.0              1.0              0.0   \n\n    HIGH_LEVEL_CLOUD  CLOUD_COVER ACTIVE_WEATHER  \n0                0.0          4.0            0.0  \n1                0.0          2.0            0.0  \n2                NaN          NaN            NaN  \n3                0.0          4.0            1.0  \n4                1.0          3.0            0.0  \n..               ...          ...            ...  \n95               0.0          1.0            0.0  \n96               0.0          4.0            1.0  \n97               0.0          4.0            1.0  \n98               NaN          NaN            NaN  \n99               0.0          1.0            0.0  \n\n[100 rows x 40 columns]",
      "text/html": "<div>\n<style scoped>\n    .dataframe tbody tr th:only-of-type {\n        vertical-align: middle;\n    }\n\n    .dataframe tbody tr th {\n        vertical-align: top;\n    }\n\n    .dataframe thead th {\n        text-align: right;\n    }\n</style>\n<table border=\"1\" class=\"dataframe\">\n  <thead>\n    <tr style=\"text-align: right;\">\n      <th></th>\n      <th>FL_DATE</th>\n      <th>DEP_HOUR</th>\n      <th>MKT_UNIQUE_CARRIER</th>\n      <th>MKT_CARRIER_FL_NUM</th>\n      <th>OP_UNIQUE_CARRIER</th>\n      <th>OP_CARRIER_FL_NUM</th>\n      <th>TAIL_NUM</th>\n      <th>ORIGIN</th>\n      <th>DEST</th>\n      <th>DEP_TIME</th>\n      <th>...</th>\n      <th>DEW_POINT</th>\n      <th>REL_HUMIDITY</th>\n      <th>ALTIMETER</th>\n      <th>LOWEST_CLOUD_LAYER</th>\n      <th>N_CLOUD_LAYER</th>\n      <th>LOW_LEVEL_CLOUD</th>\n      <th>MID_LEVEL_CLOUD</th>\n      <th>HIGH_LEVEL_CLOUD</th>\n      <th>CLOUD_COVER</th>\n      <th>ACTIVE_WEATHER</th>\n    </tr>\n  </thead>\n  <tbody>\n    <tr>\n      <th>0</th>\n      <td>2022-01-01</td>\n      <td>6</td>\n      <td>AA</td>\n      <td>1</td>\n      <td>AA</td>\n      <td>1</td>\n      <td>N106NN</td>\n      <td>JFK</td>\n      <td>LAX</td>\n      <td>2022-01-01 06:57:00</td>\n      <td>...</td>\n      <td>8.89</td>\n      <td>96.69</td>\n      <td>29.92</td>\n      <td>300.0</td>\n      <td>2.0</td>\n      <td>1.0</td>\n      <td>0.0</td>\n      <td>0.0</td>\n      <td>4.0</td>\n      <td>0.0</td>\n    </tr>\n    <tr>\n      <th>1</th>\n      <td>2022-01-01</td>\n      <td>8</td>\n      <td>AA</td>\n      <td>10</td>\n      <td>AA</td>\n      <td>10</td>\n      <td>N101NN</td>\n      <td>LAX</td>\n      <td>JFK</td>\n      <td>2022-01-01 08:57:00</td>\n      <td>...</td>\n      <td>0.61</td>\n      <td>44.92</td>\n      <td>29.87</td>\n      <td>4800.0</td>\n      <td>1.0</td>\n      <td>1.0</td>\n      <td>0.0</td>\n      <td>0.0</td>\n      <td>2.0</td>\n      <td>0.0</td>\n    </tr>\n    <tr>\n      <th>2</th>\n      <td>2022-01-01</td>\n      <td>0</td>\n      <td>AA</td>\n      <td>1003</td>\n      <td>AA</td>\n      <td>1003</td>\n      <td>N830NN</td>\n      <td>STL</td>\n      <td>ORD</td>\n      <td>2022-01-01 00:00:00</td>\n      <td>...</td>\n      <td>NaN</td>\n      <td>NaN</td>\n      <td>NaN</td>\n      <td>NaN</td>\n      <td>NaN</td>\n      <td>NaN</td>\n      <td>NaN</td>\n      <td>NaN</td>\n      <td>NaN</td>\n      <td>NaN</td>\n    </tr>\n    <tr>\n      <th>3</th>\n      <td>2022-01-01</td>\n      <td>9</td>\n      <td>AA</td>\n      <td>1004</td>\n      <td>AA</td>\n      <td>1004</td>\n      <td>N805NN</td>\n      <td>ORD</td>\n      <td>FLL</td>\n      <td>2022-01-01 09:37:00</td>\n      <td>...</td>\n      <td>0.61</td>\n      <td>89.09</td>\n      <td>29.75</td>\n      <td>500.0</td>\n      <td>1.0</td>\n      <td>1.0</td>\n      <td>0.0</td>\n      <td>0.0</td>\n      <td>4.0</td>\n      <td>1.0</td>\n    </tr>\n    <tr>\n      <th>4</th>\n      <td>2022-01-01</td>\n      <td>23</td>\n      <td>AA</td>\n      <td>1007</td>\n      <td>AA</td>\n      <td>1007</td>\n      <td>N870NN</td>\n      <td>CLT</td>\n      <td>STL</td>\n      <td>2022-01-01 23:00:00</td>\n      <td>...</td>\n      <td>18.28</td>\n      <td>89.81</td>\n      <td>29.79</td>\n      <td>1500.0</td>\n      <td>3.0</td>\n      <td>1.0</td>\n      <td>0.0</td>\n      <td>1.0</td>\n      <td>3.0</td>\n      <td>0.0</td>\n    </tr>\n    <tr>\n      <th>...</th>\n      <td>...</td>\n      <td>...</td>\n      <td>...</td>\n      <td>...</td>\n      <td>...</td>\n      <td>...</td>\n      <td>...</td>\n      <td>...</td>\n      <td>...</td>\n      <td>...</td>\n      <td>...</td>\n      <td>...</td>\n      <td>...</td>\n      <td>...</td>\n      <td>...</td>\n      <td>...</td>\n      <td>...</td>\n      <td>...</td>\n      <td>...</td>\n      <td>...</td>\n      <td>...</td>\n    </tr>\n    <tr>\n      <th>95</th>\n      <td>2022-01-01</td>\n      <td>16</td>\n      <td>AA</td>\n      <td>1154</td>\n      <td>AA</td>\n      <td>1154</td>\n      <td>N920US</td>\n      <td>PHX</td>\n      <td>MCO</td>\n      <td>2022-01-01 16:43:00</td>\n      <td>...</td>\n      <td>1.72</td>\n      <td>58.75</td>\n      <td>29.94</td>\n      <td>10000.0</td>\n      <td>1.0</td>\n      <td>0.0</td>\n      <td>1.0</td>\n      <td>0.0</td>\n      <td>1.0</td>\n      <td>0.0</td>\n    </tr>\n    <tr>\n      <th>96</th>\n      <td>2022-01-01</td>\n      <td>5</td>\n      <td>AA</td>\n      <td>1156</td>\n      <td>AA</td>\n      <td>1156</td>\n      <td>N176UW</td>\n      <td>PHX</td>\n      <td>ORD</td>\n      <td>2022-01-01 05:54:00</td>\n      <td>...</td>\n      <td>10.00</td>\n      <td>80.52</td>\n      <td>29.64</td>\n      <td>1000.0</td>\n      <td>3.0</td>\n      <td>1.0</td>\n      <td>1.0</td>\n      <td>0.0</td>\n      <td>4.0</td>\n      <td>1.0</td>\n    </tr>\n    <tr>\n      <th>97</th>\n      <td>2022-01-01</td>\n      <td>18</td>\n      <td>AA</td>\n      <td>1158</td>\n      <td>AA</td>\n      <td>1158</td>\n      <td>N943NN</td>\n      <td>DCA</td>\n      <td>DFW</td>\n      <td>2022-01-01 18:39:00</td>\n      <td>...</td>\n      <td>13.89</td>\n      <td>93.07</td>\n      <td>29.73</td>\n      <td>500.0</td>\n      <td>1.0</td>\n      <td>1.0</td>\n      <td>0.0</td>\n      <td>0.0</td>\n      <td>4.0</td>\n      <td>1.0</td>\n    </tr>\n    <tr>\n      <th>98</th>\n      <td>2022-01-01</td>\n      <td>0</td>\n      <td>AA</td>\n      <td>1159</td>\n      <td>AA</td>\n      <td>1159</td>\n      <td>N869NN</td>\n      <td>MIA</td>\n      <td>ORD</td>\n      <td>2022-01-01 00:00:00</td>\n      <td>...</td>\n      <td>NaN</td>\n      <td>NaN</td>\n      <td>NaN</td>\n      <td>NaN</td>\n      <td>NaN</td>\n      <td>NaN</td>\n      <td>NaN</td>\n      <td>NaN</td>\n      <td>NaN</td>\n      <td>NaN</td>\n    </tr>\n    <tr>\n      <th>99</th>\n      <td>2022-01-01</td>\n      <td>21</td>\n      <td>AA</td>\n      <td>116</td>\n      <td>AA</td>\n      <td>116</td>\n      <td>N834AA</td>\n      <td>OGG</td>\n      <td>DFW</td>\n      <td>2022-01-01 21:26:00</td>\n      <td>...</td>\n      <td>20.00</td>\n      <td>64.69</td>\n      <td>29.89</td>\n      <td>3500.0</td>\n      <td>1.0</td>\n      <td>1.0</td>\n      <td>0.0</td>\n      <td>0.0</td>\n      <td>1.0</td>\n      <td>0.0</td>\n    </tr>\n  </tbody>\n</table>\n<p>100 rows × 40 columns</p>\n</div>"
     },
     "execution_count": 6,
     "metadata": {},
     "output_type": "execute_result"
    }
   ],
   "source": [
    "df"
   ],
   "metadata": {
    "collapsed": false,
    "ExecuteTime": {
     "start_time": "2023-05-02T13:14:20.828947Z",
     "end_time": "2023-05-02T13:14:20.843915Z"
    }
   }
  },
  {
   "cell_type": "markdown",
   "source": [
    "## Pandas"
   ],
   "metadata": {
    "collapsed": false
   }
  },
  {
   "cell_type": "code",
   "execution_count": 3,
   "outputs": [
    {
     "name": "stdout",
     "output_type": "stream",
     "text": [
      "The two rows are equal\n"
     ]
    }
   ],
   "source": [
    "# create two example data frames\n",
    "df1 = pd.DataFrame({'A': [1, 2, 3], 'B': [4, 5, 6]})\n",
    "df2 = pd.DataFrame({'A': [1, 2, 3], 'B': [4, 5, 6]})\n",
    "\n",
    "# check if a row in df1 is equal to a row in df2\n",
    "row1 = df1.iloc[0]\n",
    "row2 = df2.iloc[0]\n",
    "if row1.equals(row2):\n",
    "    print(\"The two rows are equal\")\n",
    "else:\n",
    "    print(\"The two rows are not equal\")"
   ],
   "metadata": {
    "collapsed": false,
    "ExecuteTime": {
     "start_time": "2023-05-04T18:35:05.526800Z",
     "end_time": "2023-05-04T18:35:05.528759Z"
    }
   }
  },
  {
   "cell_type": "code",
   "execution_count": 5,
   "outputs": [
    {
     "data": {
      "text/plain": "   A  B\n0  1  4\n1  2  5\n2  3  6",
      "text/html": "<div>\n<style scoped>\n    .dataframe tbody tr th:only-of-type {\n        vertical-align: middle;\n    }\n\n    .dataframe tbody tr th {\n        vertical-align: top;\n    }\n\n    .dataframe thead th {\n        text-align: right;\n    }\n</style>\n<table border=\"1\" class=\"dataframe\">\n  <thead>\n    <tr style=\"text-align: right;\">\n      <th></th>\n      <th>A</th>\n      <th>B</th>\n    </tr>\n  </thead>\n  <tbody>\n    <tr>\n      <th>0</th>\n      <td>1</td>\n      <td>4</td>\n    </tr>\n    <tr>\n      <th>1</th>\n      <td>2</td>\n      <td>5</td>\n    </tr>\n    <tr>\n      <th>2</th>\n      <td>3</td>\n      <td>6</td>\n    </tr>\n  </tbody>\n</table>\n</div>"
     },
     "execution_count": 5,
     "metadata": {},
     "output_type": "execute_result"
    }
   ],
   "source": [
    "df1.head()"
   ],
   "metadata": {
    "collapsed": false,
    "ExecuteTime": {
     "start_time": "2023-05-04T18:35:30.082079Z",
     "end_time": "2023-05-04T18:35:30.084803Z"
    }
   }
  },
  {
   "cell_type": "code",
   "execution_count": 4,
   "outputs": [
    {
     "data": {
      "text/plain": "A    1\nB    4\nName: 0, dtype: int64"
     },
     "execution_count": 4,
     "metadata": {},
     "output_type": "execute_result"
    }
   ],
   "source": [
    "df1.iloc[0]"
   ],
   "metadata": {
    "collapsed": false,
    "ExecuteTime": {
     "start_time": "2023-05-04T18:35:17.076684Z",
     "end_time": "2023-05-04T18:35:17.089958Z"
    }
   }
  },
  {
   "cell_type": "code",
   "execution_count": 9,
   "outputs": [
    {
     "name": "stdout",
     "output_type": "stream",
     "text": [
      "index 0 row 1 4\n",
      "index 1 row 2 5\n",
      "index 2 row 3 6\n"
     ]
    }
   ],
   "source": [
    "for index, row in df1.iterrows():\n",
    "    print('index', index, 'row', row[0], row[1])"
   ],
   "metadata": {
    "collapsed": false,
    "ExecuteTime": {
     "start_time": "2023-05-04T18:40:41.563963Z",
     "end_time": "2023-05-04T18:40:41.566213Z"
    }
   }
  },
  {
   "cell_type": "code",
   "execution_count": 12,
   "outputs": [
    {
     "name": "stdout",
     "output_type": "stream",
     "text": [
      "row 0 1 4\n",
      "row 1 2 5\n",
      "row 2 3 6\n"
     ]
    }
   ],
   "source": [
    "for row in df1.itertuples():\n",
    "    print('row', row[0], row[1], row[2])"
   ],
   "metadata": {
    "collapsed": false,
    "ExecuteTime": {
     "start_time": "2023-05-04T18:42:12.950226Z",
     "end_time": "2023-05-04T18:42:12.952630Z"
    }
   }
  },
  {
   "cell_type": "code",
   "execution_count": null,
   "outputs": [],
   "source": [
    "for index, row in df1.itertuples():\n",
    "    print('row', row[0], row[1], row[2])"
   ],
   "metadata": {
    "collapsed": false
   }
  }
 ],
 "metadata": {
  "kernelspec": {
   "display_name": "Python 3",
   "language": "python",
   "name": "python3"
  },
  "language_info": {
   "codemirror_mode": {
    "name": "ipython",
    "version": 2
   },
   "file_extension": ".py",
   "mimetype": "text/x-python",
   "name": "python",
   "nbconvert_exporter": "python",
   "pygments_lexer": "ipython2",
   "version": "2.7.6"
  }
 },
 "nbformat": 4,
 "nbformat_minor": 0
}
