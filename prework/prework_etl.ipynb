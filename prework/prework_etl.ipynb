{
 "cells": [
  {
   "cell_type": "markdown",
   "source": [
    "# Prework"
   ],
   "metadata": {
    "collapsed": false
   }
  },
  {
   "cell_type": "code",
   "execution_count": 1,
   "outputs": [],
   "source": [
    "import pandas as pd\n",
    "from sqlalchemy import create_engine"
   ],
   "metadata": {
    "collapsed": false,
    "ExecuteTime": {
     "start_time": "2023-04-13T20:27:27.851094Z",
     "end_time": "2023-04-13T20:27:30.659464Z"
    }
   }
  },
  {
   "cell_type": "markdown",
   "source": [
    "# CSV All Departures Data Exploration"
   ],
   "metadata": {
    "collapsed": false
   }
  },
  {
   "cell_type": "code",
   "execution_count": 5,
   "outputs": [],
   "source": [
    "pathfile = '../data/2022_departures/CompleteData.csv'\n",
    "df = pd.read_csv(pathfile, sep=',')"
   ],
   "metadata": {
    "collapsed": false,
    "ExecuteTime": {
     "start_time": "2023-04-14T12:13:47.239068Z",
     "end_time": "2023-04-14T12:14:43.888488Z"
    }
   }
  },
  {
   "cell_type": "code",
   "execution_count": 6,
   "outputs": [
    {
     "data": {
      "text/plain": "      FL_DATE  DEP_HOUR MKT_UNIQUE_CARRIER  MKT_CARRIER_FL_NUM  \\\n0  2022-01-01         6                 AA                   1   \n1  2022-01-01         8                 AA                  10   \n2  2022-01-01         0                 AA                1003   \n3  2022-01-01         9                 AA                1004   \n4  2022-01-01        23                 AA                1007   \n\n  OP_UNIQUE_CARRIER  OP_CARRIER_FL_NUM TAIL_NUM ORIGIN DEST  \\\n0                AA                  1   N106NN    JFK  LAX   \n1                AA                 10   N101NN    LAX  JFK   \n2                AA               1003   N830NN    STL  ORD   \n3                AA               1004   N805NN    ORD  FLL   \n4                AA               1007   N870NN    CLT  STL   \n\n              DEP_TIME  ... DEW_POINT  REL_HUMIDITY  ALTIMETER  \\\n0  2022-01-01 06:57:00  ...      8.89         96.69      29.92   \n1  2022-01-01 08:57:00  ...      0.61         44.92      29.87   \n2  2022-01-01 00:00:00  ...       NaN           NaN        NaN   \n3  2022-01-01 09:37:00  ...      0.61         89.09      29.75   \n4  2022-01-01 23:00:00  ...     18.28         89.81      29.79   \n\n   LOWEST_CLOUD_LAYER  N_CLOUD_LAYER  LOW_LEVEL_CLOUD  MID_LEVEL_CLOUD  \\\n0               300.0            2.0              1.0              0.0   \n1              4800.0            1.0              1.0              0.0   \n2                 NaN            NaN              NaN              NaN   \n3               500.0            1.0              1.0              0.0   \n4              1500.0            3.0              1.0              0.0   \n\n   HIGH_LEVEL_CLOUD  CLOUD_COVER ACTIVE_WEATHER  \n0               0.0          4.0            0.0  \n1               0.0          2.0            0.0  \n2               NaN          NaN            NaN  \n3               0.0          4.0            1.0  \n4               1.0          3.0            0.0  \n\n[5 rows x 40 columns]",
      "text/html": "<div>\n<style scoped>\n    .dataframe tbody tr th:only-of-type {\n        vertical-align: middle;\n    }\n\n    .dataframe tbody tr th {\n        vertical-align: top;\n    }\n\n    .dataframe thead th {\n        text-align: right;\n    }\n</style>\n<table border=\"1\" class=\"dataframe\">\n  <thead>\n    <tr style=\"text-align: right;\">\n      <th></th>\n      <th>FL_DATE</th>\n      <th>DEP_HOUR</th>\n      <th>MKT_UNIQUE_CARRIER</th>\n      <th>MKT_CARRIER_FL_NUM</th>\n      <th>OP_UNIQUE_CARRIER</th>\n      <th>OP_CARRIER_FL_NUM</th>\n      <th>TAIL_NUM</th>\n      <th>ORIGIN</th>\n      <th>DEST</th>\n      <th>DEP_TIME</th>\n      <th>...</th>\n      <th>DEW_POINT</th>\n      <th>REL_HUMIDITY</th>\n      <th>ALTIMETER</th>\n      <th>LOWEST_CLOUD_LAYER</th>\n      <th>N_CLOUD_LAYER</th>\n      <th>LOW_LEVEL_CLOUD</th>\n      <th>MID_LEVEL_CLOUD</th>\n      <th>HIGH_LEVEL_CLOUD</th>\n      <th>CLOUD_COVER</th>\n      <th>ACTIVE_WEATHER</th>\n    </tr>\n  </thead>\n  <tbody>\n    <tr>\n      <th>0</th>\n      <td>2022-01-01</td>\n      <td>6</td>\n      <td>AA</td>\n      <td>1</td>\n      <td>AA</td>\n      <td>1</td>\n      <td>N106NN</td>\n      <td>JFK</td>\n      <td>LAX</td>\n      <td>2022-01-01 06:57:00</td>\n      <td>...</td>\n      <td>8.89</td>\n      <td>96.69</td>\n      <td>29.92</td>\n      <td>300.0</td>\n      <td>2.0</td>\n      <td>1.0</td>\n      <td>0.0</td>\n      <td>0.0</td>\n      <td>4.0</td>\n      <td>0.0</td>\n    </tr>\n    <tr>\n      <th>1</th>\n      <td>2022-01-01</td>\n      <td>8</td>\n      <td>AA</td>\n      <td>10</td>\n      <td>AA</td>\n      <td>10</td>\n      <td>N101NN</td>\n      <td>LAX</td>\n      <td>JFK</td>\n      <td>2022-01-01 08:57:00</td>\n      <td>...</td>\n      <td>0.61</td>\n      <td>44.92</td>\n      <td>29.87</td>\n      <td>4800.0</td>\n      <td>1.0</td>\n      <td>1.0</td>\n      <td>0.0</td>\n      <td>0.0</td>\n      <td>2.0</td>\n      <td>0.0</td>\n    </tr>\n    <tr>\n      <th>2</th>\n      <td>2022-01-01</td>\n      <td>0</td>\n      <td>AA</td>\n      <td>1003</td>\n      <td>AA</td>\n      <td>1003</td>\n      <td>N830NN</td>\n      <td>STL</td>\n      <td>ORD</td>\n      <td>2022-01-01 00:00:00</td>\n      <td>...</td>\n      <td>NaN</td>\n      <td>NaN</td>\n      <td>NaN</td>\n      <td>NaN</td>\n      <td>NaN</td>\n      <td>NaN</td>\n      <td>NaN</td>\n      <td>NaN</td>\n      <td>NaN</td>\n      <td>NaN</td>\n    </tr>\n    <tr>\n      <th>3</th>\n      <td>2022-01-01</td>\n      <td>9</td>\n      <td>AA</td>\n      <td>1004</td>\n      <td>AA</td>\n      <td>1004</td>\n      <td>N805NN</td>\n      <td>ORD</td>\n      <td>FLL</td>\n      <td>2022-01-01 09:37:00</td>\n      <td>...</td>\n      <td>0.61</td>\n      <td>89.09</td>\n      <td>29.75</td>\n      <td>500.0</td>\n      <td>1.0</td>\n      <td>1.0</td>\n      <td>0.0</td>\n      <td>0.0</td>\n      <td>4.0</td>\n      <td>1.0</td>\n    </tr>\n    <tr>\n      <th>4</th>\n      <td>2022-01-01</td>\n      <td>23</td>\n      <td>AA</td>\n      <td>1007</td>\n      <td>AA</td>\n      <td>1007</td>\n      <td>N870NN</td>\n      <td>CLT</td>\n      <td>STL</td>\n      <td>2022-01-01 23:00:00</td>\n      <td>...</td>\n      <td>18.28</td>\n      <td>89.81</td>\n      <td>29.79</td>\n      <td>1500.0</td>\n      <td>3.0</td>\n      <td>1.0</td>\n      <td>0.0</td>\n      <td>1.0</td>\n      <td>3.0</td>\n      <td>0.0</td>\n    </tr>\n  </tbody>\n</table>\n<p>5 rows × 40 columns</p>\n</div>"
     },
     "execution_count": 6,
     "metadata": {},
     "output_type": "execute_result"
    }
   ],
   "source": [
    "df.head()"
   ],
   "metadata": {
    "collapsed": false,
    "ExecuteTime": {
     "start_time": "2023-04-14T12:14:43.904485Z",
     "end_time": "2023-04-14T12:14:43.950280Z"
    }
   }
  },
  {
   "cell_type": "code",
   "execution_count": 14,
   "outputs": [
    {
     "data": {
      "text/plain": "            FL_DATE  DEP_HOUR MKT_UNIQUE_CARRIER  MKT_CARRIER_FL_NUM  \\\n6954631  2022-12-31        12                 WN                 994   \n6954632  2022-12-31        19                 WN                 997   \n6954633  2022-12-31         0                 WN                 998   \n6954634  2022-12-31        10                 WN                 999   \n6954635  2022-12-31         7                 WN                 999   \n\n        OP_UNIQUE_CARRIER  OP_CARRIER_FL_NUM TAIL_NUM ORIGIN DEST  \\\n6954631                WN                994   N8566Z    PHX  ABQ   \n6954632                WN                997   N486WN    MEM  MCO   \n6954633                WN                998   N448WN    SFO  BUR   \n6954634                WN                999   N7836A    ATL  MIA   \n6954635                WN                999   N7836A    IND  ATL   \n\n                    DEP_TIME  ... DEW_POINT  REL_HUMIDITY  ALTIMETER  \\\n6954631  2022-12-31 12:37:00  ...      8.28         85.48      30.02   \n6954632  2022-12-31 19:19:00  ...     11.72         90.29      29.95   \n6954633  2022-12-31 00:00:00  ...     14.39         89.52      29.91   \n6954634  2022-12-31 10:23:00  ...     12.22         93.32      30.02   \n6954635  2022-12-31 07:57:00  ...      6.72         96.63      29.89   \n\n         LOWEST_CLOUD_LAYER  N_CLOUD_LAYER  LOW_LEVEL_CLOUD  MID_LEVEL_CLOUD  \\\n6954631              5000.0            2.0              1.0              1.0   \n6954632               700.0            1.0              1.0              0.0   \n6954633               700.0            3.0              1.0              0.0   \n6954634              8500.0            3.0              0.0              1.0   \n6954635               400.0            1.0              1.0              0.0   \n\n         HIGH_LEVEL_CLOUD  CLOUD_COVER ACTIVE_WEATHER  \n6954631               0.0          3.0            0.0  \n6954632               0.0          4.0            0.0  \n6954633               0.0          4.0            0.0  \n6954634               1.0          4.0            0.0  \n6954635               0.0          4.0            1.0  \n\n[5 rows x 40 columns]",
      "text/html": "<div>\n<style scoped>\n    .dataframe tbody tr th:only-of-type {\n        vertical-align: middle;\n    }\n\n    .dataframe tbody tr th {\n        vertical-align: top;\n    }\n\n    .dataframe thead th {\n        text-align: right;\n    }\n</style>\n<table border=\"1\" class=\"dataframe\">\n  <thead>\n    <tr style=\"text-align: right;\">\n      <th></th>\n      <th>FL_DATE</th>\n      <th>DEP_HOUR</th>\n      <th>MKT_UNIQUE_CARRIER</th>\n      <th>MKT_CARRIER_FL_NUM</th>\n      <th>OP_UNIQUE_CARRIER</th>\n      <th>OP_CARRIER_FL_NUM</th>\n      <th>TAIL_NUM</th>\n      <th>ORIGIN</th>\n      <th>DEST</th>\n      <th>DEP_TIME</th>\n      <th>...</th>\n      <th>DEW_POINT</th>\n      <th>REL_HUMIDITY</th>\n      <th>ALTIMETER</th>\n      <th>LOWEST_CLOUD_LAYER</th>\n      <th>N_CLOUD_LAYER</th>\n      <th>LOW_LEVEL_CLOUD</th>\n      <th>MID_LEVEL_CLOUD</th>\n      <th>HIGH_LEVEL_CLOUD</th>\n      <th>CLOUD_COVER</th>\n      <th>ACTIVE_WEATHER</th>\n    </tr>\n  </thead>\n  <tbody>\n    <tr>\n      <th>6954631</th>\n      <td>2022-12-31</td>\n      <td>12</td>\n      <td>WN</td>\n      <td>994</td>\n      <td>WN</td>\n      <td>994</td>\n      <td>N8566Z</td>\n      <td>PHX</td>\n      <td>ABQ</td>\n      <td>2022-12-31 12:37:00</td>\n      <td>...</td>\n      <td>8.28</td>\n      <td>85.48</td>\n      <td>30.02</td>\n      <td>5000.0</td>\n      <td>2.0</td>\n      <td>1.0</td>\n      <td>1.0</td>\n      <td>0.0</td>\n      <td>3.0</td>\n      <td>0.0</td>\n    </tr>\n    <tr>\n      <th>6954632</th>\n      <td>2022-12-31</td>\n      <td>19</td>\n      <td>WN</td>\n      <td>997</td>\n      <td>WN</td>\n      <td>997</td>\n      <td>N486WN</td>\n      <td>MEM</td>\n      <td>MCO</td>\n      <td>2022-12-31 19:19:00</td>\n      <td>...</td>\n      <td>11.72</td>\n      <td>90.29</td>\n      <td>29.95</td>\n      <td>700.0</td>\n      <td>1.0</td>\n      <td>1.0</td>\n      <td>0.0</td>\n      <td>0.0</td>\n      <td>4.0</td>\n      <td>0.0</td>\n    </tr>\n    <tr>\n      <th>6954633</th>\n      <td>2022-12-31</td>\n      <td>0</td>\n      <td>WN</td>\n      <td>998</td>\n      <td>WN</td>\n      <td>998</td>\n      <td>N448WN</td>\n      <td>SFO</td>\n      <td>BUR</td>\n      <td>2022-12-31 00:00:00</td>\n      <td>...</td>\n      <td>14.39</td>\n      <td>89.52</td>\n      <td>29.91</td>\n      <td>700.0</td>\n      <td>3.0</td>\n      <td>1.0</td>\n      <td>0.0</td>\n      <td>0.0</td>\n      <td>4.0</td>\n      <td>0.0</td>\n    </tr>\n    <tr>\n      <th>6954634</th>\n      <td>2022-12-31</td>\n      <td>10</td>\n      <td>WN</td>\n      <td>999</td>\n      <td>WN</td>\n      <td>999</td>\n      <td>N7836A</td>\n      <td>ATL</td>\n      <td>MIA</td>\n      <td>2022-12-31 10:23:00</td>\n      <td>...</td>\n      <td>12.22</td>\n      <td>93.32</td>\n      <td>30.02</td>\n      <td>8500.0</td>\n      <td>3.0</td>\n      <td>0.0</td>\n      <td>1.0</td>\n      <td>1.0</td>\n      <td>4.0</td>\n      <td>0.0</td>\n    </tr>\n    <tr>\n      <th>6954635</th>\n      <td>2022-12-31</td>\n      <td>7</td>\n      <td>WN</td>\n      <td>999</td>\n      <td>WN</td>\n      <td>999</td>\n      <td>N7836A</td>\n      <td>IND</td>\n      <td>ATL</td>\n      <td>2022-12-31 07:57:00</td>\n      <td>...</td>\n      <td>6.72</td>\n      <td>96.63</td>\n      <td>29.89</td>\n      <td>400.0</td>\n      <td>1.0</td>\n      <td>1.0</td>\n      <td>0.0</td>\n      <td>0.0</td>\n      <td>4.0</td>\n      <td>1.0</td>\n    </tr>\n  </tbody>\n</table>\n<p>5 rows × 40 columns</p>\n</div>"
     },
     "execution_count": 14,
     "metadata": {},
     "output_type": "execute_result"
    }
   ],
   "source": [
    "df.tail()"
   ],
   "metadata": {
    "collapsed": false,
    "ExecuteTime": {
     "start_time": "2023-04-14T12:59:17.595397Z",
     "end_time": "2023-04-14T12:59:17.674262Z"
    }
   }
  },
  {
   "cell_type": "markdown",
   "source": [
    "The format function helps to see this numbers as Floats: `apply(lambda x: format(x, 'f'))`"
   ],
   "metadata": {
    "collapsed": false
   }
  },
  {
   "cell_type": "code",
   "execution_count": 17,
   "outputs": [
    {
     "data": {
      "text/plain": "count    6954636.000000\nmean        2503.919087\nstd         1718.438388\nmin            1.000000\n25%         1084.000000\n50%         2181.000000\n75%         3762.000000\nmax         9680.000000\nName: OP_CARRIER_FL_NUM, dtype: object"
     },
     "execution_count": 17,
     "metadata": {},
     "output_type": "execute_result"
    }
   ],
   "source": [
    "df['OP_CARRIER_FL_NUM'].describe().apply(lambda x: format(x, 'f'))"
   ],
   "metadata": {
    "collapsed": false,
    "ExecuteTime": {
     "start_time": "2023-04-14T13:06:10.965120Z",
     "end_time": "2023-04-14T13:06:11.149970Z"
    }
   }
  },
  {
   "cell_type": "code",
   "execution_count": 16,
   "outputs": [
    {
     "data": {
      "text/plain": "count    6954636.000000\nmean        2503.922283\nstd         1718.422266\nmin            1.000000\n25%         1084.000000\n50%         2181.000000\n75%         3762.000000\nmax         9680.000000\nName: MKT_CARRIER_FL_NUM, dtype: object"
     },
     "execution_count": 16,
     "metadata": {},
     "output_type": "execute_result"
    }
   ],
   "source": [
    "df['MKT_CARRIER_FL_NUM'].describe().apply(lambda x: format(x, 'f'))"
   ],
   "metadata": {
    "collapsed": false,
    "ExecuteTime": {
     "start_time": "2023-04-14T13:03:29.922562Z",
     "end_time": "2023-04-14T13:03:30.291965Z"
    }
   }
  },
  {
   "cell_type": "code",
   "execution_count": 23,
   "outputs": [
    {
     "data": {
      "text/plain": "['FL_DATE',\n 'DEP_HOUR',\n 'MKT_UNIQUE_CARRIER',\n 'MKT_CARRIER_FL_NUM',\n 'OP_UNIQUE_CARRIER',\n 'OP_CARRIER_FL_NUM',\n 'TAIL_NUM',\n 'ORIGIN',\n 'DEST',\n 'DEP_TIME',\n 'CRS_DEP_TIME',\n 'TAXI_OUT',\n 'DEP_DELAY',\n 'AIR_TIME',\n 'DISTANCE',\n 'CANCELLED',\n 'LATITUDE',\n 'LONGITUDE',\n 'ELEVATION',\n 'MESONET_STATION',\n 'YEAR OF MANUFACTURE',\n 'MANUFACTURER',\n 'ICAO TYPE',\n 'RANGE',\n 'WIDTH',\n 'WIND_DIR',\n 'WIND_SPD',\n 'WIND_GUST',\n 'VISIBILITY',\n 'TEMPERATURE',\n 'DEW_POINT',\n 'REL_HUMIDITY',\n 'ALTIMETER',\n 'LOWEST_CLOUD_LAYER',\n 'N_CLOUD_LAYER',\n 'LOW_LEVEL_CLOUD',\n 'MID_LEVEL_CLOUD',\n 'HIGH_LEVEL_CLOUD',\n 'CLOUD_COVER',\n 'ACTIVE_WEATHER']"
     },
     "execution_count": 23,
     "metadata": {},
     "output_type": "execute_result"
    }
   ],
   "source": [
    "columns = df.columns.to_list()\n",
    "columns"
   ],
   "metadata": {
    "collapsed": false,
    "ExecuteTime": {
     "start_time": "2023-04-14T20:57:55.335042Z",
     "end_time": "2023-04-14T20:57:55.337947Z"
    }
   }
  },
  {
   "cell_type": "code",
   "execution_count": 26,
   "outputs": [],
   "source": [
    "columns_new_name = { col:col.replace(' ','_').lower() for col in columns}"
   ],
   "metadata": {
    "collapsed": false,
    "ExecuteTime": {
     "start_time": "2023-04-14T20:58:27.787955Z",
     "end_time": "2023-04-14T20:58:27.791477Z"
    }
   }
  },
  {
   "cell_type": "code",
   "execution_count": 27,
   "outputs": [
    {
     "data": {
      "text/plain": "{'FL_DATE': 'fl_date',\n 'DEP_HOUR': 'dep_hour',\n 'MKT_UNIQUE_CARRIER': 'mkt_unique_carrier',\n 'MKT_CARRIER_FL_NUM': 'mkt_carrier_fl_num',\n 'OP_UNIQUE_CARRIER': 'op_unique_carrier',\n 'OP_CARRIER_FL_NUM': 'op_carrier_fl_num',\n 'TAIL_NUM': 'tail_num',\n 'ORIGIN': 'origin',\n 'DEST': 'dest',\n 'DEP_TIME': 'dep_time',\n 'CRS_DEP_TIME': 'crs_dep_time',\n 'TAXI_OUT': 'taxi_out',\n 'DEP_DELAY': 'dep_delay',\n 'AIR_TIME': 'air_time',\n 'DISTANCE': 'distance',\n 'CANCELLED': 'cancelled',\n 'LATITUDE': 'latitude',\n 'LONGITUDE': 'longitude',\n 'ELEVATION': 'elevation',\n 'MESONET_STATION': 'mesonet_station',\n 'YEAR OF MANUFACTURE': 'year_of_manufacture',\n 'MANUFACTURER': 'manufacturer',\n 'ICAO TYPE': 'icao_type',\n 'RANGE': 'range',\n 'WIDTH': 'width',\n 'WIND_DIR': 'wind_dir',\n 'WIND_SPD': 'wind_spd',\n 'WIND_GUST': 'wind_gust',\n 'VISIBILITY': 'visibility',\n 'TEMPERATURE': 'temperature',\n 'DEW_POINT': 'dew_point',\n 'REL_HUMIDITY': 'rel_humidity',\n 'ALTIMETER': 'altimeter',\n 'LOWEST_CLOUD_LAYER': 'lowest_cloud_layer',\n 'N_CLOUD_LAYER': 'n_cloud_layer',\n 'LOW_LEVEL_CLOUD': 'low_level_cloud',\n 'MID_LEVEL_CLOUD': 'mid_level_cloud',\n 'HIGH_LEVEL_CLOUD': 'high_level_cloud',\n 'CLOUD_COVER': 'cloud_cover',\n 'ACTIVE_WEATHER': 'active_weather'}"
     },
     "execution_count": 27,
     "metadata": {},
     "output_type": "execute_result"
    }
   ],
   "source": [
    "columns_new_name"
   ],
   "metadata": {
    "collapsed": false,
    "ExecuteTime": {
     "start_time": "2023-04-14T20:58:33.170092Z",
     "end_time": "2023-04-14T20:58:33.174697Z"
    }
   }
  },
  {
   "cell_type": "code",
   "execution_count": 20,
   "outputs": [
    {
     "name": "stdout",
     "output_type": "stream",
     "text": [
      "FL_DATE\n",
      "DEP_HOUR\n",
      "MKT_UNIQUE_CARRIER\n",
      "MKT_CARRIER_FL_NUM\n",
      "OP_UNIQUE_CARRIER\n",
      "OP_CARRIER_FL_NUM\n",
      "TAIL_NUM\n",
      "ORIGIN\n",
      "DEST\n",
      "DEP_TIME\n",
      "CRS_DEP_TIME\n",
      "TAXI_OUT\n",
      "DEP_DELAY\n",
      "AIR_TIME\n",
      "DISTANCE\n",
      "CANCELLED\n",
      "LATITUDE\n",
      "LONGITUDE\n",
      "ELEVATION\n",
      "MESONET_STATION\n",
      "YEAR OF MANUFACTURE\n",
      "MANUFACTURER\n",
      "ICAO TYPE\n",
      "RANGE\n",
      "WIDTH\n",
      "WIND_DIR\n",
      "WIND_SPD\n",
      "WIND_GUST\n",
      "VISIBILITY\n",
      "TEMPERATURE\n",
      "DEW_POINT\n",
      "REL_HUMIDITY\n",
      "ALTIMETER\n",
      "LOWEST_CLOUD_LAYER\n",
      "N_CLOUD_LAYER\n",
      "LOW_LEVEL_CLOUD\n",
      "MID_LEVEL_CLOUD\n",
      "HIGH_LEVEL_CLOUD\n",
      "CLOUD_COVER\n",
      "ACTIVE_WEATHER\n",
      "fl_date,dep_hour,mkt_unique_carrier,mkt_carrier_fl_num,op_unique_carrier,op_carrier_fl_num,tail_num,origin,dest,dep_time,crs_dep_time,taxi_out,dep_delay,air_time,distance,cancelled,latitude,longitude,elevation,mesonet_station,year of manufacture,manufacturer,icao type,range,width,wind_dir,wind_spd,wind_gust,visibility,temperature,dew_point,rel_humidity,altimeter,lowest_cloud_layer,n_cloud_layer,low_level_cloud,mid_level_cloud,high_level_cloud,cloud_cover,active_weather,\n",
      "fl_date\n",
      "dep_hour\n",
      "mkt_unique_carrier\n",
      "mkt_carrier_fl_num\n",
      "op_unique_carrier\n",
      "op_carrier_fl_num\n",
      "tail_num\n",
      "origin\n",
      "dest\n",
      "dep_time\n",
      "crs_dep_time\n",
      "taxi_out\n",
      "dep_delay\n",
      "air_time\n",
      "distance\n",
      "cancelled\n",
      "latitude\n",
      "longitude\n",
      "elevation\n",
      "mesonet_station\n",
      "year of manufacture\n",
      "manufacturer\n",
      "icao type\n",
      "range\n",
      "width\n",
      "wind_dir\n",
      "wind_spd\n",
      "wind_gust\n",
      "visibility\n",
      "temperature\n",
      "dew_point\n",
      "rel_humidity\n",
      "altimeter\n",
      "lowest_cloud_layer\n",
      "n_cloud_layer\n",
      "low_level_cloud\n",
      "mid_level_cloud\n",
      "high_level_cloud\n",
      "cloud_cover\n",
      "active_weather\n",
      "\n"
     ]
    }
   ],
   "source": [
    "with open('columns.txt', 'a+') as file:\n",
    "    # Write\n",
    "    for col in columns:\n",
    "        file.write(col.lower())\n",
    "        file.write('\\n')\n",
    "\n",
    "    # move cursor to the beginning of the file\n",
    "    file.seek(0)\n",
    "\n",
    "    # read from file\n",
    "    file_contents = file.read()\n",
    "    print(file_contents)\n"
   ],
   "metadata": {
    "collapsed": false,
    "ExecuteTime": {
     "start_time": "2023-04-14T13:11:09.324406Z",
     "end_time": "2023-04-14T13:11:09.334306Z"
    }
   }
  },
  {
   "cell_type": "code",
   "execution_count": 13,
   "outputs": [
    {
     "name": "stdout",
     "output_type": "stream",
     "text": [
      "<class 'pandas.core.frame.DataFrame'>\n",
      "RangeIndex: 6954636 entries, 0 to 6954635\n",
      "Data columns (total 40 columns):\n",
      " #   Column               Dtype  \n",
      "---  ------               -----  \n",
      " 0   FL_DATE              object \n",
      " 1   DEP_HOUR             int64  \n",
      " 2   MKT_UNIQUE_CARRIER   object \n",
      " 3   MKT_CARRIER_FL_NUM   int64  \n",
      " 4   OP_UNIQUE_CARRIER    object \n",
      " 5   OP_CARRIER_FL_NUM    int64  \n",
      " 6   TAIL_NUM             object \n",
      " 7   ORIGIN               object \n",
      " 8   DEST                 object \n",
      " 9   DEP_TIME             object \n",
      " 10  CRS_DEP_TIME         object \n",
      " 11  TAXI_OUT             int64  \n",
      " 12  DEP_DELAY            int64  \n",
      " 13  AIR_TIME             int64  \n",
      " 14  DISTANCE             int64  \n",
      " 15  CANCELLED            int64  \n",
      " 16  LATITUDE             float64\n",
      " 17  LONGITUDE            float64\n",
      " 18  ELEVATION            int64  \n",
      " 19  MESONET_STATION      object \n",
      " 20  YEAR OF MANUFACTURE  int64  \n",
      " 21  MANUFACTURER         object \n",
      " 22  ICAO TYPE            object \n",
      " 23  RANGE                object \n",
      " 24  WIDTH                object \n",
      " 25  WIND_DIR             float64\n",
      " 26  WIND_SPD             float64\n",
      " 27  WIND_GUST            float64\n",
      " 28  VISIBILITY           float64\n",
      " 29  TEMPERATURE          float64\n",
      " 30  DEW_POINT            float64\n",
      " 31  REL_HUMIDITY         float64\n",
      " 32  ALTIMETER            float64\n",
      " 33  LOWEST_CLOUD_LAYER   float64\n",
      " 34  N_CLOUD_LAYER        float64\n",
      " 35  LOW_LEVEL_CLOUD      float64\n",
      " 36  MID_LEVEL_CLOUD      float64\n",
      " 37  HIGH_LEVEL_CLOUD     float64\n",
      " 38  CLOUD_COVER          float64\n",
      " 39  ACTIVE_WEATHER       float64\n",
      "dtypes: float64(17), int64(10), object(13)\n",
      "memory usage: 2.1+ GB\n"
     ]
    }
   ],
   "source": [
    "df.info()"
   ],
   "metadata": {
    "collapsed": false,
    "ExecuteTime": {
     "start_time": "2023-04-14T12:45:15.161138Z",
     "end_time": "2023-04-14T12:45:15.210033Z"
    }
   }
  },
  {
   "cell_type": "code",
   "execution_count": 30,
   "outputs": [],
   "source": [
    "df = df.rename(columns=columns_new_name)"
   ],
   "metadata": {
    "collapsed": false,
    "ExecuteTime": {
     "start_time": "2023-04-14T20:59:47.019541Z",
     "end_time": "2023-04-14T20:59:55.370927Z"
    }
   }
  },
  {
   "cell_type": "code",
   "execution_count": 31,
   "outputs": [
    {
     "data": {
      "text/plain": "Index(['fl_date', 'dep_hour', 'mkt_unique_carrier', 'mkt_carrier_fl_num',\n       'op_unique_carrier', 'op_carrier_fl_num', 'tail_num', 'origin', 'dest',\n       'dep_time', 'crs_dep_time', 'taxi_out', 'dep_delay', 'air_time',\n       'distance', 'cancelled', 'latitude', 'longitude', 'elevation',\n       'mesonet_station', 'year_of_manufacture', 'manufacturer', 'icao_type',\n       'range', 'width', 'wind_dir', 'wind_spd', 'wind_gust', 'visibility',\n       'temperature', 'dew_point', 'rel_humidity', 'altimeter',\n       'lowest_cloud_layer', 'n_cloud_layer', 'low_level_cloud',\n       'mid_level_cloud', 'high_level_cloud', 'cloud_cover', 'active_weather'],\n      dtype='object')"
     },
     "execution_count": 31,
     "metadata": {},
     "output_type": "execute_result"
    }
   ],
   "source": [
    "df.columns"
   ],
   "metadata": {
    "collapsed": false,
    "ExecuteTime": {
     "start_time": "2023-04-14T21:00:15.231468Z",
     "end_time": "2023-04-14T21:00:15.244072Z"
    }
   }
  },
  {
   "cell_type": "code",
   "execution_count": 35,
   "outputs": [],
   "source": [
    "df.to_csv('../postgres-volume/stage_departures.csv', index=False)"
   ],
   "metadata": {
    "collapsed": false,
    "ExecuteTime": {
     "start_time": "2023-04-14T22:22:39.376682Z",
     "end_time": "2023-04-14T22:24:24.045703Z"
    }
   }
  },
  {
   "cell_type": "code",
   "execution_count": 33,
   "outputs": [
    {
     "name": "stdout",
     "output_type": "stream",
     "text": [
      "columns.txt             postgres_departures.sql prework_etl.ipynb\r\n"
     ]
    }
   ],
   "source": [
    "!ls"
   ],
   "metadata": {
    "collapsed": false,
    "ExecuteTime": {
     "start_time": "2023-04-14T21:03:03.517545Z",
     "end_time": "2023-04-14T21:03:03.865188Z"
    }
   }
  },
  {
   "cell_type": "code",
   "execution_count": null,
   "outputs": [],
   "source": [],
   "metadata": {
    "collapsed": false
   }
  }
 ],
 "metadata": {
  "kernelspec": {
   "display_name": "Python 3",
   "language": "python",
   "name": "python3"
  },
  "language_info": {
   "codemirror_mode": {
    "name": "ipython",
    "version": 2
   },
   "file_extension": ".py",
   "mimetype": "text/x-python",
   "name": "python",
   "nbconvert_exporter": "python",
   "pygments_lexer": "ipython2",
   "version": "2.7.6"
  }
 },
 "nbformat": 4,
 "nbformat_minor": 0
}
