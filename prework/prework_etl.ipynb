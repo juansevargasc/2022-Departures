{
 "cells": [
  {
   "cell_type": "markdown",
   "source": [
    "# Prework\n",
    "**Author:** github.com/juansevargasc"
   ],
   "metadata": {
    "collapsed": false
   }
  },
  {
   "cell_type": "markdown",
   "source": [
    "## CSV All Departures Data Exploration"
   ],
   "metadata": {
    "collapsed": false
   }
  },
  {
   "cell_type": "code",
   "execution_count": 1,
   "outputs": [],
   "source": [
    "import pandas as pd\n",
    "#from sqlalchemy import create_engine"
   ],
   "metadata": {
    "collapsed": false,
    "ExecuteTime": {
     "start_time": "2023-05-02T13:11:00.899846Z",
     "end_time": "2023-05-02T13:11:01.360319Z"
    }
   }
  },
  {
   "cell_type": "code",
   "execution_count": 4,
   "outputs": [],
   "source": [
    "pathfile = '../data/csvFiles/CompleteData.csv'\n",
    "df = pd.read_csv(pathfile, sep=',')"
   ],
   "metadata": {
    "collapsed": false,
    "ExecuteTime": {
     "start_time": "2023-04-18T11:55:14.123437Z",
     "end_time": "2023-04-18T11:55:33.932523Z"
    }
   }
  },
  {
   "cell_type": "markdown",
   "source": [
    "### Checking head and tails of data"
   ],
   "metadata": {
    "collapsed": false
   }
  },
  {
   "cell_type": "code",
   "execution_count": null,
   "outputs": [],
   "source": [
    "df.head()"
   ],
   "metadata": {
    "collapsed": false,
    "ExecuteTime": {
     "start_time": "2023-04-18T11:55:33.931167Z",
     "end_time": "2023-04-18T11:55:34.011434Z"
    }
   }
  },
  {
   "cell_type": "code",
   "execution_count": 6,
   "outputs": [
    {
     "data": {
      "text/plain": "            FL_DATE  DEP_HOUR MKT_UNIQUE_CARRIER  MKT_CARRIER_FL_NUM  \\\n6954631  2022-12-31        12                 WN                 994   \n6954632  2022-12-31        19                 WN                 997   \n6954633  2022-12-31         0                 WN                 998   \n6954634  2022-12-31        10                 WN                 999   \n6954635  2022-12-31         7                 WN                 999   \n\n        OP_UNIQUE_CARRIER  OP_CARRIER_FL_NUM TAIL_NUM ORIGIN DEST  \\\n6954631                WN                994   N8566Z    PHX  ABQ   \n6954632                WN                997   N486WN    MEM  MCO   \n6954633                WN                998   N448WN    SFO  BUR   \n6954634                WN                999   N7836A    ATL  MIA   \n6954635                WN                999   N7836A    IND  ATL   \n\n                    DEP_TIME  ... DEW_POINT  REL_HUMIDITY  ALTIMETER  \\\n6954631  2022-12-31 12:37:00  ...      8.28         85.48      30.02   \n6954632  2022-12-31 19:19:00  ...     11.72         90.29      29.95   \n6954633  2022-12-31 00:00:00  ...     14.39         89.52      29.91   \n6954634  2022-12-31 10:23:00  ...     12.22         93.32      30.02   \n6954635  2022-12-31 07:57:00  ...      6.72         96.63      29.89   \n\n         LOWEST_CLOUD_LAYER  N_CLOUD_LAYER  LOW_LEVEL_CLOUD  MID_LEVEL_CLOUD  \\\n6954631              5000.0            2.0              1.0              1.0   \n6954632               700.0            1.0              1.0              0.0   \n6954633               700.0            3.0              1.0              0.0   \n6954634              8500.0            3.0              0.0              1.0   \n6954635               400.0            1.0              1.0              0.0   \n\n         HIGH_LEVEL_CLOUD  CLOUD_COVER ACTIVE_WEATHER  \n6954631               0.0          3.0            0.0  \n6954632               0.0          4.0            0.0  \n6954633               0.0          4.0            0.0  \n6954634               1.0          4.0            0.0  \n6954635               0.0          4.0            1.0  \n\n[5 rows x 40 columns]",
      "text/html": "<div>\n<style scoped>\n    .dataframe tbody tr th:only-of-type {\n        vertical-align: middle;\n    }\n\n    .dataframe tbody tr th {\n        vertical-align: top;\n    }\n\n    .dataframe thead th {\n        text-align: right;\n    }\n</style>\n<table border=\"1\" class=\"dataframe\">\n  <thead>\n    <tr style=\"text-align: right;\">\n      <th></th>\n      <th>FL_DATE</th>\n      <th>DEP_HOUR</th>\n      <th>MKT_UNIQUE_CARRIER</th>\n      <th>MKT_CARRIER_FL_NUM</th>\n      <th>OP_UNIQUE_CARRIER</th>\n      <th>OP_CARRIER_FL_NUM</th>\n      <th>TAIL_NUM</th>\n      <th>ORIGIN</th>\n      <th>DEST</th>\n      <th>DEP_TIME</th>\n      <th>...</th>\n      <th>DEW_POINT</th>\n      <th>REL_HUMIDITY</th>\n      <th>ALTIMETER</th>\n      <th>LOWEST_CLOUD_LAYER</th>\n      <th>N_CLOUD_LAYER</th>\n      <th>LOW_LEVEL_CLOUD</th>\n      <th>MID_LEVEL_CLOUD</th>\n      <th>HIGH_LEVEL_CLOUD</th>\n      <th>CLOUD_COVER</th>\n      <th>ACTIVE_WEATHER</th>\n    </tr>\n  </thead>\n  <tbody>\n    <tr>\n      <th>6954631</th>\n      <td>2022-12-31</td>\n      <td>12</td>\n      <td>WN</td>\n      <td>994</td>\n      <td>WN</td>\n      <td>994</td>\n      <td>N8566Z</td>\n      <td>PHX</td>\n      <td>ABQ</td>\n      <td>2022-12-31 12:37:00</td>\n      <td>...</td>\n      <td>8.28</td>\n      <td>85.48</td>\n      <td>30.02</td>\n      <td>5000.0</td>\n      <td>2.0</td>\n      <td>1.0</td>\n      <td>1.0</td>\n      <td>0.0</td>\n      <td>3.0</td>\n      <td>0.0</td>\n    </tr>\n    <tr>\n      <th>6954632</th>\n      <td>2022-12-31</td>\n      <td>19</td>\n      <td>WN</td>\n      <td>997</td>\n      <td>WN</td>\n      <td>997</td>\n      <td>N486WN</td>\n      <td>MEM</td>\n      <td>MCO</td>\n      <td>2022-12-31 19:19:00</td>\n      <td>...</td>\n      <td>11.72</td>\n      <td>90.29</td>\n      <td>29.95</td>\n      <td>700.0</td>\n      <td>1.0</td>\n      <td>1.0</td>\n      <td>0.0</td>\n      <td>0.0</td>\n      <td>4.0</td>\n      <td>0.0</td>\n    </tr>\n    <tr>\n      <th>6954633</th>\n      <td>2022-12-31</td>\n      <td>0</td>\n      <td>WN</td>\n      <td>998</td>\n      <td>WN</td>\n      <td>998</td>\n      <td>N448WN</td>\n      <td>SFO</td>\n      <td>BUR</td>\n      <td>2022-12-31 00:00:00</td>\n      <td>...</td>\n      <td>14.39</td>\n      <td>89.52</td>\n      <td>29.91</td>\n      <td>700.0</td>\n      <td>3.0</td>\n      <td>1.0</td>\n      <td>0.0</td>\n      <td>0.0</td>\n      <td>4.0</td>\n      <td>0.0</td>\n    </tr>\n    <tr>\n      <th>6954634</th>\n      <td>2022-12-31</td>\n      <td>10</td>\n      <td>WN</td>\n      <td>999</td>\n      <td>WN</td>\n      <td>999</td>\n      <td>N7836A</td>\n      <td>ATL</td>\n      <td>MIA</td>\n      <td>2022-12-31 10:23:00</td>\n      <td>...</td>\n      <td>12.22</td>\n      <td>93.32</td>\n      <td>30.02</td>\n      <td>8500.0</td>\n      <td>3.0</td>\n      <td>0.0</td>\n      <td>1.0</td>\n      <td>1.0</td>\n      <td>4.0</td>\n      <td>0.0</td>\n    </tr>\n    <tr>\n      <th>6954635</th>\n      <td>2022-12-31</td>\n      <td>7</td>\n      <td>WN</td>\n      <td>999</td>\n      <td>WN</td>\n      <td>999</td>\n      <td>N7836A</td>\n      <td>IND</td>\n      <td>ATL</td>\n      <td>2022-12-31 07:57:00</td>\n      <td>...</td>\n      <td>6.72</td>\n      <td>96.63</td>\n      <td>29.89</td>\n      <td>400.0</td>\n      <td>1.0</td>\n      <td>1.0</td>\n      <td>0.0</td>\n      <td>0.0</td>\n      <td>4.0</td>\n      <td>1.0</td>\n    </tr>\n  </tbody>\n</table>\n<p>5 rows × 40 columns</p>\n</div>"
     },
     "execution_count": 6,
     "metadata": {},
     "output_type": "execute_result"
    }
   ],
   "source": [
    "df.tail()"
   ],
   "metadata": {
    "collapsed": false,
    "ExecuteTime": {
     "start_time": "2023-04-18T11:55:38.555049Z",
     "end_time": "2023-04-18T11:55:38.579829Z"
    }
   }
  },
  {
   "cell_type": "markdown",
   "source": [
    "# Checking some columns to see how to prepare some values"
   ],
   "metadata": {
    "collapsed": false
   }
  },
  {
   "cell_type": "markdown",
   "source": [
    "The format function helps to see this numbers as Floats: `apply(lambda x: format(x, 'f'))`"
   ],
   "metadata": {
    "collapsed": false
   }
  },
  {
   "cell_type": "code",
   "execution_count": 7,
   "outputs": [
    {
     "data": {
      "text/plain": "count    6954636.000000\nmean        2503.919087\nstd         1718.438388\nmin            1.000000\n25%         1084.000000\n50%         2181.000000\n75%         3762.000000\nmax         9680.000000\nName: OP_CARRIER_FL_NUM, dtype: object"
     },
     "execution_count": 7,
     "metadata": {},
     "output_type": "execute_result"
    }
   ],
   "source": [
    "df['OP_CARRIER_FL_NUM'].describe().apply(lambda x: format(x, 'f'))"
   ],
   "metadata": {
    "collapsed": false,
    "ExecuteTime": {
     "start_time": "2023-04-18T11:55:46.498439Z",
     "end_time": "2023-04-18T11:55:46.596611Z"
    }
   }
  },
  {
   "cell_type": "code",
   "execution_count": 16,
   "outputs": [
    {
     "data": {
      "text/plain": "count    6954636.000000\nmean        2503.922283\nstd         1718.422266\nmin            1.000000\n25%         1084.000000\n50%         2181.000000\n75%         3762.000000\nmax         9680.000000\nName: MKT_CARRIER_FL_NUM, dtype: object"
     },
     "execution_count": 16,
     "metadata": {},
     "output_type": "execute_result"
    }
   ],
   "source": [
    "df['MKT_CARRIER_FL_NUM'].describe().apply(lambda x: format(x, 'f'))"
   ],
   "metadata": {
    "collapsed": false,
    "ExecuteTime": {
     "start_time": "2023-04-14T13:03:29.922562Z",
     "end_time": "2023-04-14T13:03:30.291965Z"
    }
   }
  },
  {
   "cell_type": "markdown",
   "source": [
    "## Review and change Columns"
   ],
   "metadata": {
    "collapsed": false
   }
  },
  {
   "cell_type": "code",
   "execution_count": 8,
   "outputs": [
    {
     "data": {
      "text/plain": "['FL_DATE',\n 'DEP_HOUR',\n 'MKT_UNIQUE_CARRIER',\n 'MKT_CARRIER_FL_NUM',\n 'OP_UNIQUE_CARRIER',\n 'OP_CARRIER_FL_NUM',\n 'TAIL_NUM',\n 'ORIGIN',\n 'DEST',\n 'DEP_TIME',\n 'CRS_DEP_TIME',\n 'TAXI_OUT',\n 'DEP_DELAY',\n 'AIR_TIME',\n 'DISTANCE',\n 'CANCELLED',\n 'LATITUDE',\n 'LONGITUDE',\n 'ELEVATION',\n 'MESONET_STATION',\n 'YEAR OF MANUFACTURE',\n 'MANUFACTURER',\n 'ICAO TYPE',\n 'RANGE',\n 'WIDTH',\n 'WIND_DIR',\n 'WIND_SPD',\n 'WIND_GUST',\n 'VISIBILITY',\n 'TEMPERATURE',\n 'DEW_POINT',\n 'REL_HUMIDITY',\n 'ALTIMETER',\n 'LOWEST_CLOUD_LAYER',\n 'N_CLOUD_LAYER',\n 'LOW_LEVEL_CLOUD',\n 'MID_LEVEL_CLOUD',\n 'HIGH_LEVEL_CLOUD',\n 'CLOUD_COVER',\n 'ACTIVE_WEATHER']"
     },
     "execution_count": 8,
     "metadata": {},
     "output_type": "execute_result"
    }
   ],
   "source": [
    "columns = df.columns.to_list()\n",
    "columns"
   ],
   "metadata": {
    "collapsed": false,
    "ExecuteTime": {
     "start_time": "2023-04-18T11:55:50.380413Z",
     "end_time": "2023-04-18T11:55:50.392618Z"
    }
   }
  },
  {
   "cell_type": "code",
   "execution_count": 9,
   "outputs": [],
   "source": [
    "columns_new_name = { col:col.replace(' ','_').lower() for col in columns}"
   ],
   "metadata": {
    "collapsed": false,
    "ExecuteTime": {
     "start_time": "2023-04-18T11:55:52.893757Z",
     "end_time": "2023-04-18T11:55:52.898706Z"
    }
   }
  },
  {
   "cell_type": "code",
   "execution_count": 10,
   "outputs": [
    {
     "data": {
      "text/plain": "{'FL_DATE': 'fl_date',\n 'DEP_HOUR': 'dep_hour',\n 'MKT_UNIQUE_CARRIER': 'mkt_unique_carrier',\n 'MKT_CARRIER_FL_NUM': 'mkt_carrier_fl_num',\n 'OP_UNIQUE_CARRIER': 'op_unique_carrier',\n 'OP_CARRIER_FL_NUM': 'op_carrier_fl_num',\n 'TAIL_NUM': 'tail_num',\n 'ORIGIN': 'origin',\n 'DEST': 'dest',\n 'DEP_TIME': 'dep_time',\n 'CRS_DEP_TIME': 'crs_dep_time',\n 'TAXI_OUT': 'taxi_out',\n 'DEP_DELAY': 'dep_delay',\n 'AIR_TIME': 'air_time',\n 'DISTANCE': 'distance',\n 'CANCELLED': 'cancelled',\n 'LATITUDE': 'latitude',\n 'LONGITUDE': 'longitude',\n 'ELEVATION': 'elevation',\n 'MESONET_STATION': 'mesonet_station',\n 'YEAR OF MANUFACTURE': 'year_of_manufacture',\n 'MANUFACTURER': 'manufacturer',\n 'ICAO TYPE': 'icao_type',\n 'RANGE': 'range',\n 'WIDTH': 'width',\n 'WIND_DIR': 'wind_dir',\n 'WIND_SPD': 'wind_spd',\n 'WIND_GUST': 'wind_gust',\n 'VISIBILITY': 'visibility',\n 'TEMPERATURE': 'temperature',\n 'DEW_POINT': 'dew_point',\n 'REL_HUMIDITY': 'rel_humidity',\n 'ALTIMETER': 'altimeter',\n 'LOWEST_CLOUD_LAYER': 'lowest_cloud_layer',\n 'N_CLOUD_LAYER': 'n_cloud_layer',\n 'LOW_LEVEL_CLOUD': 'low_level_cloud',\n 'MID_LEVEL_CLOUD': 'mid_level_cloud',\n 'HIGH_LEVEL_CLOUD': 'high_level_cloud',\n 'CLOUD_COVER': 'cloud_cover',\n 'ACTIVE_WEATHER': 'active_weather'}"
     },
     "execution_count": 10,
     "metadata": {},
     "output_type": "execute_result"
    }
   ],
   "source": [
    "columns_new_name"
   ],
   "metadata": {
    "collapsed": false,
    "ExecuteTime": {
     "start_time": "2023-04-18T11:55:54.686909Z",
     "end_time": "2023-04-18T11:55:54.693958Z"
    }
   }
  },
  {
   "cell_type": "code",
   "execution_count": 11,
   "outputs": [
    {
     "name": "stdout",
     "output_type": "stream",
     "text": [
      "FL_DATE\n",
      "DEP_HOUR\n",
      "MKT_UNIQUE_CARRIER\n",
      "MKT_CARRIER_FL_NUM\n",
      "OP_UNIQUE_CARRIER\n",
      "OP_CARRIER_FL_NUM\n",
      "TAIL_NUM\n",
      "ORIGIN\n",
      "DEST\n",
      "DEP_TIME\n",
      "CRS_DEP_TIME\n",
      "TAXI_OUT\n",
      "DEP_DELAY\n",
      "AIR_TIME\n",
      "DISTANCE\n",
      "CANCELLED\n",
      "LATITUDE\n",
      "LONGITUDE\n",
      "ELEVATION\n",
      "MESONET_STATION\n",
      "YEAR OF MANUFACTURE\n",
      "MANUFACTURER\n",
      "ICAO TYPE\n",
      "RANGE\n",
      "WIDTH\n",
      "WIND_DIR\n",
      "WIND_SPD\n",
      "WIND_GUST\n",
      "VISIBILITY\n",
      "TEMPERATURE\n",
      "DEW_POINT\n",
      "REL_HUMIDITY\n",
      "ALTIMETER\n",
      "LOWEST_CLOUD_LAYER\n",
      "N_CLOUD_LAYER\n",
      "LOW_LEVEL_CLOUD\n",
      "MID_LEVEL_CLOUD\n",
      "HIGH_LEVEL_CLOUD\n",
      "CLOUD_COVER\n",
      "ACTIVE_WEATHER\n",
      "\n",
      "fl_date,dep_hour,mkt_unique_carrier,mkt_carrier_fl_num,op_unique_carrier,op_carrier_fl_num,tail_num,origin,dest,dep_time,crs_dep_time,taxi_out,dep_delay,air_time,distance,cancelled,latitude,longitude,elevation,mesonet_station,year of manufacture,manufacturer,icao type,range,width,wind_dir,wind_spd,wind_gust,visibility,temperature,dew_point,rel_humidity,altimeter,lowest_cloud_layer,n_cloud_layer,low_level_cloud,mid_level_cloud,high_level_cloud,cloud_cover,active_weather,\n",
      "\n",
      "fl_date\n",
      "dep_hour\n",
      "mkt_unique_carrier\n",
      "mkt_carrier_fl_num\n",
      "op_unique_carrier\n",
      "op_carrier_fl_num\n",
      "tail_num\n",
      "origin\n",
      "dest\n",
      "dep_time\n",
      "crs_dep_time\n",
      "taxi_out\n",
      "dep_delay\n",
      "air_time\n",
      "distance\n",
      "cancelled\n",
      "latitude\n",
      "longitude\n",
      "elevation\n",
      "mesonet_station\n",
      "year of manufacture\n",
      "manufacturer\n",
      "icao type\n",
      "range\n",
      "width\n",
      "wind_dir\n",
      "wind_spd\n",
      "wind_gust\n",
      "visibility\n",
      "temperature\n",
      "dew_point\n",
      "rel_humidity\n",
      "altimeter\n",
      "lowest_cloud_layer\n",
      "n_cloud_layer\n",
      "low_level_cloud\n",
      "mid_level_cloud\n",
      "high_level_cloud\n",
      "cloud_cover\n",
      "active_weather\n",
      "fl_date\n",
      "dep_hour\n",
      "mkt_unique_carrier\n",
      "mkt_carrier_fl_num\n",
      "op_unique_carrier\n",
      "op_carrier_fl_num\n",
      "tail_num\n",
      "origin\n",
      "dest\n",
      "dep_time\n",
      "crs_dep_time\n",
      "taxi_out\n",
      "dep_delay\n",
      "air_time\n",
      "distance\n",
      "cancelled\n",
      "latitude\n",
      "longitude\n",
      "elevation\n",
      "mesonet_station\n",
      "year of manufacture\n",
      "manufacturer\n",
      "icao type\n",
      "range\n",
      "width\n",
      "wind_dir\n",
      "wind_spd\n",
      "wind_gust\n",
      "visibility\n",
      "temperature\n",
      "dew_point\n",
      "rel_humidity\n",
      "altimeter\n",
      "lowest_cloud_layer\n",
      "n_cloud_layer\n",
      "low_level_cloud\n",
      "mid_level_cloud\n",
      "high_level_cloud\n",
      "cloud_cover\n",
      "active_weather\n",
      "\n"
     ]
    }
   ],
   "source": [
    "with open('columns.txt', 'a+') as file:\n",
    "    # Write\n",
    "    for col in columns:\n",
    "        file.write(col.lower())\n",
    "        file.write('\\n')\n",
    "\n",
    "    # move cursor to the beginning of the file\n",
    "    file.seek(0)\n",
    "\n",
    "    # read from file\n",
    "    file_contents = file.read()\n",
    "    print(file_contents)\n"
   ],
   "metadata": {
    "collapsed": false,
    "ExecuteTime": {
     "start_time": "2023-04-18T11:56:00.191463Z",
     "end_time": "2023-04-18T11:56:00.196233Z"
    }
   }
  },
  {
   "cell_type": "code",
   "execution_count": 12,
   "outputs": [
    {
     "name": "stdout",
     "output_type": "stream",
     "text": [
      "<class 'pandas.core.frame.DataFrame'>\n",
      "RangeIndex: 6954636 entries, 0 to 6954635\n",
      "Data columns (total 40 columns):\n",
      " #   Column               Dtype  \n",
      "---  ------               -----  \n",
      " 0   FL_DATE              object \n",
      " 1   DEP_HOUR             int64  \n",
      " 2   MKT_UNIQUE_CARRIER   object \n",
      " 3   MKT_CARRIER_FL_NUM   int64  \n",
      " 4   OP_UNIQUE_CARRIER    object \n",
      " 5   OP_CARRIER_FL_NUM    int64  \n",
      " 6   TAIL_NUM             object \n",
      " 7   ORIGIN               object \n",
      " 8   DEST                 object \n",
      " 9   DEP_TIME             object \n",
      " 10  CRS_DEP_TIME         object \n",
      " 11  TAXI_OUT             int64  \n",
      " 12  DEP_DELAY            int64  \n",
      " 13  AIR_TIME             int64  \n",
      " 14  DISTANCE             int64  \n",
      " 15  CANCELLED            int64  \n",
      " 16  LATITUDE             float64\n",
      " 17  LONGITUDE            float64\n",
      " 18  ELEVATION            int64  \n",
      " 19  MESONET_STATION      object \n",
      " 20  YEAR OF MANUFACTURE  int64  \n",
      " 21  MANUFACTURER         object \n",
      " 22  ICAO TYPE            object \n",
      " 23  RANGE                object \n",
      " 24  WIDTH                object \n",
      " 25  WIND_DIR             float64\n",
      " 26  WIND_SPD             float64\n",
      " 27  WIND_GUST            float64\n",
      " 28  VISIBILITY           float64\n",
      " 29  TEMPERATURE          float64\n",
      " 30  DEW_POINT            float64\n",
      " 31  REL_HUMIDITY         float64\n",
      " 32  ALTIMETER            float64\n",
      " 33  LOWEST_CLOUD_LAYER   float64\n",
      " 34  N_CLOUD_LAYER        float64\n",
      " 35  LOW_LEVEL_CLOUD      float64\n",
      " 36  MID_LEVEL_CLOUD      float64\n",
      " 37  HIGH_LEVEL_CLOUD     float64\n",
      " 38  CLOUD_COVER          float64\n",
      " 39  ACTIVE_WEATHER       float64\n",
      "dtypes: float64(17), int64(10), object(13)\n",
      "memory usage: 2.1+ GB\n"
     ]
    }
   ],
   "source": [
    "df.info()"
   ],
   "metadata": {
    "collapsed": false,
    "ExecuteTime": {
     "start_time": "2023-04-18T11:56:02.034145Z",
     "end_time": "2023-04-18T11:56:02.048995Z"
    }
   }
  },
  {
   "cell_type": "code",
   "execution_count": 13,
   "outputs": [],
   "source": [
    "df = df.rename(columns=columns_new_name)"
   ],
   "metadata": {
    "collapsed": false,
    "ExecuteTime": {
     "start_time": "2023-04-18T11:56:15.384211Z",
     "end_time": "2023-04-18T11:56:16.209287Z"
    }
   }
  },
  {
   "cell_type": "code",
   "execution_count": 14,
   "outputs": [
    {
     "data": {
      "text/plain": "Index(['fl_date', 'dep_hour', 'mkt_unique_carrier', 'mkt_carrier_fl_num',\n       'op_unique_carrier', 'op_carrier_fl_num', 'tail_num', 'origin', 'dest',\n       'dep_time', 'crs_dep_time', 'taxi_out', 'dep_delay', 'air_time',\n       'distance', 'cancelled', 'latitude', 'longitude', 'elevation',\n       'mesonet_station', 'year_of_manufacture', 'manufacturer', 'icao_type',\n       'range', 'width', 'wind_dir', 'wind_spd', 'wind_gust', 'visibility',\n       'temperature', 'dew_point', 'rel_humidity', 'altimeter',\n       'lowest_cloud_layer', 'n_cloud_layer', 'low_level_cloud',\n       'mid_level_cloud', 'high_level_cloud', 'cloud_cover', 'active_weather'],\n      dtype='object')"
     },
     "execution_count": 14,
     "metadata": {},
     "output_type": "execute_result"
    }
   ],
   "source": [
    "df.columns"
   ],
   "metadata": {
    "collapsed": false,
    "ExecuteTime": {
     "start_time": "2023-04-18T11:56:18.139651Z",
     "end_time": "2023-04-18T11:56:18.142521Z"
    }
   }
  },
  {
   "cell_type": "markdown",
   "source": [
    "### Save to CSV"
   ],
   "metadata": {
    "collapsed": false
   }
  },
  {
   "cell_type": "code",
   "execution_count": 15,
   "outputs": [],
   "source": [
    "df.to_csv('../postgres-volume/stage_departures.csv', index=False)"
   ],
   "metadata": {
    "collapsed": false,
    "ExecuteTime": {
     "start_time": "2023-04-18T11:56:58.606470Z",
     "end_time": "2023-04-18T11:57:49.860536Z"
    }
   }
  },
  {
   "cell_type": "code",
   "execution_count": 33,
   "outputs": [
    {
     "name": "stdout",
     "output_type": "stream",
     "text": [
      "columns.txt             postgres_departures.sql prework_etl.ipynb\r\n"
     ]
    }
   ],
   "source": [
    "!ls"
   ],
   "metadata": {
    "collapsed": false,
    "ExecuteTime": {
     "start_time": "2023-04-14T21:03:03.517545Z",
     "end_time": "2023-04-14T21:03:03.865188Z"
    }
   }
  },
  {
   "cell_type": "markdown",
   "source": [
    "# Stations"
   ],
   "metadata": {
    "collapsed": false
   }
  },
  {
   "cell_type": "code",
   "execution_count": 2,
   "outputs": [],
   "source": [
    "stations_path = '../data/csvFiles/Stations.csv'\n",
    "df_stations = pd.read_csv(stations_path)"
   ],
   "metadata": {
    "collapsed": false,
    "ExecuteTime": {
     "start_time": "2023-04-24T12:34:21.953184Z",
     "end_time": "2023-04-24T12:34:21.962287Z"
    }
   }
  },
  {
   "cell_type": "code",
   "execution_count": 3,
   "outputs": [
    {
     "data": {
      "text/plain": "   AIRPORT_ID AIRPORT                 DISPLAY_AIRPORT_NAME  \\\n0       14256     PSG           Petersburg James A Johnson   \n1       10299     ANC  Ted Stevens Anchorage International   \n2       12819     KTN              Ketchikan International   \n3       13873     OME                         Nome Airport   \n4       10551     BET                       Bethel Airport   \n5       10926     CDV                Merle K Mudhole Smith   \n6       10245     AKN                  King Salmon Airport   \n7       14828     SIT                Sitka Rocky Gutierrez   \n8       11630     FAI              Fairbanks International   \n9       13970     OTZ                  Ralph Wien Memorial   \n\n  DISPLAY_AIRPORT_CITY_NAME_FULL AIRPORT_STATE_NAME AIRPORT_STATE_CODE  \\\n0                 Petersburg, AK             Alaska                 AK   \n1                  Anchorage, AK             Alaska                 AK   \n2                  Ketchikan, AK             Alaska                 AK   \n3                       Nome, AK             Alaska                 AK   \n4                     Bethel, AK             Alaska                 AK   \n5                    Cordova, AK             Alaska                 AK   \n6                King Salmon, AK             Alaska                 AK   \n7                      Sitka, AK             Alaska                 AK   \n8                  Fairbanks, AK             Alaska                 AK   \n9                   Kotzebue, AK             Alaska                 AK   \n\n    LATITUDE  LONGITUDE  ELEVATION  ICAO IATA  FAA MESONET_STATION  \n0  56.801388 -132.94610        111  PAPG  PSG  PSG            PAPG  \n1  61.174168 -149.99806        152  PANC  ANC  ANC            PANC  \n2  55.354168 -131.71110         89  PAKT  KTN  KTN            PAKT  \n3  64.510560 -165.44472         37  PAOM  OME  OME            PAOM  \n4  60.778610 -161.83722        126  PABE  BET  BET            PABE  \n5  60.491665 -145.47750         54  PACV  CDV  CDV            PACV  \n6  58.676388 -156.64860         73  PAKN  AKN  AKN            PAKN  \n7  57.046944 -135.36111         21  PASI  SIT  SIT            PASI  \n8  64.815280 -147.85667        439  PAFA  FAI  FAI            PAFA  \n9  66.884720 -162.59805         14  PAOT  OTZ  OTZ            PAOT  ",
      "text/html": "<div>\n<style scoped>\n    .dataframe tbody tr th:only-of-type {\n        vertical-align: middle;\n    }\n\n    .dataframe tbody tr th {\n        vertical-align: top;\n    }\n\n    .dataframe thead th {\n        text-align: right;\n    }\n</style>\n<table border=\"1\" class=\"dataframe\">\n  <thead>\n    <tr style=\"text-align: right;\">\n      <th></th>\n      <th>AIRPORT_ID</th>\n      <th>AIRPORT</th>\n      <th>DISPLAY_AIRPORT_NAME</th>\n      <th>DISPLAY_AIRPORT_CITY_NAME_FULL</th>\n      <th>AIRPORT_STATE_NAME</th>\n      <th>AIRPORT_STATE_CODE</th>\n      <th>LATITUDE</th>\n      <th>LONGITUDE</th>\n      <th>ELEVATION</th>\n      <th>ICAO</th>\n      <th>IATA</th>\n      <th>FAA</th>\n      <th>MESONET_STATION</th>\n    </tr>\n  </thead>\n  <tbody>\n    <tr>\n      <th>0</th>\n      <td>14256</td>\n      <td>PSG</td>\n      <td>Petersburg James A Johnson</td>\n      <td>Petersburg, AK</td>\n      <td>Alaska</td>\n      <td>AK</td>\n      <td>56.801388</td>\n      <td>-132.94610</td>\n      <td>111</td>\n      <td>PAPG</td>\n      <td>PSG</td>\n      <td>PSG</td>\n      <td>PAPG</td>\n    </tr>\n    <tr>\n      <th>1</th>\n      <td>10299</td>\n      <td>ANC</td>\n      <td>Ted Stevens Anchorage International</td>\n      <td>Anchorage, AK</td>\n      <td>Alaska</td>\n      <td>AK</td>\n      <td>61.174168</td>\n      <td>-149.99806</td>\n      <td>152</td>\n      <td>PANC</td>\n      <td>ANC</td>\n      <td>ANC</td>\n      <td>PANC</td>\n    </tr>\n    <tr>\n      <th>2</th>\n      <td>12819</td>\n      <td>KTN</td>\n      <td>Ketchikan International</td>\n      <td>Ketchikan, AK</td>\n      <td>Alaska</td>\n      <td>AK</td>\n      <td>55.354168</td>\n      <td>-131.71110</td>\n      <td>89</td>\n      <td>PAKT</td>\n      <td>KTN</td>\n      <td>KTN</td>\n      <td>PAKT</td>\n    </tr>\n    <tr>\n      <th>3</th>\n      <td>13873</td>\n      <td>OME</td>\n      <td>Nome Airport</td>\n      <td>Nome, AK</td>\n      <td>Alaska</td>\n      <td>AK</td>\n      <td>64.510560</td>\n      <td>-165.44472</td>\n      <td>37</td>\n      <td>PAOM</td>\n      <td>OME</td>\n      <td>OME</td>\n      <td>PAOM</td>\n    </tr>\n    <tr>\n      <th>4</th>\n      <td>10551</td>\n      <td>BET</td>\n      <td>Bethel Airport</td>\n      <td>Bethel, AK</td>\n      <td>Alaska</td>\n      <td>AK</td>\n      <td>60.778610</td>\n      <td>-161.83722</td>\n      <td>126</td>\n      <td>PABE</td>\n      <td>BET</td>\n      <td>BET</td>\n      <td>PABE</td>\n    </tr>\n    <tr>\n      <th>5</th>\n      <td>10926</td>\n      <td>CDV</td>\n      <td>Merle K Mudhole Smith</td>\n      <td>Cordova, AK</td>\n      <td>Alaska</td>\n      <td>AK</td>\n      <td>60.491665</td>\n      <td>-145.47750</td>\n      <td>54</td>\n      <td>PACV</td>\n      <td>CDV</td>\n      <td>CDV</td>\n      <td>PACV</td>\n    </tr>\n    <tr>\n      <th>6</th>\n      <td>10245</td>\n      <td>AKN</td>\n      <td>King Salmon Airport</td>\n      <td>King Salmon, AK</td>\n      <td>Alaska</td>\n      <td>AK</td>\n      <td>58.676388</td>\n      <td>-156.64860</td>\n      <td>73</td>\n      <td>PAKN</td>\n      <td>AKN</td>\n      <td>AKN</td>\n      <td>PAKN</td>\n    </tr>\n    <tr>\n      <th>7</th>\n      <td>14828</td>\n      <td>SIT</td>\n      <td>Sitka Rocky Gutierrez</td>\n      <td>Sitka, AK</td>\n      <td>Alaska</td>\n      <td>AK</td>\n      <td>57.046944</td>\n      <td>-135.36111</td>\n      <td>21</td>\n      <td>PASI</td>\n      <td>SIT</td>\n      <td>SIT</td>\n      <td>PASI</td>\n    </tr>\n    <tr>\n      <th>8</th>\n      <td>11630</td>\n      <td>FAI</td>\n      <td>Fairbanks International</td>\n      <td>Fairbanks, AK</td>\n      <td>Alaska</td>\n      <td>AK</td>\n      <td>64.815280</td>\n      <td>-147.85667</td>\n      <td>439</td>\n      <td>PAFA</td>\n      <td>FAI</td>\n      <td>FAI</td>\n      <td>PAFA</td>\n    </tr>\n    <tr>\n      <th>9</th>\n      <td>13970</td>\n      <td>OTZ</td>\n      <td>Ralph Wien Memorial</td>\n      <td>Kotzebue, AK</td>\n      <td>Alaska</td>\n      <td>AK</td>\n      <td>66.884720</td>\n      <td>-162.59805</td>\n      <td>14</td>\n      <td>PAOT</td>\n      <td>OTZ</td>\n      <td>OTZ</td>\n      <td>PAOT</td>\n    </tr>\n  </tbody>\n</table>\n</div>"
     },
     "execution_count": 3,
     "metadata": {},
     "output_type": "execute_result"
    }
   ],
   "source": [
    "df_stations.head(10)"
   ],
   "metadata": {
    "collapsed": false,
    "ExecuteTime": {
     "start_time": "2023-04-24T12:34:22.829653Z",
     "end_time": "2023-04-24T12:34:22.855953Z"
    }
   }
  },
  {
   "cell_type": "code",
   "execution_count": 4,
   "outputs": [],
   "source": [
    "result_json = df_stations.to_json(orient='columns')"
   ],
   "metadata": {
    "collapsed": false,
    "ExecuteTime": {
     "start_time": "2023-04-24T12:34:23.587349Z",
     "end_time": "2023-04-24T12:34:23.589663Z"
    }
   }
  },
  {
   "cell_type": "code",
   "execution_count": null,
   "outputs": [],
   "source": [
    "import json\n",
    "\n",
    "json_stations = json.loads(result_json)\n",
    "json.dumps(json_stations)"
   ],
   "metadata": {
    "collapsed": false,
    "ExecuteTime": {
     "start_time": "2023-04-24T12:34:24.058293Z",
     "end_time": "2023-04-24T12:34:24.067639Z"
    }
   }
  },
  {
   "cell_type": "markdown",
   "source": [
    "# Testing JSON"
   ],
   "metadata": {
    "collapsed": false
   }
  },
  {
   "cell_type": "code",
   "execution_count": 6,
   "outputs": [
    {
     "data": {
      "text/plain": "   AIRPORT_ID AIRPORT                 DISPLAY_AIRPORT_NAME  \\\n0       14256     PSG           Petersburg James A Johnson   \n1       10299     ANC  Ted Stevens Anchorage International   \n2       12819     KTN              Ketchikan International   \n3       13873     OME                         Nome Airport   \n4       10551     BET                       Bethel Airport   \n\n  DISPLAY_AIRPORT_CITY_NAME_FULL AIRPORT_STATE_NAME AIRPORT_STATE_CODE  \\\n0                 Petersburg, AK             Alaska                 AK   \n1                  Anchorage, AK             Alaska                 AK   \n2                  Ketchikan, AK             Alaska                 AK   \n3                       Nome, AK             Alaska                 AK   \n4                     Bethel, AK             Alaska                 AK   \n\n    LATITUDE  LONGITUDE  ELEVATION  ICAO IATA  FAA MESONET_STATION  \n0  56.801388 -132.94610        111  PAPG  PSG  PSG            PAPG  \n1  61.174168 -149.99806        152  PANC  ANC  ANC            PANC  \n2  55.354168 -131.71110         89  PAKT  KTN  KTN            PAKT  \n3  64.510560 -165.44472         37  PAOM  OME  OME            PAOM  \n4  60.778610 -161.83722        126  PABE  BET  BET            PABE  ",
      "text/html": "<div>\n<style scoped>\n    .dataframe tbody tr th:only-of-type {\n        vertical-align: middle;\n    }\n\n    .dataframe tbody tr th {\n        vertical-align: top;\n    }\n\n    .dataframe thead th {\n        text-align: right;\n    }\n</style>\n<table border=\"1\" class=\"dataframe\">\n  <thead>\n    <tr style=\"text-align: right;\">\n      <th></th>\n      <th>AIRPORT_ID</th>\n      <th>AIRPORT</th>\n      <th>DISPLAY_AIRPORT_NAME</th>\n      <th>DISPLAY_AIRPORT_CITY_NAME_FULL</th>\n      <th>AIRPORT_STATE_NAME</th>\n      <th>AIRPORT_STATE_CODE</th>\n      <th>LATITUDE</th>\n      <th>LONGITUDE</th>\n      <th>ELEVATION</th>\n      <th>ICAO</th>\n      <th>IATA</th>\n      <th>FAA</th>\n      <th>MESONET_STATION</th>\n    </tr>\n  </thead>\n  <tbody>\n    <tr>\n      <th>0</th>\n      <td>14256</td>\n      <td>PSG</td>\n      <td>Petersburg James A Johnson</td>\n      <td>Petersburg, AK</td>\n      <td>Alaska</td>\n      <td>AK</td>\n      <td>56.801388</td>\n      <td>-132.94610</td>\n      <td>111</td>\n      <td>PAPG</td>\n      <td>PSG</td>\n      <td>PSG</td>\n      <td>PAPG</td>\n    </tr>\n    <tr>\n      <th>1</th>\n      <td>10299</td>\n      <td>ANC</td>\n      <td>Ted Stevens Anchorage International</td>\n      <td>Anchorage, AK</td>\n      <td>Alaska</td>\n      <td>AK</td>\n      <td>61.174168</td>\n      <td>-149.99806</td>\n      <td>152</td>\n      <td>PANC</td>\n      <td>ANC</td>\n      <td>ANC</td>\n      <td>PANC</td>\n    </tr>\n    <tr>\n      <th>2</th>\n      <td>12819</td>\n      <td>KTN</td>\n      <td>Ketchikan International</td>\n      <td>Ketchikan, AK</td>\n      <td>Alaska</td>\n      <td>AK</td>\n      <td>55.354168</td>\n      <td>-131.71110</td>\n      <td>89</td>\n      <td>PAKT</td>\n      <td>KTN</td>\n      <td>KTN</td>\n      <td>PAKT</td>\n    </tr>\n    <tr>\n      <th>3</th>\n      <td>13873</td>\n      <td>OME</td>\n      <td>Nome Airport</td>\n      <td>Nome, AK</td>\n      <td>Alaska</td>\n      <td>AK</td>\n      <td>64.510560</td>\n      <td>-165.44472</td>\n      <td>37</td>\n      <td>PAOM</td>\n      <td>OME</td>\n      <td>OME</td>\n      <td>PAOM</td>\n    </tr>\n    <tr>\n      <th>4</th>\n      <td>10551</td>\n      <td>BET</td>\n      <td>Bethel Airport</td>\n      <td>Bethel, AK</td>\n      <td>Alaska</td>\n      <td>AK</td>\n      <td>60.778610</td>\n      <td>-161.83722</td>\n      <td>126</td>\n      <td>PABE</td>\n      <td>BET</td>\n      <td>BET</td>\n      <td>PABE</td>\n    </tr>\n  </tbody>\n</table>\n</div>"
     },
     "execution_count": 6,
     "metadata": {},
     "output_type": "execute_result"
    }
   ],
   "source": [
    "stations_path = '../data/jsonFiles/stations_data.json'\n",
    "df_stations_json = pd.read_json(stations_path)\n",
    "df_stations_json.head()"
   ],
   "metadata": {
    "collapsed": false,
    "ExecuteTime": {
     "start_time": "2023-04-24T12:34:25.082389Z",
     "end_time": "2023-04-24T12:34:25.098477Z"
    }
   }
  },
  {
   "cell_type": "code",
   "execution_count": 7,
   "outputs": [
    {
     "name": "stdout",
     "output_type": "stream",
     "text": [
      "<class 'pandas.core.frame.DataFrame'>\n",
      "Int64Index: 376 entries, 0 to 375\n",
      "Data columns (total 13 columns):\n",
      " #   Column                          Non-Null Count  Dtype  \n",
      "---  ------                          --------------  -----  \n",
      " 0   AIRPORT_ID                      376 non-null    int64  \n",
      " 1   AIRPORT                         376 non-null    object \n",
      " 2   DISPLAY_AIRPORT_NAME            376 non-null    object \n",
      " 3   DISPLAY_AIRPORT_CITY_NAME_FULL  376 non-null    object \n",
      " 4   AIRPORT_STATE_NAME              376 non-null    object \n",
      " 5   AIRPORT_STATE_CODE              376 non-null    object \n",
      " 6   LATITUDE                        376 non-null    float64\n",
      " 7   LONGITUDE                       376 non-null    float64\n",
      " 8   ELEVATION                       376 non-null    int64  \n",
      " 9   ICAO                            376 non-null    object \n",
      " 10  IATA                            376 non-null    object \n",
      " 11  FAA                             376 non-null    object \n",
      " 12  MESONET_STATION                 376 non-null    object \n",
      "dtypes: float64(2), int64(2), object(9)\n",
      "memory usage: 41.1+ KB\n"
     ]
    }
   ],
   "source": [
    "df_stations_json.info()"
   ],
   "metadata": {
    "collapsed": false,
    "ExecuteTime": {
     "start_time": "2023-04-24T12:35:43.019246Z",
     "end_time": "2023-04-24T12:35:43.037134Z"
    }
   }
  },
  {
   "cell_type": "markdown",
   "source": [
    "## Can ```AIRPORT_ID``` be the id of the table? Is it unique?"
   ],
   "metadata": {
    "collapsed": false
   }
  },
  {
   "cell_type": "code",
   "execution_count": 10,
   "outputs": [
    {
     "data": {
      "text/plain": "376"
     },
     "execution_count": 10,
     "metadata": {},
     "output_type": "execute_result"
    }
   ],
   "source": [
    "len (df_stations_json['AIRPORT_ID'].unique())"
   ],
   "metadata": {
    "collapsed": false,
    "ExecuteTime": {
     "start_time": "2023-04-24T12:36:38.981286Z",
     "end_time": "2023-04-24T12:36:38.985142Z"
    }
   }
  },
  {
   "cell_type": "code",
   "execution_count": 11,
   "outputs": [
    {
     "name": "stdout",
     "output_type": "stream",
     "text": [
      "   Courses    Fee Duration  Discount\n",
      "0    Spark  20000   30days      1000\n",
      "1  PySpark  25000   40days      2300\n",
      "2   Python  22000   35days      1200\n",
      "3   pandas  30000   50days      2000\n",
      "4   Python  22000   40days      2300\n",
      "5    Spark  20000   30days      1000\n",
      "6   pandas  30000   50days      2000\n"
     ]
    }
   ],
   "source": [
    "import pandas as pd\n",
    "technologies = {\n",
    "    'Courses':[\"Spark\",\"PySpark\",\"Python\",\"pandas\",\"Python\",\"Spark\",\"pandas\"],\n",
    "    'Fee' :[20000,25000,22000,30000,22000,20000,30000],\n",
    "    'Duration':['30days','40days','35days','50days','40days','30days','50days'],\n",
    "    'Discount':[1000,2300,1200,2000,2300,1000,2000]\n",
    "}\n",
    "df = pd.DataFrame(technologies)\n",
    "print(df)"
   ],
   "metadata": {
    "collapsed": false,
    "ExecuteTime": {
     "start_time": "2023-04-24T12:40:25.669709Z",
     "end_time": "2023-04-24T12:40:25.681313Z"
    }
   }
  },
  {
   "cell_type": "code",
   "execution_count": 12,
   "outputs": [
    {
     "data": {
      "text/plain": "array(['Spark', 'PySpark', 'Python', 'pandas'], dtype=object)"
     },
     "execution_count": 12,
     "metadata": {},
     "output_type": "execute_result"
    }
   ],
   "source": [
    "df['Courses'].unique()"
   ],
   "metadata": {
    "collapsed": false,
    "ExecuteTime": {
     "start_time": "2023-04-24T12:40:42.902320Z",
     "end_time": "2023-04-24T12:40:42.912595Z"
    }
   }
  },
  {
   "cell_type": "markdown",
   "source": [
    "___"
   ],
   "metadata": {
    "collapsed": false
   }
  },
  {
   "cell_type": "code",
   "execution_count": null,
   "outputs": [],
   "source": [
    "Testings"
   ],
   "metadata": {
    "collapsed": false
   }
  },
  {
   "cell_type": "code",
   "execution_count": 13,
   "outputs": [
    {
     "name": "stdout",
     "output_type": "stream",
     "text": [
      "       name  age gender  earnings           city\n",
      "0     Alice   25      F   1500000       New York\n",
      "1       Bob   32      M   2000000  San Francisco\n",
      "2   Charlie   45      M   4670980    Los Angeles\n",
      "3     David   19      M   3200000       New York\n",
      "4     Emily   28      F    825000         Boston\n",
      "5     Frank   36      M    765000         Austin\n",
      "6     Grace   42      F   5400000         Boston\n",
      "7     Henry   50      M    980000         Austin\n",
      "8  Isabella   29      F   2250000  San Francisco\n",
      "9      Jack   27      M    450000         Austin\n"
     ]
    }
   ],
   "source": [
    "import pandas as pd\n",
    "\n",
    "data = {'name': ['Alice', 'Bob', 'Charlie', 'David', 'Emily', 'Frank', 'Grace', 'Henry', 'Isabella', 'Jack'],\n",
    "        'age': [25, 32, 45, 19, 28, 36, 42, 50, 29, 27],\n",
    "        'gender': ['F', 'M', 'M', 'M', 'F', 'M', 'F', 'M', 'F', 'M'],\n",
    "        'earnings': [1500000, 2000000, 4670980, 3200000, 825000, 765000, 5400000, 980000, 2250000, 450000],\n",
    "        'city': ['New York', 'San Francisco', 'Los Angeles', 'New York', 'Boston', 'Austin', 'Boston', 'Austin', 'San Francisco', 'Austin']}\n",
    "\n",
    "df = pd.DataFrame(data)\n",
    "\n",
    "print(df.head(10))"
   ],
   "metadata": {
    "collapsed": false,
    "ExecuteTime": {
     "start_time": "2023-04-27T18:21:07.114727Z",
     "end_time": "2023-04-27T18:21:07.120719Z"
    }
   }
  },
  {
   "cell_type": "code",
   "execution_count": 14,
   "outputs": [
    {
     "data": {
      "text/plain": "0    1.50000\n1    2.00000\n2    4.67098\n3    3.20000\n4    0.82500\n5    0.76500\n6    5.40000\n7    0.98000\n8    2.25000\n9    0.45000\nName: earnings, dtype: float64"
     },
     "execution_count": 14,
     "metadata": {},
     "output_type": "execute_result"
    }
   ],
   "source": [
    "df['earnings'].apply(lambda x: x / 10**6)"
   ],
   "metadata": {
    "collapsed": false,
    "ExecuteTime": {
     "start_time": "2023-04-27T18:21:07.606402Z",
     "end_time": "2023-04-27T18:21:07.617328Z"
    }
   }
  },
  {
   "cell_type": "code",
   "execution_count": 15,
   "outputs": [
    {
     "data": {
      "text/plain": "0    1500000\n1    2000000\n2    4670980\n3    3200000\n4     825000\n5     765000\n6    5400000\n7     980000\n8    2250000\n9     450000\nName: earnings, dtype: int64"
     },
     "execution_count": 15,
     "metadata": {},
     "output_type": "execute_result"
    }
   ],
   "source": [
    "df['earnings']"
   ],
   "metadata": {
    "collapsed": false,
    "ExecuteTime": {
     "start_time": "2023-04-27T18:21:09.114015Z",
     "end_time": "2023-04-27T18:21:09.116659Z"
    }
   }
  },
  {
   "cell_type": "code",
   "execution_count": 16,
   "outputs": [
    {
     "data": {
      "text/plain": "       name  age gender  earnings           city\n1       Bob   32      M   2000000  San Francisco\n8  Isabella   29      F   2250000  San Francisco\n0     Alice   25      F   1500000       New York\n3     David   19      M   3200000       New York\n2   Charlie   45      M   4670980    Los Angeles\n6     Grace   42      F   5400000         Boston\n4     Emily   28      F    825000         Boston\n7     Henry   50      M    980000         Austin\n5     Frank   36      M    765000         Austin\n9      Jack   27      M    450000         Austin",
      "text/html": "<div>\n<style scoped>\n    .dataframe tbody tr th:only-of-type {\n        vertical-align: middle;\n    }\n\n    .dataframe tbody tr th {\n        vertical-align: top;\n    }\n\n    .dataframe thead th {\n        text-align: right;\n    }\n</style>\n<table border=\"1\" class=\"dataframe\">\n  <thead>\n    <tr style=\"text-align: right;\">\n      <th></th>\n      <th>name</th>\n      <th>age</th>\n      <th>gender</th>\n      <th>earnings</th>\n      <th>city</th>\n    </tr>\n  </thead>\n  <tbody>\n    <tr>\n      <th>1</th>\n      <td>Bob</td>\n      <td>32</td>\n      <td>M</td>\n      <td>2000000</td>\n      <td>San Francisco</td>\n    </tr>\n    <tr>\n      <th>8</th>\n      <td>Isabella</td>\n      <td>29</td>\n      <td>F</td>\n      <td>2250000</td>\n      <td>San Francisco</td>\n    </tr>\n    <tr>\n      <th>0</th>\n      <td>Alice</td>\n      <td>25</td>\n      <td>F</td>\n      <td>1500000</td>\n      <td>New York</td>\n    </tr>\n    <tr>\n      <th>3</th>\n      <td>David</td>\n      <td>19</td>\n      <td>M</td>\n      <td>3200000</td>\n      <td>New York</td>\n    </tr>\n    <tr>\n      <th>2</th>\n      <td>Charlie</td>\n      <td>45</td>\n      <td>M</td>\n      <td>4670980</td>\n      <td>Los Angeles</td>\n    </tr>\n    <tr>\n      <th>6</th>\n      <td>Grace</td>\n      <td>42</td>\n      <td>F</td>\n      <td>5400000</td>\n      <td>Boston</td>\n    </tr>\n    <tr>\n      <th>4</th>\n      <td>Emily</td>\n      <td>28</td>\n      <td>F</td>\n      <td>825000</td>\n      <td>Boston</td>\n    </tr>\n    <tr>\n      <th>7</th>\n      <td>Henry</td>\n      <td>50</td>\n      <td>M</td>\n      <td>980000</td>\n      <td>Austin</td>\n    </tr>\n    <tr>\n      <th>5</th>\n      <td>Frank</td>\n      <td>36</td>\n      <td>M</td>\n      <td>765000</td>\n      <td>Austin</td>\n    </tr>\n    <tr>\n      <th>9</th>\n      <td>Jack</td>\n      <td>27</td>\n      <td>M</td>\n      <td>450000</td>\n      <td>Austin</td>\n    </tr>\n  </tbody>\n</table>\n</div>"
     },
     "execution_count": 16,
     "metadata": {},
     "output_type": "execute_result"
    }
   ],
   "source": [
    "df.sort_values(by=['city', 'age','name', 'gender', 'earnings'], ascending=False)"
   ],
   "metadata": {
    "collapsed": false,
    "ExecuteTime": {
     "start_time": "2023-04-27T18:21:11.149827Z",
     "end_time": "2023-04-27T18:21:11.156883Z"
    }
   }
  },
  {
   "cell_type": "code",
   "execution_count": null,
   "outputs": [],
   "source": [],
   "metadata": {
    "collapsed": false
   }
  }
 ],
 "metadata": {
  "kernelspec": {
   "display_name": "Python 3",
   "language": "python",
   "name": "python3"
  },
  "language_info": {
   "codemirror_mode": {
    "name": "ipython",
    "version": 2
   },
   "file_extension": ".py",
   "mimetype": "text/x-python",
   "name": "python",
   "nbconvert_exporter": "python",
   "pygments_lexer": "ipython2",
   "version": "2.7.6"
  }
 },
 "nbformat": 4,
 "nbformat_minor": 0
}
