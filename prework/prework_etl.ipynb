{
 "cells": [
  {
   "cell_type": "markdown",
   "source": [
    "# Prework\n",
    "**Author:** github.com/juansevargasc"
   ],
   "metadata": {
    "collapsed": false
   }
  },
  {
   "cell_type": "markdown",
   "source": [
    "## CSV All Departures Data Exploration"
   ],
   "metadata": {
    "collapsed": false
   }
  },
  {
   "cell_type": "code",
   "execution_count": 1,
   "outputs": [],
   "source": [
    "import pandas as pd\n",
    "#from sqlalchemy import create_engine"
   ],
   "metadata": {
    "collapsed": false,
    "ExecuteTime": {
     "start_time": "2023-04-24T12:34:10.437746Z",
     "end_time": "2023-04-24T12:34:11.431687Z"
    }
   }
  },
  {
   "cell_type": "code",
   "execution_count": 4,
   "outputs": [],
   "source": [
    "pathfile = '../data/csvFiles/CompleteData.csv'\n",
    "df = pd.read_csv(pathfile, sep=',')"
   ],
   "metadata": {
    "collapsed": false,
    "ExecuteTime": {
     "start_time": "2023-04-18T11:55:14.123437Z",
     "end_time": "2023-04-18T11:55:33.932523Z"
    }
   }
  },
  {
   "cell_type": "markdown",
   "source": [
    "### Checking head and tails of data"
   ],
   "metadata": {
    "collapsed": false
   }
  },
  {
   "cell_type": "code",
   "execution_count": 5,
   "outputs": [
    {
     "data": {
      "text/plain": "      FL_DATE  DEP_HOUR MKT_UNIQUE_CARRIER  MKT_CARRIER_FL_NUM  \\\n0  2022-01-01         6                 AA                   1   \n1  2022-01-01         8                 AA                  10   \n2  2022-01-01         0                 AA                1003   \n3  2022-01-01         9                 AA                1004   \n4  2022-01-01        23                 AA                1007   \n\n  OP_UNIQUE_CARRIER  OP_CARRIER_FL_NUM TAIL_NUM ORIGIN DEST  \\\n0                AA                  1   N106NN    JFK  LAX   \n1                AA                 10   N101NN    LAX  JFK   \n2                AA               1003   N830NN    STL  ORD   \n3                AA               1004   N805NN    ORD  FLL   \n4                AA               1007   N870NN    CLT  STL   \n\n              DEP_TIME  ... DEW_POINT  REL_HUMIDITY  ALTIMETER  \\\n0  2022-01-01 06:57:00  ...      8.89         96.69      29.92   \n1  2022-01-01 08:57:00  ...      0.61         44.92      29.87   \n2  2022-01-01 00:00:00  ...       NaN           NaN        NaN   \n3  2022-01-01 09:37:00  ...      0.61         89.09      29.75   \n4  2022-01-01 23:00:00  ...     18.28         89.81      29.79   \n\n   LOWEST_CLOUD_LAYER  N_CLOUD_LAYER  LOW_LEVEL_CLOUD  MID_LEVEL_CLOUD  \\\n0               300.0            2.0              1.0              0.0   \n1              4800.0            1.0              1.0              0.0   \n2                 NaN            NaN              NaN              NaN   \n3               500.0            1.0              1.0              0.0   \n4              1500.0            3.0              1.0              0.0   \n\n   HIGH_LEVEL_CLOUD  CLOUD_COVER ACTIVE_WEATHER  \n0               0.0          4.0            0.0  \n1               0.0          2.0            0.0  \n2               NaN          NaN            NaN  \n3               0.0          4.0            1.0  \n4               1.0          3.0            0.0  \n\n[5 rows x 40 columns]",
      "text/html": "<div>\n<style scoped>\n    .dataframe tbody tr th:only-of-type {\n        vertical-align: middle;\n    }\n\n    .dataframe tbody tr th {\n        vertical-align: top;\n    }\n\n    .dataframe thead th {\n        text-align: right;\n    }\n</style>\n<table border=\"1\" class=\"dataframe\">\n  <thead>\n    <tr style=\"text-align: right;\">\n      <th></th>\n      <th>FL_DATE</th>\n      <th>DEP_HOUR</th>\n      <th>MKT_UNIQUE_CARRIER</th>\n      <th>MKT_CARRIER_FL_NUM</th>\n      <th>OP_UNIQUE_CARRIER</th>\n      <th>OP_CARRIER_FL_NUM</th>\n      <th>TAIL_NUM</th>\n      <th>ORIGIN</th>\n      <th>DEST</th>\n      <th>DEP_TIME</th>\n      <th>...</th>\n      <th>DEW_POINT</th>\n      <th>REL_HUMIDITY</th>\n      <th>ALTIMETER</th>\n      <th>LOWEST_CLOUD_LAYER</th>\n      <th>N_CLOUD_LAYER</th>\n      <th>LOW_LEVEL_CLOUD</th>\n      <th>MID_LEVEL_CLOUD</th>\n      <th>HIGH_LEVEL_CLOUD</th>\n      <th>CLOUD_COVER</th>\n      <th>ACTIVE_WEATHER</th>\n    </tr>\n  </thead>\n  <tbody>\n    <tr>\n      <th>0</th>\n      <td>2022-01-01</td>\n      <td>6</td>\n      <td>AA</td>\n      <td>1</td>\n      <td>AA</td>\n      <td>1</td>\n      <td>N106NN</td>\n      <td>JFK</td>\n      <td>LAX</td>\n      <td>2022-01-01 06:57:00</td>\n      <td>...</td>\n      <td>8.89</td>\n      <td>96.69</td>\n      <td>29.92</td>\n      <td>300.0</td>\n      <td>2.0</td>\n      <td>1.0</td>\n      <td>0.0</td>\n      <td>0.0</td>\n      <td>4.0</td>\n      <td>0.0</td>\n    </tr>\n    <tr>\n      <th>1</th>\n      <td>2022-01-01</td>\n      <td>8</td>\n      <td>AA</td>\n      <td>10</td>\n      <td>AA</td>\n      <td>10</td>\n      <td>N101NN</td>\n      <td>LAX</td>\n      <td>JFK</td>\n      <td>2022-01-01 08:57:00</td>\n      <td>...</td>\n      <td>0.61</td>\n      <td>44.92</td>\n      <td>29.87</td>\n      <td>4800.0</td>\n      <td>1.0</td>\n      <td>1.0</td>\n      <td>0.0</td>\n      <td>0.0</td>\n      <td>2.0</td>\n      <td>0.0</td>\n    </tr>\n    <tr>\n      <th>2</th>\n      <td>2022-01-01</td>\n      <td>0</td>\n      <td>AA</td>\n      <td>1003</td>\n      <td>AA</td>\n      <td>1003</td>\n      <td>N830NN</td>\n      <td>STL</td>\n      <td>ORD</td>\n      <td>2022-01-01 00:00:00</td>\n      <td>...</td>\n      <td>NaN</td>\n      <td>NaN</td>\n      <td>NaN</td>\n      <td>NaN</td>\n      <td>NaN</td>\n      <td>NaN</td>\n      <td>NaN</td>\n      <td>NaN</td>\n      <td>NaN</td>\n      <td>NaN</td>\n    </tr>\n    <tr>\n      <th>3</th>\n      <td>2022-01-01</td>\n      <td>9</td>\n      <td>AA</td>\n      <td>1004</td>\n      <td>AA</td>\n      <td>1004</td>\n      <td>N805NN</td>\n      <td>ORD</td>\n      <td>FLL</td>\n      <td>2022-01-01 09:37:00</td>\n      <td>...</td>\n      <td>0.61</td>\n      <td>89.09</td>\n      <td>29.75</td>\n      <td>500.0</td>\n      <td>1.0</td>\n      <td>1.0</td>\n      <td>0.0</td>\n      <td>0.0</td>\n      <td>4.0</td>\n      <td>1.0</td>\n    </tr>\n    <tr>\n      <th>4</th>\n      <td>2022-01-01</td>\n      <td>23</td>\n      <td>AA</td>\n      <td>1007</td>\n      <td>AA</td>\n      <td>1007</td>\n      <td>N870NN</td>\n      <td>CLT</td>\n      <td>STL</td>\n      <td>2022-01-01 23:00:00</td>\n      <td>...</td>\n      <td>18.28</td>\n      <td>89.81</td>\n      <td>29.79</td>\n      <td>1500.0</td>\n      <td>3.0</td>\n      <td>1.0</td>\n      <td>0.0</td>\n      <td>1.0</td>\n      <td>3.0</td>\n      <td>0.0</td>\n    </tr>\n  </tbody>\n</table>\n<p>5 rows × 40 columns</p>\n</div>"
     },
     "execution_count": 5,
     "metadata": {},
     "output_type": "execute_result"
    }
   ],
   "source": [
    "df.head()"
   ],
   "metadata": {
    "collapsed": false,
    "ExecuteTime": {
     "start_time": "2023-04-18T11:55:33.931167Z",
     "end_time": "2023-04-18T11:55:34.011434Z"
    }
   }
  },
  {
   "cell_type": "code",
   "execution_count": 6,
   "outputs": [
    {
     "data": {
      "text/plain": "            FL_DATE  DEP_HOUR MKT_UNIQUE_CARRIER  MKT_CARRIER_FL_NUM  \\\n6954631  2022-12-31        12                 WN                 994   \n6954632  2022-12-31        19                 WN                 997   \n6954633  2022-12-31         0                 WN                 998   \n6954634  2022-12-31        10                 WN                 999   \n6954635  2022-12-31         7                 WN                 999   \n\n        OP_UNIQUE_CARRIER  OP_CARRIER_FL_NUM TAIL_NUM ORIGIN DEST  \\\n6954631                WN                994   N8566Z    PHX  ABQ   \n6954632                WN                997   N486WN    MEM  MCO   \n6954633                WN                998   N448WN    SFO  BUR   \n6954634                WN                999   N7836A    ATL  MIA   \n6954635                WN                999   N7836A    IND  ATL   \n\n                    DEP_TIME  ... DEW_POINT  REL_HUMIDITY  ALTIMETER  \\\n6954631  2022-12-31 12:37:00  ...      8.28         85.48      30.02   \n6954632  2022-12-31 19:19:00  ...     11.72         90.29      29.95   \n6954633  2022-12-31 00:00:00  ...     14.39         89.52      29.91   \n6954634  2022-12-31 10:23:00  ...     12.22         93.32      30.02   \n6954635  2022-12-31 07:57:00  ...      6.72         96.63      29.89   \n\n         LOWEST_CLOUD_LAYER  N_CLOUD_LAYER  LOW_LEVEL_CLOUD  MID_LEVEL_CLOUD  \\\n6954631              5000.0            2.0              1.0              1.0   \n6954632               700.0            1.0              1.0              0.0   \n6954633               700.0            3.0              1.0              0.0   \n6954634              8500.0            3.0              0.0              1.0   \n6954635               400.0            1.0              1.0              0.0   \n\n         HIGH_LEVEL_CLOUD  CLOUD_COVER ACTIVE_WEATHER  \n6954631               0.0          3.0            0.0  \n6954632               0.0          4.0            0.0  \n6954633               0.0          4.0            0.0  \n6954634               1.0          4.0            0.0  \n6954635               0.0          4.0            1.0  \n\n[5 rows x 40 columns]",
      "text/html": "<div>\n<style scoped>\n    .dataframe tbody tr th:only-of-type {\n        vertical-align: middle;\n    }\n\n    .dataframe tbody tr th {\n        vertical-align: top;\n    }\n\n    .dataframe thead th {\n        text-align: right;\n    }\n</style>\n<table border=\"1\" class=\"dataframe\">\n  <thead>\n    <tr style=\"text-align: right;\">\n      <th></th>\n      <th>FL_DATE</th>\n      <th>DEP_HOUR</th>\n      <th>MKT_UNIQUE_CARRIER</th>\n      <th>MKT_CARRIER_FL_NUM</th>\n      <th>OP_UNIQUE_CARRIER</th>\n      <th>OP_CARRIER_FL_NUM</th>\n      <th>TAIL_NUM</th>\n      <th>ORIGIN</th>\n      <th>DEST</th>\n      <th>DEP_TIME</th>\n      <th>...</th>\n      <th>DEW_POINT</th>\n      <th>REL_HUMIDITY</th>\n      <th>ALTIMETER</th>\n      <th>LOWEST_CLOUD_LAYER</th>\n      <th>N_CLOUD_LAYER</th>\n      <th>LOW_LEVEL_CLOUD</th>\n      <th>MID_LEVEL_CLOUD</th>\n      <th>HIGH_LEVEL_CLOUD</th>\n      <th>CLOUD_COVER</th>\n      <th>ACTIVE_WEATHER</th>\n    </tr>\n  </thead>\n  <tbody>\n    <tr>\n      <th>6954631</th>\n      <td>2022-12-31</td>\n      <td>12</td>\n      <td>WN</td>\n      <td>994</td>\n      <td>WN</td>\n      <td>994</td>\n      <td>N8566Z</td>\n      <td>PHX</td>\n      <td>ABQ</td>\n      <td>2022-12-31 12:37:00</td>\n      <td>...</td>\n      <td>8.28</td>\n      <td>85.48</td>\n      <td>30.02</td>\n      <td>5000.0</td>\n      <td>2.0</td>\n      <td>1.0</td>\n      <td>1.0</td>\n      <td>0.0</td>\n      <td>3.0</td>\n      <td>0.0</td>\n    </tr>\n    <tr>\n      <th>6954632</th>\n      <td>2022-12-31</td>\n      <td>19</td>\n      <td>WN</td>\n      <td>997</td>\n      <td>WN</td>\n      <td>997</td>\n      <td>N486WN</td>\n      <td>MEM</td>\n      <td>MCO</td>\n      <td>2022-12-31 19:19:00</td>\n      <td>...</td>\n      <td>11.72</td>\n      <td>90.29</td>\n      <td>29.95</td>\n      <td>700.0</td>\n      <td>1.0</td>\n      <td>1.0</td>\n      <td>0.0</td>\n      <td>0.0</td>\n      <td>4.0</td>\n      <td>0.0</td>\n    </tr>\n    <tr>\n      <th>6954633</th>\n      <td>2022-12-31</td>\n      <td>0</td>\n      <td>WN</td>\n      <td>998</td>\n      <td>WN</td>\n      <td>998</td>\n      <td>N448WN</td>\n      <td>SFO</td>\n      <td>BUR</td>\n      <td>2022-12-31 00:00:00</td>\n      <td>...</td>\n      <td>14.39</td>\n      <td>89.52</td>\n      <td>29.91</td>\n      <td>700.0</td>\n      <td>3.0</td>\n      <td>1.0</td>\n      <td>0.0</td>\n      <td>0.0</td>\n      <td>4.0</td>\n      <td>0.0</td>\n    </tr>\n    <tr>\n      <th>6954634</th>\n      <td>2022-12-31</td>\n      <td>10</td>\n      <td>WN</td>\n      <td>999</td>\n      <td>WN</td>\n      <td>999</td>\n      <td>N7836A</td>\n      <td>ATL</td>\n      <td>MIA</td>\n      <td>2022-12-31 10:23:00</td>\n      <td>...</td>\n      <td>12.22</td>\n      <td>93.32</td>\n      <td>30.02</td>\n      <td>8500.0</td>\n      <td>3.0</td>\n      <td>0.0</td>\n      <td>1.0</td>\n      <td>1.0</td>\n      <td>4.0</td>\n      <td>0.0</td>\n    </tr>\n    <tr>\n      <th>6954635</th>\n      <td>2022-12-31</td>\n      <td>7</td>\n      <td>WN</td>\n      <td>999</td>\n      <td>WN</td>\n      <td>999</td>\n      <td>N7836A</td>\n      <td>IND</td>\n      <td>ATL</td>\n      <td>2022-12-31 07:57:00</td>\n      <td>...</td>\n      <td>6.72</td>\n      <td>96.63</td>\n      <td>29.89</td>\n      <td>400.0</td>\n      <td>1.0</td>\n      <td>1.0</td>\n      <td>0.0</td>\n      <td>0.0</td>\n      <td>4.0</td>\n      <td>1.0</td>\n    </tr>\n  </tbody>\n</table>\n<p>5 rows × 40 columns</p>\n</div>"
     },
     "execution_count": 6,
     "metadata": {},
     "output_type": "execute_result"
    }
   ],
   "source": [
    "df.tail()"
   ],
   "metadata": {
    "collapsed": false,
    "ExecuteTime": {
     "start_time": "2023-04-18T11:55:38.555049Z",
     "end_time": "2023-04-18T11:55:38.579829Z"
    }
   }
  },
  {
   "cell_type": "markdown",
   "source": [
    "# Checking some columns to see how to prepare some values"
   ],
   "metadata": {
    "collapsed": false
   }
  },
  {
   "cell_type": "markdown",
   "source": [
    "The format function helps to see this numbers as Floats: `apply(lambda x: format(x, 'f'))`"
   ],
   "metadata": {
    "collapsed": false
   }
  },
  {
   "cell_type": "code",
   "execution_count": 7,
   "outputs": [
    {
     "data": {
      "text/plain": "count    6954636.000000\nmean        2503.919087\nstd         1718.438388\nmin            1.000000\n25%         1084.000000\n50%         2181.000000\n75%         3762.000000\nmax         9680.000000\nName: OP_CARRIER_FL_NUM, dtype: object"
     },
     "execution_count": 7,
     "metadata": {},
     "output_type": "execute_result"
    }
   ],
   "source": [
    "df['OP_CARRIER_FL_NUM'].describe().apply(lambda x: format(x, 'f'))"
   ],
   "metadata": {
    "collapsed": false,
    "ExecuteTime": {
     "start_time": "2023-04-18T11:55:46.498439Z",
     "end_time": "2023-04-18T11:55:46.596611Z"
    }
   }
  },
  {
   "cell_type": "code",
   "execution_count": 16,
   "outputs": [
    {
     "data": {
      "text/plain": "count    6954636.000000\nmean        2503.922283\nstd         1718.422266\nmin            1.000000\n25%         1084.000000\n50%         2181.000000\n75%         3762.000000\nmax         9680.000000\nName: MKT_CARRIER_FL_NUM, dtype: object"
     },
     "execution_count": 16,
     "metadata": {},
     "output_type": "execute_result"
    }
   ],
   "source": [
    "df['MKT_CARRIER_FL_NUM'].describe().apply(lambda x: format(x, 'f'))"
   ],
   "metadata": {
    "collapsed": false,
    "ExecuteTime": {
     "start_time": "2023-04-14T13:03:29.922562Z",
     "end_time": "2023-04-14T13:03:30.291965Z"
    }
   }
  },
  {
   "cell_type": "markdown",
   "source": [
    "## Review and change Columns"
   ],
   "metadata": {
    "collapsed": false
   }
  },
  {
   "cell_type": "code",
   "execution_count": 8,
   "outputs": [
    {
     "data": {
      "text/plain": "['FL_DATE',\n 'DEP_HOUR',\n 'MKT_UNIQUE_CARRIER',\n 'MKT_CARRIER_FL_NUM',\n 'OP_UNIQUE_CARRIER',\n 'OP_CARRIER_FL_NUM',\n 'TAIL_NUM',\n 'ORIGIN',\n 'DEST',\n 'DEP_TIME',\n 'CRS_DEP_TIME',\n 'TAXI_OUT',\n 'DEP_DELAY',\n 'AIR_TIME',\n 'DISTANCE',\n 'CANCELLED',\n 'LATITUDE',\n 'LONGITUDE',\n 'ELEVATION',\n 'MESONET_STATION',\n 'YEAR OF MANUFACTURE',\n 'MANUFACTURER',\n 'ICAO TYPE',\n 'RANGE',\n 'WIDTH',\n 'WIND_DIR',\n 'WIND_SPD',\n 'WIND_GUST',\n 'VISIBILITY',\n 'TEMPERATURE',\n 'DEW_POINT',\n 'REL_HUMIDITY',\n 'ALTIMETER',\n 'LOWEST_CLOUD_LAYER',\n 'N_CLOUD_LAYER',\n 'LOW_LEVEL_CLOUD',\n 'MID_LEVEL_CLOUD',\n 'HIGH_LEVEL_CLOUD',\n 'CLOUD_COVER',\n 'ACTIVE_WEATHER']"
     },
     "execution_count": 8,
     "metadata": {},
     "output_type": "execute_result"
    }
   ],
   "source": [
    "columns = df.columns.to_list()\n",
    "columns"
   ],
   "metadata": {
    "collapsed": false,
    "ExecuteTime": {
     "start_time": "2023-04-18T11:55:50.380413Z",
     "end_time": "2023-04-18T11:55:50.392618Z"
    }
   }
  },
  {
   "cell_type": "code",
   "execution_count": 9,
   "outputs": [],
   "source": [
    "columns_new_name = { col:col.replace(' ','_').lower() for col in columns}"
   ],
   "metadata": {
    "collapsed": false,
    "ExecuteTime": {
     "start_time": "2023-04-18T11:55:52.893757Z",
     "end_time": "2023-04-18T11:55:52.898706Z"
    }
   }
  },
  {
   "cell_type": "code",
   "execution_count": 10,
   "outputs": [
    {
     "data": {
      "text/plain": "{'FL_DATE': 'fl_date',\n 'DEP_HOUR': 'dep_hour',\n 'MKT_UNIQUE_CARRIER': 'mkt_unique_carrier',\n 'MKT_CARRIER_FL_NUM': 'mkt_carrier_fl_num',\n 'OP_UNIQUE_CARRIER': 'op_unique_carrier',\n 'OP_CARRIER_FL_NUM': 'op_carrier_fl_num',\n 'TAIL_NUM': 'tail_num',\n 'ORIGIN': 'origin',\n 'DEST': 'dest',\n 'DEP_TIME': 'dep_time',\n 'CRS_DEP_TIME': 'crs_dep_time',\n 'TAXI_OUT': 'taxi_out',\n 'DEP_DELAY': 'dep_delay',\n 'AIR_TIME': 'air_time',\n 'DISTANCE': 'distance',\n 'CANCELLED': 'cancelled',\n 'LATITUDE': 'latitude',\n 'LONGITUDE': 'longitude',\n 'ELEVATION': 'elevation',\n 'MESONET_STATION': 'mesonet_station',\n 'YEAR OF MANUFACTURE': 'year_of_manufacture',\n 'MANUFACTURER': 'manufacturer',\n 'ICAO TYPE': 'icao_type',\n 'RANGE': 'range',\n 'WIDTH': 'width',\n 'WIND_DIR': 'wind_dir',\n 'WIND_SPD': 'wind_spd',\n 'WIND_GUST': 'wind_gust',\n 'VISIBILITY': 'visibility',\n 'TEMPERATURE': 'temperature',\n 'DEW_POINT': 'dew_point',\n 'REL_HUMIDITY': 'rel_humidity',\n 'ALTIMETER': 'altimeter',\n 'LOWEST_CLOUD_LAYER': 'lowest_cloud_layer',\n 'N_CLOUD_LAYER': 'n_cloud_layer',\n 'LOW_LEVEL_CLOUD': 'low_level_cloud',\n 'MID_LEVEL_CLOUD': 'mid_level_cloud',\n 'HIGH_LEVEL_CLOUD': 'high_level_cloud',\n 'CLOUD_COVER': 'cloud_cover',\n 'ACTIVE_WEATHER': 'active_weather'}"
     },
     "execution_count": 10,
     "metadata": {},
     "output_type": "execute_result"
    }
   ],
   "source": [
    "columns_new_name"
   ],
   "metadata": {
    "collapsed": false,
    "ExecuteTime": {
     "start_time": "2023-04-18T11:55:54.686909Z",
     "end_time": "2023-04-18T11:55:54.693958Z"
    }
   }
  },
  {
   "cell_type": "code",
   "execution_count": 11,
   "outputs": [
    {
     "name": "stdout",
     "output_type": "stream",
     "text": [
      "FL_DATE\n",
      "DEP_HOUR\n",
      "MKT_UNIQUE_CARRIER\n",
      "MKT_CARRIER_FL_NUM\n",
      "OP_UNIQUE_CARRIER\n",
      "OP_CARRIER_FL_NUM\n",
      "TAIL_NUM\n",
      "ORIGIN\n",
      "DEST\n",
      "DEP_TIME\n",
      "CRS_DEP_TIME\n",
      "TAXI_OUT\n",
      "DEP_DELAY\n",
      "AIR_TIME\n",
      "DISTANCE\n",
      "CANCELLED\n",
      "LATITUDE\n",
      "LONGITUDE\n",
      "ELEVATION\n",
      "MESONET_STATION\n",
      "YEAR OF MANUFACTURE\n",
      "MANUFACTURER\n",
      "ICAO TYPE\n",
      "RANGE\n",
      "WIDTH\n",
      "WIND_DIR\n",
      "WIND_SPD\n",
      "WIND_GUST\n",
      "VISIBILITY\n",
      "TEMPERATURE\n",
      "DEW_POINT\n",
      "REL_HUMIDITY\n",
      "ALTIMETER\n",
      "LOWEST_CLOUD_LAYER\n",
      "N_CLOUD_LAYER\n",
      "LOW_LEVEL_CLOUD\n",
      "MID_LEVEL_CLOUD\n",
      "HIGH_LEVEL_CLOUD\n",
      "CLOUD_COVER\n",
      "ACTIVE_WEATHER\n",
      "\n",
      "fl_date,dep_hour,mkt_unique_carrier,mkt_carrier_fl_num,op_unique_carrier,op_carrier_fl_num,tail_num,origin,dest,dep_time,crs_dep_time,taxi_out,dep_delay,air_time,distance,cancelled,latitude,longitude,elevation,mesonet_station,year of manufacture,manufacturer,icao type,range,width,wind_dir,wind_spd,wind_gust,visibility,temperature,dew_point,rel_humidity,altimeter,lowest_cloud_layer,n_cloud_layer,low_level_cloud,mid_level_cloud,high_level_cloud,cloud_cover,active_weather,\n",
      "\n",
      "fl_date\n",
      "dep_hour\n",
      "mkt_unique_carrier\n",
      "mkt_carrier_fl_num\n",
      "op_unique_carrier\n",
      "op_carrier_fl_num\n",
      "tail_num\n",
      "origin\n",
      "dest\n",
      "dep_time\n",
      "crs_dep_time\n",
      "taxi_out\n",
      "dep_delay\n",
      "air_time\n",
      "distance\n",
      "cancelled\n",
      "latitude\n",
      "longitude\n",
      "elevation\n",
      "mesonet_station\n",
      "year of manufacture\n",
      "manufacturer\n",
      "icao type\n",
      "range\n",
      "width\n",
      "wind_dir\n",
      "wind_spd\n",
      "wind_gust\n",
      "visibility\n",
      "temperature\n",
      "dew_point\n",
      "rel_humidity\n",
      "altimeter\n",
      "lowest_cloud_layer\n",
      "n_cloud_layer\n",
      "low_level_cloud\n",
      "mid_level_cloud\n",
      "high_level_cloud\n",
      "cloud_cover\n",
      "active_weather\n",
      "fl_date\n",
      "dep_hour\n",
      "mkt_unique_carrier\n",
      "mkt_carrier_fl_num\n",
      "op_unique_carrier\n",
      "op_carrier_fl_num\n",
      "tail_num\n",
      "origin\n",
      "dest\n",
      "dep_time\n",
      "crs_dep_time\n",
      "taxi_out\n",
      "dep_delay\n",
      "air_time\n",
      "distance\n",
      "cancelled\n",
      "latitude\n",
      "longitude\n",
      "elevation\n",
      "mesonet_station\n",
      "year of manufacture\n",
      "manufacturer\n",
      "icao type\n",
      "range\n",
      "width\n",
      "wind_dir\n",
      "wind_spd\n",
      "wind_gust\n",
      "visibility\n",
      "temperature\n",
      "dew_point\n",
      "rel_humidity\n",
      "altimeter\n",
      "lowest_cloud_layer\n",
      "n_cloud_layer\n",
      "low_level_cloud\n",
      "mid_level_cloud\n",
      "high_level_cloud\n",
      "cloud_cover\n",
      "active_weather\n",
      "\n"
     ]
    }
   ],
   "source": [
    "with open('columns.txt', 'a+') as file:\n",
    "    # Write\n",
    "    for col in columns:\n",
    "        file.write(col.lower())\n",
    "        file.write('\\n')\n",
    "\n",
    "    # move cursor to the beginning of the file\n",
    "    file.seek(0)\n",
    "\n",
    "    # read from file\n",
    "    file_contents = file.read()\n",
    "    print(file_contents)\n"
   ],
   "metadata": {
    "collapsed": false,
    "ExecuteTime": {
     "start_time": "2023-04-18T11:56:00.191463Z",
     "end_time": "2023-04-18T11:56:00.196233Z"
    }
   }
  },
  {
   "cell_type": "code",
   "execution_count": 12,
   "outputs": [
    {
     "name": "stdout",
     "output_type": "stream",
     "text": [
      "<class 'pandas.core.frame.DataFrame'>\n",
      "RangeIndex: 6954636 entries, 0 to 6954635\n",
      "Data columns (total 40 columns):\n",
      " #   Column               Dtype  \n",
      "---  ------               -----  \n",
      " 0   FL_DATE              object \n",
      " 1   DEP_HOUR             int64  \n",
      " 2   MKT_UNIQUE_CARRIER   object \n",
      " 3   MKT_CARRIER_FL_NUM   int64  \n",
      " 4   OP_UNIQUE_CARRIER    object \n",
      " 5   OP_CARRIER_FL_NUM    int64  \n",
      " 6   TAIL_NUM             object \n",
      " 7   ORIGIN               object \n",
      " 8   DEST                 object \n",
      " 9   DEP_TIME             object \n",
      " 10  CRS_DEP_TIME         object \n",
      " 11  TAXI_OUT             int64  \n",
      " 12  DEP_DELAY            int64  \n",
      " 13  AIR_TIME             int64  \n",
      " 14  DISTANCE             int64  \n",
      " 15  CANCELLED            int64  \n",
      " 16  LATITUDE             float64\n",
      " 17  LONGITUDE            float64\n",
      " 18  ELEVATION            int64  \n",
      " 19  MESONET_STATION      object \n",
      " 20  YEAR OF MANUFACTURE  int64  \n",
      " 21  MANUFACTURER         object \n",
      " 22  ICAO TYPE            object \n",
      " 23  RANGE                object \n",
      " 24  WIDTH                object \n",
      " 25  WIND_DIR             float64\n",
      " 26  WIND_SPD             float64\n",
      " 27  WIND_GUST            float64\n",
      " 28  VISIBILITY           float64\n",
      " 29  TEMPERATURE          float64\n",
      " 30  DEW_POINT            float64\n",
      " 31  REL_HUMIDITY         float64\n",
      " 32  ALTIMETER            float64\n",
      " 33  LOWEST_CLOUD_LAYER   float64\n",
      " 34  N_CLOUD_LAYER        float64\n",
      " 35  LOW_LEVEL_CLOUD      float64\n",
      " 36  MID_LEVEL_CLOUD      float64\n",
      " 37  HIGH_LEVEL_CLOUD     float64\n",
      " 38  CLOUD_COVER          float64\n",
      " 39  ACTIVE_WEATHER       float64\n",
      "dtypes: float64(17), int64(10), object(13)\n",
      "memory usage: 2.1+ GB\n"
     ]
    }
   ],
   "source": [
    "df.info()"
   ],
   "metadata": {
    "collapsed": false,
    "ExecuteTime": {
     "start_time": "2023-04-18T11:56:02.034145Z",
     "end_time": "2023-04-18T11:56:02.048995Z"
    }
   }
  },
  {
   "cell_type": "code",
   "execution_count": 13,
   "outputs": [],
   "source": [
    "df = df.rename(columns=columns_new_name)"
   ],
   "metadata": {
    "collapsed": false,
    "ExecuteTime": {
     "start_time": "2023-04-18T11:56:15.384211Z",
     "end_time": "2023-04-18T11:56:16.209287Z"
    }
   }
  },
  {
   "cell_type": "code",
   "execution_count": 14,
   "outputs": [
    {
     "data": {
      "text/plain": "Index(['fl_date', 'dep_hour', 'mkt_unique_carrier', 'mkt_carrier_fl_num',\n       'op_unique_carrier', 'op_carrier_fl_num', 'tail_num', 'origin', 'dest',\n       'dep_time', 'crs_dep_time', 'taxi_out', 'dep_delay', 'air_time',\n       'distance', 'cancelled', 'latitude', 'longitude', 'elevation',\n       'mesonet_station', 'year_of_manufacture', 'manufacturer', 'icao_type',\n       'range', 'width', 'wind_dir', 'wind_spd', 'wind_gust', 'visibility',\n       'temperature', 'dew_point', 'rel_humidity', 'altimeter',\n       'lowest_cloud_layer', 'n_cloud_layer', 'low_level_cloud',\n       'mid_level_cloud', 'high_level_cloud', 'cloud_cover', 'active_weather'],\n      dtype='object')"
     },
     "execution_count": 14,
     "metadata": {},
     "output_type": "execute_result"
    }
   ],
   "source": [
    "df.columns"
   ],
   "metadata": {
    "collapsed": false,
    "ExecuteTime": {
     "start_time": "2023-04-18T11:56:18.139651Z",
     "end_time": "2023-04-18T11:56:18.142521Z"
    }
   }
  },
  {
   "cell_type": "markdown",
   "source": [
    "### Save to CSV"
   ],
   "metadata": {
    "collapsed": false
   }
  },
  {
   "cell_type": "code",
   "execution_count": 15,
   "outputs": [],
   "source": [
    "df.to_csv('../postgres-volume/stage_departures.csv', index=False)"
   ],
   "metadata": {
    "collapsed": false,
    "ExecuteTime": {
     "start_time": "2023-04-18T11:56:58.606470Z",
     "end_time": "2023-04-18T11:57:49.860536Z"
    }
   }
  },
  {
   "cell_type": "code",
   "execution_count": 33,
   "outputs": [
    {
     "name": "stdout",
     "output_type": "stream",
     "text": [
      "columns.txt             postgres_departures.sql prework_etl.ipynb\r\n"
     ]
    }
   ],
   "source": [
    "!ls"
   ],
   "metadata": {
    "collapsed": false,
    "ExecuteTime": {
     "start_time": "2023-04-14T21:03:03.517545Z",
     "end_time": "2023-04-14T21:03:03.865188Z"
    }
   }
  },
  {
   "cell_type": "markdown",
   "source": [
    "# Stations"
   ],
   "metadata": {
    "collapsed": false
   }
  },
  {
   "cell_type": "code",
   "execution_count": 2,
   "outputs": [],
   "source": [
    "stations_path = '../data/csvFiles/Stations.csv'\n",
    "df_stations = pd.read_csv(stations_path)"
   ],
   "metadata": {
    "collapsed": false,
    "ExecuteTime": {
     "start_time": "2023-04-24T12:34:21.953184Z",
     "end_time": "2023-04-24T12:34:21.962287Z"
    }
   }
  },
  {
   "cell_type": "code",
   "execution_count": 3,
   "outputs": [
    {
     "data": {
      "text/plain": "   AIRPORT_ID AIRPORT                 DISPLAY_AIRPORT_NAME  \\\n0       14256     PSG           Petersburg James A Johnson   \n1       10299     ANC  Ted Stevens Anchorage International   \n2       12819     KTN              Ketchikan International   \n3       13873     OME                         Nome Airport   \n4       10551     BET                       Bethel Airport   \n5       10926     CDV                Merle K Mudhole Smith   \n6       10245     AKN                  King Salmon Airport   \n7       14828     SIT                Sitka Rocky Gutierrez   \n8       11630     FAI              Fairbanks International   \n9       13970     OTZ                  Ralph Wien Memorial   \n\n  DISPLAY_AIRPORT_CITY_NAME_FULL AIRPORT_STATE_NAME AIRPORT_STATE_CODE  \\\n0                 Petersburg, AK             Alaska                 AK   \n1                  Anchorage, AK             Alaska                 AK   \n2                  Ketchikan, AK             Alaska                 AK   \n3                       Nome, AK             Alaska                 AK   \n4                     Bethel, AK             Alaska                 AK   \n5                    Cordova, AK             Alaska                 AK   \n6                King Salmon, AK             Alaska                 AK   \n7                      Sitka, AK             Alaska                 AK   \n8                  Fairbanks, AK             Alaska                 AK   \n9                   Kotzebue, AK             Alaska                 AK   \n\n    LATITUDE  LONGITUDE  ELEVATION  ICAO IATA  FAA MESONET_STATION  \n0  56.801388 -132.94610        111  PAPG  PSG  PSG            PAPG  \n1  61.174168 -149.99806        152  PANC  ANC  ANC            PANC  \n2  55.354168 -131.71110         89  PAKT  KTN  KTN            PAKT  \n3  64.510560 -165.44472         37  PAOM  OME  OME            PAOM  \n4  60.778610 -161.83722        126  PABE  BET  BET            PABE  \n5  60.491665 -145.47750         54  PACV  CDV  CDV            PACV  \n6  58.676388 -156.64860         73  PAKN  AKN  AKN            PAKN  \n7  57.046944 -135.36111         21  PASI  SIT  SIT            PASI  \n8  64.815280 -147.85667        439  PAFA  FAI  FAI            PAFA  \n9  66.884720 -162.59805         14  PAOT  OTZ  OTZ            PAOT  ",
      "text/html": "<div>\n<style scoped>\n    .dataframe tbody tr th:only-of-type {\n        vertical-align: middle;\n    }\n\n    .dataframe tbody tr th {\n        vertical-align: top;\n    }\n\n    .dataframe thead th {\n        text-align: right;\n    }\n</style>\n<table border=\"1\" class=\"dataframe\">\n  <thead>\n    <tr style=\"text-align: right;\">\n      <th></th>\n      <th>AIRPORT_ID</th>\n      <th>AIRPORT</th>\n      <th>DISPLAY_AIRPORT_NAME</th>\n      <th>DISPLAY_AIRPORT_CITY_NAME_FULL</th>\n      <th>AIRPORT_STATE_NAME</th>\n      <th>AIRPORT_STATE_CODE</th>\n      <th>LATITUDE</th>\n      <th>LONGITUDE</th>\n      <th>ELEVATION</th>\n      <th>ICAO</th>\n      <th>IATA</th>\n      <th>FAA</th>\n      <th>MESONET_STATION</th>\n    </tr>\n  </thead>\n  <tbody>\n    <tr>\n      <th>0</th>\n      <td>14256</td>\n      <td>PSG</td>\n      <td>Petersburg James A Johnson</td>\n      <td>Petersburg, AK</td>\n      <td>Alaska</td>\n      <td>AK</td>\n      <td>56.801388</td>\n      <td>-132.94610</td>\n      <td>111</td>\n      <td>PAPG</td>\n      <td>PSG</td>\n      <td>PSG</td>\n      <td>PAPG</td>\n    </tr>\n    <tr>\n      <th>1</th>\n      <td>10299</td>\n      <td>ANC</td>\n      <td>Ted Stevens Anchorage International</td>\n      <td>Anchorage, AK</td>\n      <td>Alaska</td>\n      <td>AK</td>\n      <td>61.174168</td>\n      <td>-149.99806</td>\n      <td>152</td>\n      <td>PANC</td>\n      <td>ANC</td>\n      <td>ANC</td>\n      <td>PANC</td>\n    </tr>\n    <tr>\n      <th>2</th>\n      <td>12819</td>\n      <td>KTN</td>\n      <td>Ketchikan International</td>\n      <td>Ketchikan, AK</td>\n      <td>Alaska</td>\n      <td>AK</td>\n      <td>55.354168</td>\n      <td>-131.71110</td>\n      <td>89</td>\n      <td>PAKT</td>\n      <td>KTN</td>\n      <td>KTN</td>\n      <td>PAKT</td>\n    </tr>\n    <tr>\n      <th>3</th>\n      <td>13873</td>\n      <td>OME</td>\n      <td>Nome Airport</td>\n      <td>Nome, AK</td>\n      <td>Alaska</td>\n      <td>AK</td>\n      <td>64.510560</td>\n      <td>-165.44472</td>\n      <td>37</td>\n      <td>PAOM</td>\n      <td>OME</td>\n      <td>OME</td>\n      <td>PAOM</td>\n    </tr>\n    <tr>\n      <th>4</th>\n      <td>10551</td>\n      <td>BET</td>\n      <td>Bethel Airport</td>\n      <td>Bethel, AK</td>\n      <td>Alaska</td>\n      <td>AK</td>\n      <td>60.778610</td>\n      <td>-161.83722</td>\n      <td>126</td>\n      <td>PABE</td>\n      <td>BET</td>\n      <td>BET</td>\n      <td>PABE</td>\n    </tr>\n    <tr>\n      <th>5</th>\n      <td>10926</td>\n      <td>CDV</td>\n      <td>Merle K Mudhole Smith</td>\n      <td>Cordova, AK</td>\n      <td>Alaska</td>\n      <td>AK</td>\n      <td>60.491665</td>\n      <td>-145.47750</td>\n      <td>54</td>\n      <td>PACV</td>\n      <td>CDV</td>\n      <td>CDV</td>\n      <td>PACV</td>\n    </tr>\n    <tr>\n      <th>6</th>\n      <td>10245</td>\n      <td>AKN</td>\n      <td>King Salmon Airport</td>\n      <td>King Salmon, AK</td>\n      <td>Alaska</td>\n      <td>AK</td>\n      <td>58.676388</td>\n      <td>-156.64860</td>\n      <td>73</td>\n      <td>PAKN</td>\n      <td>AKN</td>\n      <td>AKN</td>\n      <td>PAKN</td>\n    </tr>\n    <tr>\n      <th>7</th>\n      <td>14828</td>\n      <td>SIT</td>\n      <td>Sitka Rocky Gutierrez</td>\n      <td>Sitka, AK</td>\n      <td>Alaska</td>\n      <td>AK</td>\n      <td>57.046944</td>\n      <td>-135.36111</td>\n      <td>21</td>\n      <td>PASI</td>\n      <td>SIT</td>\n      <td>SIT</td>\n      <td>PASI</td>\n    </tr>\n    <tr>\n      <th>8</th>\n      <td>11630</td>\n      <td>FAI</td>\n      <td>Fairbanks International</td>\n      <td>Fairbanks, AK</td>\n      <td>Alaska</td>\n      <td>AK</td>\n      <td>64.815280</td>\n      <td>-147.85667</td>\n      <td>439</td>\n      <td>PAFA</td>\n      <td>FAI</td>\n      <td>FAI</td>\n      <td>PAFA</td>\n    </tr>\n    <tr>\n      <th>9</th>\n      <td>13970</td>\n      <td>OTZ</td>\n      <td>Ralph Wien Memorial</td>\n      <td>Kotzebue, AK</td>\n      <td>Alaska</td>\n      <td>AK</td>\n      <td>66.884720</td>\n      <td>-162.59805</td>\n      <td>14</td>\n      <td>PAOT</td>\n      <td>OTZ</td>\n      <td>OTZ</td>\n      <td>PAOT</td>\n    </tr>\n  </tbody>\n</table>\n</div>"
     },
     "execution_count": 3,
     "metadata": {},
     "output_type": "execute_result"
    }
   ],
   "source": [
    "df_stations.head(10)"
   ],
   "metadata": {
    "collapsed": false,
    "ExecuteTime": {
     "start_time": "2023-04-24T12:34:22.829653Z",
     "end_time": "2023-04-24T12:34:22.855953Z"
    }
   }
  },
  {
   "cell_type": "code",
   "execution_count": 4,
   "outputs": [],
   "source": [
    "result_json = df_stations.to_json(orient='columns')"
   ],
   "metadata": {
    "collapsed": false,
    "ExecuteTime": {
     "start_time": "2023-04-24T12:34:23.587349Z",
     "end_time": "2023-04-24T12:34:23.589663Z"
    }
   }
  },
  {
   "cell_type": "code",
   "execution_count": 5,
   "outputs": [
    {
     "data": {
      "text/plain": "'{\"AIRPORT_ID\": {\"0\": 14256, \"1\": 10299, \"2\": 12819, \"3\": 13873, \"4\": 10551, \"5\": 10926, \"6\": 10245, \"7\": 14828, \"8\": 11630, \"9\": 13970, \"10\": 10170, \"11\": 12523, \"12\": 15841, \"13\": 11336, \"14\": 11997, \"15\": 10754, \"16\": 15991, \"17\": 10165, \"18\": 14709, \"19\": 10599, \"20\": 13422, \"21\": 13277, \"22\": 12217, \"23\": 11308, \"24\": 15919, \"25\": 12992, \"26\": 15401, \"27\": 11778, \"28\": 15376, \"29\": 11695, \"30\": 10466, \"31\": 16218, \"32\": 14107, \"33\": 14237, \"34\": 10590, \"35\": 13796, \"36\": 14905, \"37\": 14893, \"38\": 10800, \"39\": 14716, \"40\": 14679, \"41\": 11638, \"42\": 14689, \"43\": 13891, \"44\": 14771, \"45\": 14698, \"46\": 14262, \"47\": 14487, \"48\": 14831, \"49\": 14908, \"50\": 13476, \"51\": 12954, \"52\": 10561, \"53\": 12892, \"54\": 10617, \"55\": 15023, \"56\": 10157, \"57\": 10372, \"58\": 11109, \"59\": 10272, \"60\": 11921, \"61\": 12012, \"62\": 11292, \"63\": 12094, \"64\": 11503, \"65\": 13502, \"66\": 11413, \"67\": 14288, \"68\": 10529, \"69\": 12320, \"70\": 14193, \"71\": 11481, \"72\": 11697, \"73\": 13204, \"74\": 14635, \"75\": 11252, \"76\": 11624, \"77\": 14112, \"78\": 15624, \"79\": 14986, \"80\": 14082, \"81\": 13303, \"82\": 12451, \"83\": 11953, \"84\": 15249, \"85\": 13360, \"86\": 15304, \"87\": 14027, \"88\": 14761, \"89\": 14685, \"90\": 11150, \"91\": 10146, \"92\": 15607, \"93\": 10208, \"94\": 10397, \"95\": 10731, \"96\": 13830, \"97\": 12173, \"98\": 12402, \"99\": 12982, \"100\": 12758, \"101\": 13211, \"102\": 15048, \"103\": 11725, \"104\": 11274, \"105\": 11003, \"106\": 10268, \"107\": 11423, \"108\": 12280, \"109\": 14113, \"110\": 13127, \"111\": 10713, \"112\": 15041, \"113\": 15389, \"114\": 10685, \"115\": 10676, \"116\": 13232, \"117\": 13930, \"118\": 14512, \"119\": 14952, \"120\": 14108, \"121\": 11067, \"122\": 13367, \"123\": 11288, \"124\": 11612, \"125\": 12339, \"126\": 11823, \"127\": 14696, \"128\": 11283, \"129\": 12278, \"130\": 12902, \"131\": 12255, \"132\": 14877, \"133\": 13290, \"134\": 11867, \"135\": 14006, \"136\": 11193, \"137\": 13983, \"138\": 12945, \"139\": 14730, \"140\": 13377, \"141\": 14814, \"142\": 13495, \"143\": 10781, \"144\": 12915, \"145\": 12951, \"146\": 10185, \"147\": 13933, \"148\": 10721, \"149\": 12250, \"150\": 10154, \"151\": 13541, \"152\": 14704, \"153\": 12119, \"154\": 10821, \"155\": 14231, \"156\": 10581, \"157\": 14321, \"158\": 13459, \"159\": 13184, \"160\": 12335, \"161\": 14150, \"162\": 11587, \"163\": 10333, \"164\": 11721, \"165\": 15380, \"166\": 11433, \"167\": 12884, \"168\": 11986, \"169\": 10469, \"170\": 13344, \"171\": 11076, \"172\": 11013, \"173\": 10631, \"174\": 12343, \"175\": 10739, \"176\": 11337, \"177\": 13487, \"178\": 14633, \"179\": 12129, \"180\": 15008, \"181\": 12511, \"182\": 13198, \"183\": 15016, \"184\": 11111, \"185\": 10643, \"186\": 14783, \"187\": 15138, \"188\": 10967, \"189\": 14109, \"190\": 13241, \"191\": 11973, \"192\": 12007, \"193\": 12448, \"194\": 11648, \"195\": 15897, \"196\": 10620, \"197\": 10849, \"198\": 13486, \"199\": 10779, \"200\": 12003, \"201\": 12156, \"202\": 13795, \"203\": 11617, \"204\": 14492, \"205\": 12544, \"206\": 14092, \"207\": 11057, \"208\": 10431, \"209\": 11995, \"210\": 11641, \"211\": 12323, \"212\": 13433, \"213\": 16869, \"214\": 11315, \"215\": 11447, \"216\": 12519, \"217\": 11637, \"218\": 10627, \"219\": 11898, \"220\": 11468, \"221\": 13871, \"222\": 11980, \"223\": 10558, \"224\": 12899, \"225\": 13029, \"226\": 14259, \"227\": 13296, \"228\": 10158, \"229\": 11618, \"230\": 15356, \"231\": 12177, \"232\": 14674, \"233\": 14588, \"234\": 10140, \"235\": 14570, \"236\": 11525, \"237\": 12889, \"238\": 12197, \"239\": 10792, \"240\": 14025, \"241\": 14576, \"242\": 13832, \"243\": 10577, \"244\": 11537, \"245\": 12953, \"246\": 10257, \"247\": 15070, \"248\": 12478, \"249\": 10361, \"250\": 12397, \"251\": 15096, \"252\": 12391, \"253\": 12265, \"254\": 11066, \"255\": 11042, \"256\": 12917, \"257\": 10874, \"258\": 15295, \"259\": 11267, \"260\": 15074, \"261\": 13851, \"262\": 12891, \"263\": 15370, \"264\": 14489, \"265\": 13264, \"266\": 14057, \"267\": 11603, \"268\": 13964, \"269\": 11577, \"270\": 14100, \"271\": 10135, \"272\": 10434, \"273\": 12559, \"274\": 12898, \"275\": 13230, \"276\": 14711, \"277\": 14122, \"278\": 14254, \"279\": 10732, \"280\": 14843, \"281\": 14307, \"282\": 10994, \"283\": 10868, \"284\": 11996, \"285\": 12124, \"286\": 13577, \"287\": 11699, \"288\": 10409, \"289\": 10141, \"290\": 14457, \"291\": 11775, \"292\": 14120, \"293\": 15323, \"294\": 10693, \"295\": 13244, \"296\": 15412, \"297\": 10980, \"298\": 12016, \"299\": 14222, \"300\": 14955, \"301\": 11140, \"302\": 14842, \"303\": 11982, \"304\": 10747, \"305\": 14960, \"306\": 10728, \"307\": 11049, \"308\": 10136, \"309\": 13061, \"310\": 12191, \"311\": 12206, \"312\": 12896, \"313\": 11415, \"314\": 14683, \"315\": 10423, \"316\": 11905, \"317\": 13256, \"318\": 11259, \"319\": 11540, \"320\": 10155, \"321\": 11298, \"322\": 10279, \"323\": 15411, \"324\": 13158, \"325\": 15569, \"326\": 12266, \"327\": 13829, \"328\": 15582, \"329\": 14869, \"330\": 14794, \"331\": 10918, \"332\": 14314, \"333\": 11092, \"334\": 14524, \"335\": 14802, \"336\": 14574, \"337\": 11278, \"338\": 13931, \"339\": 14098, \"340\": 10990, \"341\": 12264, \"342\": 13139, \"343\": 15024, \"344\": 15027, \"345\": 10785, \"346\": 11884, \"347\": 14303, \"348\": 10666, \"349\": 14004, \"350\": 11470, \"351\": 14747, \"352\": 14252, \"353\": 10275, \"354\": 16101, \"355\": 13485, \"356\": 13076, \"357\": 11203, \"358\": 13342, \"359\": 11471, \"360\": 10408, \"361\": 11977, \"362\": 14520, \"363\": 11146, \"364\": 13121, \"365\": 12223, \"366\": 11027, \"367\": 14543, \"368\": 11233, \"369\": 12888, \"370\": 12441, \"371\": 11122, \"372\": 11097, \"373\": 11865, \"374\": 14534, \"375\": 14812}, \"AIRPORT\": {\"0\": \"PSG\", \"1\": \"ANC\", \"2\": \"KTN\", \"3\": \"OME\", \"4\": \"BET\", \"5\": \"CDV\", \"6\": \"AKN\", \"7\": \"SIT\", \"8\": \"FAI\", \"9\": \"OTZ\", \"10\": \"ADQ\", \"11\": \"JNU\", \"12\": \"WRG\", \"13\": \"DLG\", \"14\": \"GST\", \"15\": \"BRW\", \"16\": \"YAK\", \"17\": \"ADK\", \"18\": \"SCC\", \"19\": \"BHM\", \"20\": \"MOB\", \"21\": \"MGM\", \"22\": \"HSV\", \"23\": \"DHN\", \"24\": \"XNA\", \"25\": \"LIT\", \"26\": \"TXK\", \"27\": \"FSM\", \"28\": \"TUS\", \"29\": \"FLG\", \"30\": \"AZA\", \"31\": \"YUM\", \"32\": \"PHX\", \"33\": \"PRC\", \"34\": \"IFP\", \"35\": \"OAK\", \"36\": \"SMX\", \"37\": \"SMF\", \"38\": \"BUR\", \"39\": \"SCK\", \"40\": \"SAN\", \"41\": \"FAT\", \"42\": \"SBA\", \"43\": \"ONT\", \"44\": \"SFO\", \"45\": \"SBP\", \"46\": \"PSP\", \"47\": \"RDD\", \"48\": \"SJC\", \"49\": \"SNA\", \"50\": \"MRY\", \"51\": \"LGB\", \"52\": \"BFL\", \"53\": \"LAX\", \"54\": \"BIH\", \"55\": \"STS\", \"56\": \"ACV\", \"57\": \"ASE\", \"58\": \"COS\", \"59\": \"ALS\", \"60\": \"GJT\", \"61\": \"GUC\", \"62\": \"DEN\", \"63\": \"HDN\", \"64\": \"EGE\", \"65\": \"MTJ\", \"66\": \"DRO\", \"67\": \"PUB\", \"68\": \"BDL\", \"69\": \"ILG\", \"70\": \"PNS\", \"71\": \"ECP\", \"72\": \"FLL\", \"73\": \"MCO\", \"74\": \"RSW\", \"75\": \"DAB\", \"76\": \"EYW\", \"77\": \"PIE\", \"78\": \"VPS\", \"79\": \"SRQ\", \"80\": \"PGD\", \"81\": \"MIA\", \"82\": \"JAX\", \"83\": \"GNV\", \"84\": \"TLH\", \"85\": \"MLB\", \"86\": \"TPA\", \"87\": \"PBI\", \"88\": \"SFB\", \"89\": \"SAV\", \"90\": \"CSG\", \"91\": \"ABY\", \"92\": \"VLD\", \"93\": \"AGS\", \"94\": \"ATL\", \"95\": \"BQK\", \"96\": \"OGG\", \"97\": \"HNL\", \"98\": \"ITO\", \"99\": \"LIH\", \"100\": \"KOA\", \"101\": \"MCW\", \"102\": \"SUX\", \"103\": \"FOD\", \"104\": \"DBQ\", \"105\": \"CID\", \"106\": \"ALO\", \"107\": \"DSM\", \"108\": \"IDA\", \"109\": \"PIH\", \"110\": \"LWS\", \"111\": \"BOI\", \"112\": \"SUN\", \"113\": \"TWF\", \"114\": \"BMI\", \"115\": \"BLV\", \"116\": \"MDW\", \"117\": \"ORD\", \"118\": \"RFD\", \"119\": \"SPI\", \"120\": \"PIA\", \"121\": \"CMI\", \"122\": \"MLI\", \"123\": \"DEC\", \"124\": \"EVV\", \"125\": \"IND\", \"126\": \"FWA\", \"127\": \"SBN\", \"128\": \"DDC\", \"129\": \"ICT\", \"130\": \"LBL\", \"131\": \"HYS\", \"132\": \"SLN\", \"133\": \"MHK\", \"134\": \"GCK\", \"135\": \"PAH\", \"136\": \"CVG\", \"137\": \"OWB\", \"138\": \"LEX\", \"139\": \"SDF\", \"140\": \"MLU\", \"141\": \"SHV\", \"142\": \"MSY\", \"143\": \"BTR\", \"144\": \"LCH\", \"145\": \"LFT\", \"146\": \"AEX\", \"147\": \"ORH\", \"148\": \"BOS\", \"149\": \"HYA\", \"150\": \"ACK\", \"151\": \"MVY\", \"152\": \"SBY\", \"153\": \"HGR\", \"154\": \"BWI\", \"155\": \"PQI\", \"156\": \"BGR\", \"157\": \"PWM\", \"158\": \"MQT\", \"159\": \"MBS\", \"160\": \"IMT\", \"161\": \"PLN\", \"162\": \"ESC\", \"163\": \"APN\", \"164\": \"FNT\", \"165\": \"TVC\", \"166\": \"DTW\", \"167\": \"LAN\", \"168\": \"GRR\", \"169\": \"AZO\", \"170\": \"MKG\", \"171\": \"CMX\", \"172\": \"CIU\", \"173\": \"BJI\", \"174\": \"INL\", \"175\": \"BRD\", \"176\": \"DLH\", \"177\": \"MSP\", \"178\": \"RST\", \"179\": \"HIB\", \"180\": \"STC\", \"181\": \"JLN\", \"182\": \"MCI\", \"183\": \"STL\", \"184\": \"COU\", \"185\": \"BKG\", \"186\": \"SGF\", \"187\": \"TBN\", \"188\": \"CGI\", \"189\": \"PIB\", \"190\": \"MEI\", \"191\": \"GPT\", \"192\": \"GTR\", \"193\": \"JAN\", \"194\": \"FCA\", \"195\": \"WYS\", \"196\": \"BIL\", \"197\": \"BZN\", \"198\": \"MSO\", \"199\": \"BTM\", \"200\": \"GTF\", \"201\": \"HLN\", \"202\": \"OAJ\", \"203\": \"EWN\", \"204\": \"RDU\", \"205\": \"USA\", \"206\": \"PGV\", \"207\": \"CLT\", \"208\": \"AVL\", \"209\": \"GSO\", \"210\": \"FAY\", \"211\": \"ILM\", \"212\": \"MOT\", \"213\": \"XWA\", \"214\": \"DIK\", \"215\": \"DVL\", \"216\": \"JMS\", \"217\": \"FAR\", \"218\": \"BIS\", \"219\": \"GFK\", \"220\": \"EAR\", \"221\": \"OMA\", \"222\": \"GRI\", \"223\": \"BFF\", \"224\": \"LBF\", \"225\": \"LNK\", \"226\": \"PSM\", \"227\": \"MHT\", \"228\": \"ACY\", \"229\": \"EWR\", \"230\": \"TTN\", \"231\": \"HOB\", \"232\": \"SAF\", \"233\": \"ROW\", \"234\": \"ABQ\", \"235\": \"RNO\", \"236\": \"EKO\", \"237\": \"LAS\", \"238\": \"HPN\", \"239\": \"BUF\", \"240\": \"PBG\", \"241\": \"ROC\", \"242\": \"OGS\", \"243\": \"BGM\", \"244\": \"ELM\", \"245\": \"LGA\", \"246\": \"ALB\", \"247\": \"SWF\", \"248\": \"JFK\", \"249\": \"ART\", \"250\": \"ITH\", \"251\": \"SYR\", \"252\": \"ISP\", \"253\": \"IAG\", \"254\": \"CMH\", \"255\": \"CLE\", \"256\": \"LCK\", \"257\": \"CAK\", \"258\": \"TOL\", \"259\": \"DAY\", \"260\": \"SWO\", \"261\": \"OKC\", \"262\": \"LAW\", \"263\": \"TUL\", \"264\": \"RDM\", \"265\": \"MFR\", \"266\": \"PDX\", \"267\": \"EUG\", \"268\": \"OTH\", \"269\": \"ERI\", \"270\": \"PHL\", \"271\": \"ABE\", \"272\": \"AVP\", \"273\": \"JST\", \"274\": \"LBE\", \"275\": \"MDT\", \"276\": \"SCE\", \"277\": \"PIT\", \"278\": \"PSE\", \"279\": \"BQN\", \"280\": \"SJU\", \"281\": \"PVD\", \"282\": \"CHS\", \"283\": \"CAE\", \"284\": \"GSP\", \"285\": \"HHH\", \"286\": \"MYR\", \"287\": \"FLO\", \"288\": \"ATY\", \"289\": \"ABR\", \"290\": \"RAP\", \"291\": \"FSD\", \"292\": \"PIR\", \"293\": \"TRI\", \"294\": \"BNA\", \"295\": \"MEM\", \"296\": \"TYS\", \"297\": \"CHA\", \"298\": \"GUM\", \"299\": \"PPG\", \"300\": \"SPN\", \"301\": \"CRP\", \"302\": \"SJT\", \"303\": \"GRK\", \"304\": \"BRO\", \"305\": \"SPS\", \"306\": \"BPT\", \"307\": \"CLL\", \"308\": \"ABI\", \"309\": \"LRD\", \"310\": \"HOU\", \"311\": \"HRL\", \"312\": \"LBB\", \"313\": \"DRT\", \"314\": \"SAT\", \"315\": \"AUS\", \"316\": \"GGG\", \"317\": \"MFE\", \"318\": \"DAL\", \"319\": \"ELP\", \"320\": \"ACT\", \"321\": \"DFW\", \"322\": \"AMA\", \"323\": \"TYR\", \"324\": \"MAF\", \"325\": \"VCT\", \"326\": \"IAH\", \"327\": \"OGD\", \"328\": \"VEL\", \"329\": \"SLC\", \"330\": \"SGU\", \"331\": \"CDC\", \"332\": \"PVU\", \"333\": \"CNY\", \"334\": \"RIC\", \"335\": \"SHD\", \"336\": \"ROA\", \"337\": \"DCA\", \"338\": \"ORF\", \"339\": \"PHF\", \"340\": \"CHO\", \"341\": \"IAD\", \"342\": \"LYH\", \"343\": \"STT\", \"344\": \"STX\", \"345\": \"BTV\", \"346\": \"GEG\", \"347\": \"PUW\", \"348\": \"BLI\", \"349\": \"PAE\", \"350\": \"EAT\", \"351\": \"SEA\", \"352\": \"PSC\", \"353\": \"ALW\", \"354\": \"YKM\", \"355\": \"MSN\", \"356\": \"LSE\", \"357\": \"CWA\", \"358\": \"MKE\", \"359\": \"EAU\", \"360\": \"ATW\", \"361\": \"GRB\", \"362\": \"RHI\", \"363\": \"CRW\", \"364\": \"LWB\", \"365\": \"HTS\", \"366\": \"CKB\", \"367\": \"RKS\", \"368\": \"CYS\", \"369\": \"LAR\", \"370\": \"JAC\", \"371\": \"CPR\", \"372\": \"COD\", \"373\": \"GCC\", \"374\": \"RIW\", \"375\": \"SHR\"}, \"DISPLAY_AIRPORT_NAME\": {\"0\": \"Petersburg James A Johnson\", \"1\": \"Ted Stevens Anchorage International\", \"2\": \"Ketchikan International\", \"3\": \"Nome Airport\", \"4\": \"Bethel Airport\", \"5\": \"Merle K Mudhole Smith\", \"6\": \"King Salmon Airport\", \"7\": \"Sitka Rocky Gutierrez\", \"8\": \"Fairbanks International\", \"9\": \"Ralph Wien Memorial\", \"10\": \"Kodiak Airport\", \"11\": \"Juneau International\", \"12\": \"Wrangell Airport\", \"13\": \"Dillingham Airport\", \"14\": \"Gustavus Airport\", \"15\": \"Wiley Post/Will Rogers Memorial\", \"16\": \"Yakutat Airport\", \"17\": \"Adak\", \"18\": \"Deadhorse Airport\", \"19\": \"Birmingham-Shuttlesworth International\", \"20\": \"Mobile Regional\", \"21\": \"Montgomery Regional\", \"22\": \"Huntsville International-Carl T Jones Field\", \"23\": \"Dothan Regional\", \"24\": \"Northwest Arkansas National\", \"25\": \"Bill and Hillary Clinton Nat Adams Field\", \"26\": \"Texarkana Regional-Webb Field\", \"27\": \"Fort Smith Regional\", \"28\": \"Tucson International\", \"29\": \"Flagstaff Pulliam\", \"30\": \"Phoenix - Mesa Gateway\", \"31\": \"Yuma MCAS/Yuma International\", \"32\": \"Phoenix Sky Harbor International\", \"33\": \"Prescott Regional Ernest A Love Field\", \"34\": \"Laughlin/Bullhead International\", \"35\": \"Metro Oakland International\", \"36\": \"Santa Maria Public/Capt. G. Allan Hancock Field\", \"37\": \"Sacramento International\", \"38\": \"Bob Hope\", \"39\": \"Stockton Metro\", \"40\": \"San Diego International\", \"41\": \"Fresno Yosemite International\", \"42\": \"Santa Barbara Municipal\", \"43\": \"Ontario International\", \"44\": \"San Francisco International\", \"45\": \"San Luis County Regional\", \"46\": \"Palm Springs International\", \"47\": \"Redding Municipal\", \"48\": \"Norman Y. Mineta San Jose International\", \"49\": \"John Wayne Airport-Orange County\", \"50\": \"Monterey Regional\", \"51\": \"Long Beach Airport\", \"52\": \"Meadows Field\", \"53\": \"Los Angeles International\", \"54\": \"Bishop Airport\", \"55\": \"Charles M. Schulz - Sonoma County\", \"56\": \"California Redwood Coast Humboldt County\", \"57\": \"Aspen Pitkin County Sardy Field\", \"58\": \"City of Colorado Springs Municipal\", \"59\": \"San Luis Valley Regional/Bergman Field\", \"60\": \"Grand Junction Regional\", \"61\": \"Gunnison-Crested Butte Regional\", \"62\": \"Denver International\", \"63\": \"Yampa Valley\", \"64\": \"Eagle County Regional\", \"65\": \"Montrose Regional\", \"66\": \"Durango La Plata County\", \"67\": \"Pueblo Memorial\", \"68\": \"Bradley International\", \"69\": \"New Castle\", \"70\": \"Pensacola International\", \"71\": \"Northwest Florida Beaches International\", \"72\": \"Fort Lauderdale-Hollywood International\", \"73\": \"Orlando International\", \"74\": \"Southwest Florida International\", \"75\": \"Daytona Beach International\", \"76\": \"Key West International\", \"77\": \"St Pete Clearwater International\", \"78\": \"Eglin AFB Destin Fort Walton Beach\", \"79\": \"Sarasota/Bradenton International\", \"80\": \"Punta Gorda Airport\", \"81\": \"Miami International\", \"82\": \"Jacksonville International\", \"83\": \"Gainesville Regional\", \"84\": \"Tallahassee International\", \"85\": \"Melbourne Orlando International\", \"86\": \"Tampa International\", \"87\": \"Palm Beach International\", \"88\": \"Orlando Sanford International\", \"89\": \"Savannah/Hilton Head International\", \"90\": \"Columbus Airport\", \"91\": \"Southwest Georgia Regional\", \"92\": \"Valdosta Regional\", \"93\": \"Augusta Regional at Bush Field\", \"94\": \"Hartsfield-Jackson Atlanta International\", \"95\": \"Brunswick Golden Isles\", \"96\": \"Kahului Airport\", \"97\": \"Daniel K Inouye International\", \"98\": \"Hilo International\", \"99\": \"Lihue Airport\", \"100\": \"Ellison Onizuka Kona International at Keahole\", \"101\": \"Mason City Municipal\", \"102\": \"Sioux Gateway Brig Gen Bud Day Field\", \"103\": \"Fort Dodge Regional\", \"104\": \"Dubuque Regional\", \"105\": \"The Eastern Iowa\", \"106\": \"Waterloo Regional\", \"107\": \"Des Moines International\", \"108\": \"Idaho Falls Regional\", \"109\": \"Pocatello Regional\", \"110\": \"Lewiston Nez Perce County\", \"111\": \"Boise Air Terminal\", \"112\": \"Friedman Memorial\", \"113\": \"Joslin Field - Magic Valley Regional\", \"114\": \"Central Il Regional Airport at Bloomington\", \"115\": \"Scott AFB MidAmerica St Louis\", \"116\": \"Chicago Midway International\", \"117\": \"Chicago O\\'Hare International\", \"118\": \"Chicago/Rockford International\", \"119\": \"Abraham Lincoln Capital\", \"120\": \"General Downing - Peoria International\", \"121\": \"University of Illinois/Willard\", \"122\": \"Quad Cities International\", \"123\": \"Decatur Airport\", \"124\": \"Evansville Regional\", \"125\": \"Indianapolis International\", \"126\": \"Fort Wayne International\", \"127\": \"South Bend International\", \"128\": \"Dodge City Regional\", \"129\": \"Wichita Dwight D Eisenhower National\", \"130\": \"Liberal Mid-America Regional\", \"131\": \"Hays Regional\", \"132\": \"Salina Regional\", \"133\": \"Manhattan Regional\", \"134\": \"Garden City Regional\", \"135\": \"Barkley Regional\", \"136\": \"Cincinnati/Northern Kentucky International\", \"137\": \"Owensboro Daviess County Regional\", \"138\": \"Blue Grass\", \"139\": \"Louisville Muhammad Ali International\", \"140\": \"Monroe Regional\", \"141\": \"Shreveport Regional\", \"142\": \"Louis Armstrong New Orleans International\", \"143\": \"Baton Rouge Metropolitan/Ryan Field\", \"144\": \"Lake Charles Regional\", \"145\": \"Lafayette Regional Paul Fournet Field\", \"146\": \"Alexandria International\", \"147\": \"Worcester Regional\", \"148\": \"Logan International\", \"149\": \"Cape Cod Gateway\", \"150\": \"Nantucket Memorial\", \"151\": \"Martha\\'s Vineyard Airport\", \"152\": \"Salisbury-Ocean City/Wicomico Regional\", \"153\": \"Hagerstown Regional-Richard A. Henson Field\", \"154\": \"Baltimore/Washington International Thurgood Marshall\", \"155\": \"Presque Isle International\", \"156\": \"Bangor International\", \"157\": \"Portland International Jetport\", \"158\": \"Sawyer International\", \"159\": \"MBS International\", \"160\": \"Ford\", \"161\": \"Pellston Regional Airport of Emmet County\", \"162\": \"Delta County\", \"163\": \"Alpena County Regional\", \"164\": \"Bishop International\", \"165\": \"Cherry Capital\", \"166\": \"Detroit Metro Wayne County\", \"167\": \"Capital Region International\", \"168\": \"Gerald R. Ford International\", \"169\": \"Kalamazoo/Battle Creek International\", \"170\": \"Muskegon County\", \"171\": \"Houghton County Memorial\", \"172\": \"Chippewa County International\", \"173\": \"Bemidji Regional\", \"174\": \"Falls International Einarson Field\", \"175\": \"Brainerd Lakes Regional\", \"176\": \"Duluth International\", \"177\": \"Minneapolis-St Paul International\", \"178\": \"Rochester International\", \"179\": \"Range Regional\", \"180\": \"St. Cloud Regional\", \"181\": \"Joplin Regional\", \"182\": \"Kansas City International\", \"183\": \"St Louis Lambert International\", \"184\": \"Columbia Regional\", \"185\": \"Branson Airport\", \"186\": \"Springfield-Branson National\", \"187\": \"Waynesville-St. Robert Regional Forney Field\", \"188\": \"Cape Girardeau Regional\", \"189\": \"Hattiesburg-Laurel Regional\", \"190\": \"Key Field\", \"191\": \"Gulfport-Biloxi International\", \"192\": \"Golden Triangle Regional\", \"193\": \"Jackson Medgar Wiley Evers International\", \"194\": \"Glacier Park International\", \"195\": \"Yellowstone\", \"196\": \"Billings Logan International\", \"197\": \"Bozeman Yellowstone International\", \"198\": \"Missoula Montana\", \"199\": \"Bert Mooney\", \"200\": \"Great Falls International\", \"201\": \"Helena Regional\", \"202\": \"Albert J Ellis\", \"203\": \"Coastal Carolina Regional\", \"204\": \"Raleigh-Durham International\", \"205\": \"Concord Padgett Regional\", \"206\": \"Pitt Greenville\", \"207\": \"Charlotte Douglas International\", \"208\": \"Asheville Regional\", \"209\": \"Piedmont Triad International\", \"210\": \"Fayetteville Regional/Grannis Field\", \"211\": \"Wilmington International\", \"212\": \"Minot International\", \"213\": \"Williston Basin International\", \"214\": \"Dickinson - Theodore Roosevelt Regional\", \"215\": \"Devils Lake Regional\", \"216\": \"Jamestown Regional\", \"217\": \"Hector International\", \"218\": \"Bismarck Municipal\", \"219\": \"Grand Forks International\", \"220\": \"Kearney Regional\", \"221\": \"Eppley Airfield\", \"222\": \"Central Nebraska Regional\", \"223\": \"Western Neb. Regional/William B. Heilig Field\", \"224\": \"North Platte Regional Airport Lee Bird Field\", \"225\": \"Lincoln Airport\", \"226\": \"Portsmouth International at Pease\", \"227\": \"Manchester Boston Regional\", \"228\": \"Atlantic City International\", \"229\": \"Newark Liberty International\", \"230\": \"Trenton Mercer\", \"231\": \"Lea County Regional\", \"232\": \"Santa Fe Municipal\", \"233\": \"Roswell Air Center\", \"234\": \"Albuquerque International Sunport\", \"235\": \"Reno/Tahoe International\", \"236\": \"Elko Regional\", \"237\": \"Harry Reid International\", \"238\": \"Westchester County\", \"239\": \"Buffalo Niagara International\", \"240\": \"Plattsburgh International\", \"241\": \"Frederick Douglass Grtr Rochester International\", \"242\": \"Ogdensburg International\", \"243\": \"Greater Binghamton/Edwin A. Link Field\", \"244\": \"Elmira/Corning Regional\", \"245\": \"LaGuardia\", \"246\": \"Albany International\", \"247\": \"New York Stewart International\", \"248\": \"John F. Kennedy International\", \"249\": \"Watertown International\", \"250\": \"Ithaca Tompkins International\", \"251\": \"Syracuse Hancock International\", \"252\": \"Long Island MacArthur\", \"253\": \"Niagara Falls International\", \"254\": \"John Glenn Columbus International\", \"255\": \"Cleveland-Hopkins International\", \"256\": \"Rickenbacker International\", \"257\": \"Akron-Canton Regional\", \"258\": \"Eugene F Kranz Toledo Express\", \"259\": \"James M Cox/Dayton International\", \"260\": \"Stillwater Regional\", \"261\": \"Will Rogers World\", \"262\": \"Lawton-Fort Sill Regional\", \"263\": \"Tulsa International\", \"264\": \"Roberts Field\", \"265\": \"Rogue Valley International - Medford\", \"266\": \"Portland International\", \"267\": \"Mahlon Sweet Field\", \"268\": \"Southwest Oregon Regional\", \"269\": \"Erie International/Tom Ridge Field\", \"270\": \"Philadelphia International\", \"271\": \"Lehigh Valley International\", \"272\": \"Wilkes Barre Scranton International\", \"273\": \"John Murtha Johnstown-Cambria County\", \"274\": \"Arnold Palmer Regional\", \"275\": \"Harrisburg International\", \"276\": \"University Park\", \"277\": \"Pittsburgh International\", \"278\": \"Mercedita\", \"279\": \"Rafael Hernandez\", \"280\": \"Luis Munoz Marin International\", \"281\": \"Rhode Island Tf Green International\", \"282\": \"Charleston AFB/International\", \"283\": \"Columbia Metropolitan\", \"284\": \"Greenville-Spartanburg International\", \"285\": \"Hilton Head Airport\", \"286\": \"Myrtle Beach International\", \"287\": \"Florence Regional\", \"288\": \"Watertown Regional\", \"289\": \"Aberdeen Regional\", \"290\": \"Rapid City Regional\", \"291\": \"Joe Foss Field\", \"292\": \"Pierre Regional\", \"293\": \"Tri Cities\", \"294\": \"Nashville International\", \"295\": \"Memphis International\", \"296\": \"McGhee Tyson\", \"297\": \"Lovell Field\", \"298\": \"Guam International\", \"299\": \"Pago Pago International\", \"300\": \"Francisco C. Ada Saipan International\", \"301\": \"Corpus Christi International\", \"302\": \"San Angelo Regional/Mathis Field\", \"303\": \"Robert Gray AAF\", \"304\": \"Brownsville South Padre Island International\", \"305\": \"Sheppard AFB/Wichita Falls Municipal\", \"306\": \"Jack Brooks Regional\", \"307\": \"Easterwood Field\", \"308\": \"Abilene Regional\", \"309\": \"Laredo International\", \"310\": \"William P Hobby\", \"311\": \"Valley International\", \"312\": \"Lubbock Preston Smith International\", \"313\": \"Del Rio International\", \"314\": \"San Antonio International\", \"315\": \"Austin - Bergstrom International\", \"316\": \"East Texas Regional\", \"317\": \"McAllen Miller International\", \"318\": \"Dallas Love Field\", \"319\": \"El Paso International\", \"320\": \"Waco Regional\", \"321\": \"Dallas/Fort Worth International\", \"322\": \"Rick Husband Amarillo International\", \"323\": \"Tyler Pounds Regional\", \"324\": \"Midland International Air and Space Port\", \"325\": \"Victoria Regional\", \"326\": \"George Bush Intercontinental/Houston\", \"327\": \"Ogden-Hinckley\", \"328\": \"Vernal Regional\", \"329\": \"Salt Lake City International\", \"330\": \"St George Regional\", \"331\": \"Cedar City Regional\", \"332\": \"Provo Municipal\", \"333\": \"Canyonlands Regional\", \"334\": \"Richmond International\", \"335\": \"Shenandoah Valley Regional\", \"336\": \"Roanoke Blacksburg Regional\", \"337\": \"Ronald Reagan Washington National\", \"338\": \"Norfolk International\", \"339\": \"Newport News/Williamsburg International\", \"340\": \"Charlottesville Albemarle\", \"341\": \"Washington Dulles International\", \"342\": \"Lynchburg Regional/Preston Glenn Field\", \"343\": \"Cyril E King\", \"344\": \"Henry E. Rohlsen\", \"345\": \"Burlington International\", \"346\": \"Spokane International\", \"347\": \"Pullman Moscow Regional\", \"348\": \"Bellingham International\", \"349\": \"Snohomish County\", \"350\": \"Pangborn Memorial\", \"351\": \"Seattle/Tacoma International\", \"352\": \"Tri Cities\", \"353\": \"Walla Walla Regional\", \"354\": \"Yakima Air Terminal/McAllister Field\", \"355\": \"Dane County Regional-Truax Field\", \"356\": \"La Crosse Regional\", \"357\": \"Central Wisconsin\", \"358\": \"General Mitchell International\", \"359\": \"Chippewa Valley Regional\", \"360\": \"Appleton International\", \"361\": \"Green Bay Austin Straubel International\", \"362\": \"Rhinelander/Oneida County\", \"363\": \"West Virginia International Yeager\", \"364\": \"Greenbrier Valley\", \"365\": \"Tri-State/Milton J. Ferguson Field\", \"366\": \"North Central West Virginia\", \"367\": \"Southwest Wyoming Regional\", \"368\": \"Cheyenne Regional/Jerry Olson Field\", \"369\": \"Laramie Regional\", \"370\": \"Jackson Hole\", \"371\": \"Casper/Natrona County International\", \"372\": \"Yellowstone Regional\", \"373\": \"Northeast Wyoming Regional\", \"374\": \"Central Wyoming Regional\", \"375\": \"Sheridan County\"}, \"DISPLAY_AIRPORT_CITY_NAME_FULL\": {\"0\": \"Petersburg, AK\", \"1\": \"Anchorage, AK\", \"2\": \"Ketchikan, AK\", \"3\": \"Nome, AK\", \"4\": \"Bethel, AK\", \"5\": \"Cordova, AK\", \"6\": \"King Salmon, AK\", \"7\": \"Sitka, AK\", \"8\": \"Fairbanks, AK\", \"9\": \"Kotzebue, AK\", \"10\": \"Kodiak, AK\", \"11\": \"Juneau, AK\", \"12\": \"Wrangell, AK\", \"13\": \"Dillingham, AK\", \"14\": \"Gustavus, AK\", \"15\": \"Barrow, AK\", \"16\": \"Yakutat, AK\", \"17\": \"Adak Island, AK\", \"18\": \"Deadhorse, AK\", \"19\": \"Birmingham, AL\", \"20\": \"Mobile, AL\", \"21\": \"Montgomery, AL\", \"22\": \"Huntsville, AL\", \"23\": \"Dothan, AL\", \"24\": \"Fayetteville, AR\", \"25\": \"Little Rock, AR\", \"26\": \"Texarkana, AR\", \"27\": \"Fort Smith, AR\", \"28\": \"Tucson, AZ\", \"29\": \"Flagstaff, AZ\", \"30\": \"Phoenix, AZ\", \"31\": \"Yuma, AZ\", \"32\": \"Phoenix, AZ\", \"33\": \"Prescott, AZ\", \"34\": \"Bullhead City, AZ\", \"35\": \"Oakland, CA\", \"36\": \"Santa Maria, CA\", \"37\": \"Sacramento, CA\", \"38\": \"Burbank, CA\", \"39\": \"Stockton, CA\", \"40\": \"San Diego, CA\", \"41\": \"Fresno, CA\", \"42\": \"Santa Barbara, CA\", \"43\": \"Ontario, CA\", \"44\": \"San Francisco, CA\", \"45\": \"San Luis Obispo, CA\", \"46\": \"Palm Springs, CA\", \"47\": \"Redding, CA\", \"48\": \"San Jose, CA\", \"49\": \"Santa Ana, CA\", \"50\": \"Monterey, CA\", \"51\": \"Long Beach, CA\", \"52\": \"Bakersfield, CA\", \"53\": \"Los Angeles, CA\", \"54\": \"Bishop, CA\", \"55\": \"Santa Rosa, CA\", \"56\": \"Arcata/Eureka, CA\", \"57\": \"Aspen, CO\", \"58\": \"Colorado Springs, CO\", \"59\": \"Alamosa, CO\", \"60\": \"Grand Junction, CO\", \"61\": \"Gunnison, CO\", \"62\": \"Denver, CO\", \"63\": \"Hayden, CO\", \"64\": \"Eagle, CO\", \"65\": \"Montrose/Delta, CO\", \"66\": \"Durango, CO\", \"67\": \"Pueblo, CO\", \"68\": \"Hartford, CT\", \"69\": \"Wilmington, DE\", \"70\": \"Pensacola, FL\", \"71\": \"Panama City, FL\", \"72\": \"Fort Lauderdale, FL\", \"73\": \"Orlando, FL\", \"74\": \"Fort Myers, FL\", \"75\": \"Daytona Beach, FL\", \"76\": \"Key West, FL\", \"77\": \"St. Petersburg, FL\", \"78\": \"Valparaiso, FL\", \"79\": \"Sarasota/Bradenton, FL\", \"80\": \"Punta Gorda, FL\", \"81\": \"Miami, FL\", \"82\": \"Jacksonville, FL\", \"83\": \"Gainesville, FL\", \"84\": \"Tallahassee, FL\", \"85\": \"Melbourne, FL\", \"86\": \"Tampa, FL\", \"87\": \"West Palm Beach/Palm Beach, FL\", \"88\": \"Sanford, FL\", \"89\": \"Savannah, GA\", \"90\": \"Columbus, GA\", \"91\": \"Albany, GA\", \"92\": \"Valdosta, GA\", \"93\": \"Augusta, GA\", \"94\": \"Atlanta, GA\", \"95\": \"Brunswick, GA\", \"96\": \"Kahului, HI\", \"97\": \"Honolulu, HI\", \"98\": \"Hilo, HI\", \"99\": \"Lihue, HI\", \"100\": \"Kona, HI\", \"101\": \"Mason City, IA\", \"102\": \"Sioux City, IA\", \"103\": \"Fort Dodge, IA\", \"104\": \"Dubuque, IA\", \"105\": \"Cedar Rapids/Iowa City, IA\", \"106\": \"Waterloo, IA\", \"107\": \"Des Moines, IA\", \"108\": \"Idaho Falls, ID\", \"109\": \"Pocatello, ID\", \"110\": \"Lewiston, ID\", \"111\": \"Boise, ID\", \"112\": \"Sun Valley/Hailey/Ketchum, ID\", \"113\": \"Twin Falls, ID\", \"114\": \"Bloomington/Normal, IL\", \"115\": \"Belleville, IL\", \"116\": \"Chicago, IL\", \"117\": \"Chicago, IL\", \"118\": \"Rockford, IL\", \"119\": \"Springfield, IL\", \"120\": \"Peoria, IL\", \"121\": \"Champaign/Urbana, IL\", \"122\": \"Moline, IL\", \"123\": \"Decatur, IL\", \"124\": \"Evansville, IN\", \"125\": \"Indianapolis, IN\", \"126\": \"Fort Wayne, IN\", \"127\": \"South Bend, IN\", \"128\": \"Dodge City, KS\", \"129\": \"Wichita, KS\", \"130\": \"Liberal, KS\", \"131\": \"Hays, KS\", \"132\": \"Salina, KS\", \"133\": \"Manhattan/Ft. Riley, KS\", \"134\": \"Garden City, KS\", \"135\": \"Paducah, KY\", \"136\": \"Cincinnati, OH\", \"137\": \"Owensboro, KY\", \"138\": \"Lexington, KY\", \"139\": \"Louisville, KY\", \"140\": \"Monroe, LA\", \"141\": \"Shreveport, LA\", \"142\": \"New Orleans, LA\", \"143\": \"Baton Rouge, LA\", \"144\": \"Lake Charles, LA\", \"145\": \"Lafayette, LA\", \"146\": \"Alexandria, LA\", \"147\": \"Worcester, MA\", \"148\": \"Boston, MA\", \"149\": \"Hyannis, MA\", \"150\": \"Nantucket, MA\", \"151\": \"Martha\\'s Vineyard, MA\", \"152\": \"Salisbury, MD\", \"153\": \"Hagerstown, MD\", \"154\": \"Baltimore, MD\", \"155\": \"Presque Isle/Houlton, ME\", \"156\": \"Bangor, ME\", \"157\": \"Portland, ME\", \"158\": \"Marquette, MI\", \"159\": \"Saginaw/Bay City/Midland, MI\", \"160\": \"Iron Mountain/Kingsfd, MI\", \"161\": \"Pellston, MI\", \"162\": \"Escanaba, MI\", \"163\": \"Alpena, MI\", \"164\": \"Flint, MI\", \"165\": \"Traverse City, MI\", \"166\": \"Detroit, MI\", \"167\": \"Lansing, MI\", \"168\": \"Grand Rapids, MI\", \"169\": \"Kalamazoo, MI\", \"170\": \"Muskegon, MI\", \"171\": \"Hancock/Houghton, MI\", \"172\": \"Sault Ste. Marie, MI\", \"173\": \"Bemidji, MN\", \"174\": \"International Falls, MN\", \"175\": \"Brainerd, MN\", \"176\": \"Duluth, MN\", \"177\": \"Minneapolis, MN\", \"178\": \"Rochester, MN\", \"179\": \"Hibbing, MN\", \"180\": \"St. Cloud, MN\", \"181\": \"Joplin, MO\", \"182\": \"Kansas City, MO\", \"183\": \"St. Louis, MO\", \"184\": \"Columbia, MO\", \"185\": \"Branson, MO\", \"186\": \"Springfield, MO\", \"187\": \"Fort Leonard Wood, MO\", \"188\": \"Cape Girardeau, MO\", \"189\": \"Hattiesburg/Laurel, MS\", \"190\": \"Meridian, MS\", \"191\": \"Gulfport/Biloxi, MS\", \"192\": \"Columbus, MS\", \"193\": \"Jackson/Vicksburg, MS\", \"194\": \"Kalispell, MT\", \"195\": \"West Yellowstone, MT\", \"196\": \"Billings, MT\", \"197\": \"Bozeman, MT\", \"198\": \"Missoula, MT\", \"199\": \"Butte, MT\", \"200\": \"Great Falls, MT\", \"201\": \"Helena, MT\", \"202\": \"Jacksonville/Camp Lejeune, NC\", \"203\": \"New Bern/Morehead/Beaufort, NC\", \"204\": \"Raleigh/Durham, NC\", \"205\": \"Concord, NC\", \"206\": \"Greenville, NC\", \"207\": \"Charlotte, NC\", \"208\": \"Asheville, NC\", \"209\": \"Greensboro/High Point, NC\", \"210\": \"Fayetteville, NC\", \"211\": \"Wilmington, NC\", \"212\": \"Minot, ND\", \"213\": \"Williston, ND\", \"214\": \"Dickinson, ND\", \"215\": \"Devils Lake, ND\", \"216\": \"Jamestown, ND\", \"217\": \"Fargo, ND\", \"218\": \"Bismarck/Mandan, ND\", \"219\": \"Grand Forks, ND\", \"220\": \"Kearney, NE\", \"221\": \"Omaha, NE\", \"222\": \"Grand Island, NE\", \"223\": \"Scottsbluff, NE\", \"224\": \"North Platte, NE\", \"225\": \"Lincoln, NE\", \"226\": \"Portsmouth, NH\", \"227\": \"Manchester, NH\", \"228\": \"Atlantic City, NJ\", \"229\": \"Newark, NJ\", \"230\": \"Trenton, NJ\", \"231\": \"Hobbs, NM\", \"232\": \"Santa Fe, NM\", \"233\": \"Roswell, NM\", \"234\": \"Albuquerque, NM\", \"235\": \"Reno, NV\", \"236\": \"Elko, NV\", \"237\": \"Las Vegas, NV\", \"238\": \"White Plains, NY\", \"239\": \"Buffalo, NY\", \"240\": \"Plattsburgh, NY\", \"241\": \"Rochester, NY\", \"242\": \"Ogdensburg, NY\", \"243\": \"Binghamton, NY\", \"244\": \"Elmira/Corning, NY\", \"245\": \"New York, NY\", \"246\": \"Albany, NY\", \"247\": \"Newburgh/Poughkeepsie, NY\", \"248\": \"New York, NY\", \"249\": \"Watertown, NY\", \"250\": \"Ithaca/Cortland, NY\", \"251\": \"Syracuse, NY\", \"252\": \"Islip, NY\", \"253\": \"Niagara Falls, NY\", \"254\": \"Columbus, OH\", \"255\": \"Cleveland, OH\", \"256\": \"Columbus, OH\", \"257\": \"Akron, OH\", \"258\": \"Toledo, OH\", \"259\": \"Dayton, OH\", \"260\": \"Stillwater, OK\", \"261\": \"Oklahoma City, OK\", \"262\": \"Lawton/Fort Sill, OK\", \"263\": \"Tulsa, OK\", \"264\": \"Bend/Redmond, OR\", \"265\": \"Medford, OR\", \"266\": \"Portland, OR\", \"267\": \"Eugene, OR\", \"268\": \"North Bend/Coos Bay, OR\", \"269\": \"Erie, PA\", \"270\": \"Philadelphia, PA\", \"271\": \"Allentown/Bethlehem/Easton, PA\", \"272\": \"Scranton/Wilkes-Barre, PA\", \"273\": \"Johnstown, PA\", \"274\": \"Latrobe, PA\", \"275\": \"Harrisburg, PA\", \"276\": \"State College, PA\", \"277\": \"Pittsburgh, PA\", \"278\": \"Ponce, PR\", \"279\": \"Aguadilla, PR\", \"280\": \"San Juan, PR\", \"281\": \"Providence, RI\", \"282\": \"Charleston, SC\", \"283\": \"Columbia, SC\", \"284\": \"Greer, SC\", \"285\": \"Hilton Head, SC\", \"286\": \"Myrtle Beach, SC\", \"287\": \"Florence, SC\", \"288\": \"Watertown, SD\", \"289\": \"Aberdeen, SD\", \"290\": \"Rapid City, SD\", \"291\": \"Sioux Falls, SD\", \"292\": \"Pierre, SD\", \"293\": \"Bristol/Johnson City/Kingsport, TN\", \"294\": \"Nashville, TN\", \"295\": \"Memphis, TN\", \"296\": \"Knoxville, TN\", \"297\": \"Chattanooga, TN\", \"298\": \"Guam, TT\", \"299\": \"Pago Pago, TT\", \"300\": \"Saipan, TT\", \"301\": \"Corpus Christi, TX\", \"302\": \"San Angelo, TX\", \"303\": \"Killeen, TX\", \"304\": \"Brownsville, TX\", \"305\": \"Wichita Falls, TX\", \"306\": \"Beaumont/Port Arthur, TX\", \"307\": \"College Station/Bryan, TX\", \"308\": \"Abilene, TX\", \"309\": \"Laredo, TX\", \"310\": \"Houston, TX\", \"311\": \"Harlingen/San Benito, TX\", \"312\": \"Lubbock, TX\", \"313\": \"Del Rio, TX\", \"314\": \"San Antonio, TX\", \"315\": \"Austin, TX\", \"316\": \"Longview, TX\", \"317\": \"Mission/McAllen/Edinburg, TX\", \"318\": \"Dallas, TX\", \"319\": \"El Paso, TX\", \"320\": \"Waco, TX\", \"321\": \"Dallas/Fort Worth, TX\", \"322\": \"Amarillo, TX\", \"323\": \"Tyler, TX\", \"324\": \"Midland/Odessa, TX\", \"325\": \"Victoria, TX\", \"326\": \"Houston, TX\", \"327\": \"Ogden, UT\", \"328\": \"Vernal, UT\", \"329\": \"Salt Lake City, UT\", \"330\": \"St. George, UT\", \"331\": \"Cedar City, UT\", \"332\": \"Provo, UT\", \"333\": \"Moab, UT\", \"334\": \"Richmond, VA\", \"335\": \"Staunton, VA\", \"336\": \"Roanoke, VA\", \"337\": \"Washington, DC\", \"338\": \"Norfolk, VA\", \"339\": \"Newport News/Williamsburg, VA\", \"340\": \"Charlottesville, VA\", \"341\": \"Washington, DC\", \"342\": \"Lynchburg, VA\", \"343\": \"Charlotte Amalie, VI\", \"344\": \"Christiansted, VI\", \"345\": \"Burlington, VT\", \"346\": \"Spokane, WA\", \"347\": \"Pullman, WA\", \"348\": \"Bellingham, WA\", \"349\": \"Everett, WA\", \"350\": \"Wenatchee, WA\", \"351\": \"Seattle, WA\", \"352\": \"Pasco/Kennewick/Richland, WA\", \"353\": \"Walla Walla, WA\", \"354\": \"Yakima, WA\", \"355\": \"Madison, WI\", \"356\": \"La Crosse, WI\", \"357\": \"Mosinee, WI\", \"358\": \"Milwaukee, WI\", \"359\": \"Eau Claire, WI\", \"360\": \"Appleton, WI\", \"361\": \"Green Bay, WI\", \"362\": \"Rhinelander, WI\", \"363\": \"Charleston/Dunbar, WV\", \"364\": \"Lewisburg, WV\", \"365\": \"Ashland, WV\", \"366\": \"Clarksburg/Fairmont, WV\", \"367\": \"Rock Springs, WY\", \"368\": \"Cheyenne, WY\", \"369\": \"Laramie, WY\", \"370\": \"Jackson, WY\", \"371\": \"Casper, WY\", \"372\": \"Cody, WY\", \"373\": \"Gillette, WY\", \"374\": \"Riverton/Lander, WY\", \"375\": \"Sheridan, WY\"}, \"AIRPORT_STATE_NAME\": {\"0\": \"Alaska\", \"1\": \"Alaska\", \"2\": \"Alaska\", \"3\": \"Alaska\", \"4\": \"Alaska\", \"5\": \"Alaska\", \"6\": \"Alaska\", \"7\": \"Alaska\", \"8\": \"Alaska\", \"9\": \"Alaska\", \"10\": \"Alaska\", \"11\": \"Alaska\", \"12\": \"Alaska\", \"13\": \"Alaska\", \"14\": \"Alaska\", \"15\": \"Alaska\", \"16\": \"Alaska\", \"17\": \"Alaska\", \"18\": \"Alaska\", \"19\": \"Alabama\", \"20\": \"Alabama\", \"21\": \"Alabama\", \"22\": \"Alabama\", \"23\": \"Alabama\", \"24\": \"Arkansas\", \"25\": \"Arkansas\", \"26\": \"Arkansas\", \"27\": \"Arkansas\", \"28\": \"Arizona\", \"29\": \"Arizona\", \"30\": \"Arizona\", \"31\": \"Arizona\", \"32\": \"Arizona\", \"33\": \"Arizona\", \"34\": \"Arizona\", \"35\": \"California\", \"36\": \"California\", \"37\": \"California\", \"38\": \"California\", \"39\": \"California\", \"40\": \"California\", \"41\": \"California\", \"42\": \"California\", \"43\": \"California\", \"44\": \"California\", \"45\": \"California\", \"46\": \"California\", \"47\": \"California\", \"48\": \"California\", \"49\": \"California\", \"50\": \"California\", \"51\": \"California\", \"52\": \"California\", \"53\": \"California\", \"54\": \"California\", \"55\": \"California\", \"56\": \"California\", \"57\": \"Colorado\", \"58\": \"Colorado\", \"59\": \"Colorado\", \"60\": \"Colorado\", \"61\": \"Colorado\", \"62\": \"Colorado\", \"63\": \"Colorado\", \"64\": \"Colorado\", \"65\": \"Colorado\", \"66\": \"Colorado\", \"67\": \"Colorado\", \"68\": \"Connecticut\", \"69\": \"Delaware\", \"70\": \"Florida\", \"71\": \"Florida\", \"72\": \"Florida\", \"73\": \"Florida\", \"74\": \"Florida\", \"75\": \"Florida\", \"76\": \"Florida\", \"77\": \"Florida\", \"78\": \"Florida\", \"79\": \"Florida\", \"80\": \"Florida\", \"81\": \"Florida\", \"82\": \"Florida\", \"83\": \"Florida\", \"84\": \"Florida\", \"85\": \"Florida\", \"86\": \"Florida\", \"87\": \"Florida\", \"88\": \"Florida\", \"89\": \"Georgia\", \"90\": \"Georgia\", \"91\": \"Georgia\", \"92\": \"Georgia\", \"93\": \"Georgia\", \"94\": \"Georgia\", \"95\": \"Georgia\", \"96\": \"Hawaii\", \"97\": \"Hawaii\", \"98\": \"Hawaii\", \"99\": \"Hawaii\", \"100\": \"Hawaii\", \"101\": \"Iowa\", \"102\": \"Iowa\", \"103\": \"Iowa\", \"104\": \"Iowa\", \"105\": \"Iowa\", \"106\": \"Iowa\", \"107\": \"Iowa\", \"108\": \"Idaho\", \"109\": \"Idaho\", \"110\": \"Idaho\", \"111\": \"Idaho\", \"112\": \"Idaho\", \"113\": \"Idaho\", \"114\": \"Illinois\", \"115\": \"Illinois\", \"116\": \"Illinois\", \"117\": \"Illinois\", \"118\": \"Illinois\", \"119\": \"Illinois\", \"120\": \"Illinois\", \"121\": \"Illinois\", \"122\": \"Illinois\", \"123\": \"Illinois\", \"124\": \"Indiana\", \"125\": \"Indiana\", \"126\": \"Indiana\", \"127\": \"Indiana\", \"128\": \"Kansas\", \"129\": \"Kansas\", \"130\": \"Kansas\", \"131\": \"Kansas\", \"132\": \"Kansas\", \"133\": \"Kansas\", \"134\": \"Kansas\", \"135\": \"Kentucky\", \"136\": \"Kentucky\", \"137\": \"Kentucky\", \"138\": \"Kentucky\", \"139\": \"Kentucky\", \"140\": \"Louisiana\", \"141\": \"Louisiana\", \"142\": \"Louisiana\", \"143\": \"Louisiana\", \"144\": \"Louisiana\", \"145\": \"Louisiana\", \"146\": \"Louisiana\", \"147\": \"Massachusetts\", \"148\": \"Massachusetts\", \"149\": \"Massachusetts\", \"150\": \"Massachusetts\", \"151\": \"Massachusetts\", \"152\": \"Maryland\", \"153\": \"Maryland\", \"154\": \"Maryland\", \"155\": \"Maine\", \"156\": \"Maine\", \"157\": \"Maine\", \"158\": \"Michigan\", \"159\": \"Michigan\", \"160\": \"Michigan\", \"161\": \"Michigan\", \"162\": \"Michigan\", \"163\": \"Michigan\", \"164\": \"Michigan\", \"165\": \"Michigan\", \"166\": \"Michigan\", \"167\": \"Michigan\", \"168\": \"Michigan\", \"169\": \"Michigan\", \"170\": \"Michigan\", \"171\": \"Michigan\", \"172\": \"Michigan\", \"173\": \"Minnesota\", \"174\": \"Minnesota\", \"175\": \"Minnesota\", \"176\": \"Minnesota\", \"177\": \"Minnesota\", \"178\": \"Minnesota\", \"179\": \"Minnesota\", \"180\": \"Minnesota\", \"181\": \"Missouri\", \"182\": \"Missouri\", \"183\": \"Missouri\", \"184\": \"Missouri\", \"185\": \"Missouri\", \"186\": \"Missouri\", \"187\": \"Missouri\", \"188\": \"Missouri\", \"189\": \"Mississippi\", \"190\": \"Mississippi\", \"191\": \"Mississippi\", \"192\": \"Mississippi\", \"193\": \"Mississippi\", \"194\": \"Montana\", \"195\": \"Montana\", \"196\": \"Montana\", \"197\": \"Montana\", \"198\": \"Montana\", \"199\": \"Montana\", \"200\": \"Montana\", \"201\": \"Montana\", \"202\": \"North Carolina\", \"203\": \"North Carolina\", \"204\": \"North Carolina\", \"205\": \"North Carolina\", \"206\": \"North Carolina\", \"207\": \"North Carolina\", \"208\": \"North Carolina\", \"209\": \"North Carolina\", \"210\": \"North Carolina\", \"211\": \"North Carolina\", \"212\": \"North Dakota\", \"213\": \"North Dakota\", \"214\": \"North Dakota\", \"215\": \"North Dakota\", \"216\": \"North Dakota\", \"217\": \"North Dakota\", \"218\": \"North Dakota\", \"219\": \"North Dakota\", \"220\": \"Nebraska\", \"221\": \"Nebraska\", \"222\": \"Nebraska\", \"223\": \"Nebraska\", \"224\": \"Nebraska\", \"225\": \"Nebraska\", \"226\": \"New Hampshire\", \"227\": \"New Hampshire\", \"228\": \"New Jersey\", \"229\": \"New Jersey\", \"230\": \"New Jersey\", \"231\": \"New Mexico\", \"232\": \"New Mexico\", \"233\": \"New Mexico\", \"234\": \"New Mexico\", \"235\": \"Nevada\", \"236\": \"Nevada\", \"237\": \"Nevada\", \"238\": \"New York\", \"239\": \"New York\", \"240\": \"New York\", \"241\": \"New York\", \"242\": \"New York\", \"243\": \"New York\", \"244\": \"New York\", \"245\": \"New York\", \"246\": \"New York\", \"247\": \"New York\", \"248\": \"New York\", \"249\": \"New York\", \"250\": \"New York\", \"251\": \"New York\", \"252\": \"New York\", \"253\": \"New York\", \"254\": \"Ohio\", \"255\": \"Ohio\", \"256\": \"Ohio\", \"257\": \"Ohio\", \"258\": \"Ohio\", \"259\": \"Ohio\", \"260\": \"Oklahoma\", \"261\": \"Oklahoma\", \"262\": \"Oklahoma\", \"263\": \"Oklahoma\", \"264\": \"Oregon\", \"265\": \"Oregon\", \"266\": \"Oregon\", \"267\": \"Oregon\", \"268\": \"Oregon\", \"269\": \"Pennsylvania\", \"270\": \"Pennsylvania\", \"271\": \"Pennsylvania\", \"272\": \"Pennsylvania\", \"273\": \"Pennsylvania\", \"274\": \"Pennsylvania\", \"275\": \"Pennsylvania\", \"276\": \"Pennsylvania\", \"277\": \"Pennsylvania\", \"278\": \"Puerto Rico\", \"279\": \"Puerto Rico\", \"280\": \"Puerto Rico\", \"281\": \"Rhode Island\", \"282\": \"South Carolina\", \"283\": \"South Carolina\", \"284\": \"South Carolina\", \"285\": \"South Carolina\", \"286\": \"South Carolina\", \"287\": \"South Carolina\", \"288\": \"South Dakota\", \"289\": \"South Dakota\", \"290\": \"South Dakota\", \"291\": \"South Dakota\", \"292\": \"South Dakota\", \"293\": \"Tennessee\", \"294\": \"Tennessee\", \"295\": \"Tennessee\", \"296\": \"Tennessee\", \"297\": \"Tennessee\", \"298\": \"U.S. Pacific Trust Territories and Possessions\", \"299\": \"U.S. Pacific Trust Territories and Possessions\", \"300\": \"U.S. Pacific Trust Territories and Possessions\", \"301\": \"Texas\", \"302\": \"Texas\", \"303\": \"Texas\", \"304\": \"Texas\", \"305\": \"Texas\", \"306\": \"Texas\", \"307\": \"Texas\", \"308\": \"Texas\", \"309\": \"Texas\", \"310\": \"Texas\", \"311\": \"Texas\", \"312\": \"Texas\", \"313\": \"Texas\", \"314\": \"Texas\", \"315\": \"Texas\", \"316\": \"Texas\", \"317\": \"Texas\", \"318\": \"Texas\", \"319\": \"Texas\", \"320\": \"Texas\", \"321\": \"Texas\", \"322\": \"Texas\", \"323\": \"Texas\", \"324\": \"Texas\", \"325\": \"Texas\", \"326\": \"Texas\", \"327\": \"Utah\", \"328\": \"Utah\", \"329\": \"Utah\", \"330\": \"Utah\", \"331\": \"Utah\", \"332\": \"Utah\", \"333\": \"Utah\", \"334\": \"Virginia\", \"335\": \"Virginia\", \"336\": \"Virginia\", \"337\": \"Virginia\", \"338\": \"Virginia\", \"339\": \"Virginia\", \"340\": \"Virginia\", \"341\": \"Virginia\", \"342\": \"Virginia\", \"343\": \"U.S. Virgin Islands\", \"344\": \"U.S. Virgin Islands\", \"345\": \"Vermont\", \"346\": \"Washington\", \"347\": \"Washington\", \"348\": \"Washington\", \"349\": \"Washington\", \"350\": \"Washington\", \"351\": \"Washington\", \"352\": \"Washington\", \"353\": \"Washington\", \"354\": \"Washington\", \"355\": \"Wisconsin\", \"356\": \"Wisconsin\", \"357\": \"Wisconsin\", \"358\": \"Wisconsin\", \"359\": \"Wisconsin\", \"360\": \"Wisconsin\", \"361\": \"Wisconsin\", \"362\": \"Wisconsin\", \"363\": \"West Virginia\", \"364\": \"West Virginia\", \"365\": \"West Virginia\", \"366\": \"West Virginia\", \"367\": \"Wyoming\", \"368\": \"Wyoming\", \"369\": \"Wyoming\", \"370\": \"Wyoming\", \"371\": \"Wyoming\", \"372\": \"Wyoming\", \"373\": \"Wyoming\", \"374\": \"Wyoming\", \"375\": \"Wyoming\"}, \"AIRPORT_STATE_CODE\": {\"0\": \"AK\", \"1\": \"AK\", \"2\": \"AK\", \"3\": \"AK\", \"4\": \"AK\", \"5\": \"AK\", \"6\": \"AK\", \"7\": \"AK\", \"8\": \"AK\", \"9\": \"AK\", \"10\": \"AK\", \"11\": \"AK\", \"12\": \"AK\", \"13\": \"AK\", \"14\": \"AK\", \"15\": \"AK\", \"16\": \"AK\", \"17\": \"AK\", \"18\": \"AK\", \"19\": \"AL\", \"20\": \"AL\", \"21\": \"AL\", \"22\": \"AL\", \"23\": \"AL\", \"24\": \"AR\", \"25\": \"AR\", \"26\": \"AR\", \"27\": \"AR\", \"28\": \"AZ\", \"29\": \"AZ\", \"30\": \"AZ\", \"31\": \"AZ\", \"32\": \"AZ\", \"33\": \"AZ\", \"34\": \"AZ\", \"35\": \"CA\", \"36\": \"CA\", \"37\": \"CA\", \"38\": \"CA\", \"39\": \"CA\", \"40\": \"CA\", \"41\": \"CA\", \"42\": \"CA\", \"43\": \"CA\", \"44\": \"CA\", \"45\": \"CA\", \"46\": \"CA\", \"47\": \"CA\", \"48\": \"CA\", \"49\": \"CA\", \"50\": \"CA\", \"51\": \"CA\", \"52\": \"CA\", \"53\": \"CA\", \"54\": \"CA\", \"55\": \"CA\", \"56\": \"CA\", \"57\": \"CO\", \"58\": \"CO\", \"59\": \"CO\", \"60\": \"CO\", \"61\": \"CO\", \"62\": \"CO\", \"63\": \"CO\", \"64\": \"CO\", \"65\": \"CO\", \"66\": \"CO\", \"67\": \"CO\", \"68\": \"CT\", \"69\": \"DE\", \"70\": \"FL\", \"71\": \"FL\", \"72\": \"FL\", \"73\": \"FL\", \"74\": \"FL\", \"75\": \"FL\", \"76\": \"FL\", \"77\": \"FL\", \"78\": \"FL\", \"79\": \"FL\", \"80\": \"FL\", \"81\": \"FL\", \"82\": \"FL\", \"83\": \"FL\", \"84\": \"FL\", \"85\": \"FL\", \"86\": \"FL\", \"87\": \"FL\", \"88\": \"FL\", \"89\": \"GA\", \"90\": \"GA\", \"91\": \"GA\", \"92\": \"GA\", \"93\": \"GA\", \"94\": \"GA\", \"95\": \"GA\", \"96\": \"HI\", \"97\": \"HI\", \"98\": \"HI\", \"99\": \"HI\", \"100\": \"HI\", \"101\": \"IA\", \"102\": \"IA\", \"103\": \"IA\", \"104\": \"IA\", \"105\": \"IA\", \"106\": \"IA\", \"107\": \"IA\", \"108\": \"ID\", \"109\": \"ID\", \"110\": \"ID\", \"111\": \"ID\", \"112\": \"ID\", \"113\": \"ID\", \"114\": \"IL\", \"115\": \"IL\", \"116\": \"IL\", \"117\": \"IL\", \"118\": \"IL\", \"119\": \"IL\", \"120\": \"IL\", \"121\": \"IL\", \"122\": \"IL\", \"123\": \"IL\", \"124\": \"IN\", \"125\": \"IN\", \"126\": \"IN\", \"127\": \"IN\", \"128\": \"KS\", \"129\": \"KS\", \"130\": \"KS\", \"131\": \"KS\", \"132\": \"KS\", \"133\": \"KS\", \"134\": \"KS\", \"135\": \"KY\", \"136\": \"KY\", \"137\": \"KY\", \"138\": \"KY\", \"139\": \"KY\", \"140\": \"LA\", \"141\": \"LA\", \"142\": \"LA\", \"143\": \"LA\", \"144\": \"LA\", \"145\": \"LA\", \"146\": \"LA\", \"147\": \"MA\", \"148\": \"MA\", \"149\": \"MA\", \"150\": \"MA\", \"151\": \"MA\", \"152\": \"MD\", \"153\": \"MD\", \"154\": \"MD\", \"155\": \"ME\", \"156\": \"ME\", \"157\": \"ME\", \"158\": \"MI\", \"159\": \"MI\", \"160\": \"MI\", \"161\": \"MI\", \"162\": \"MI\", \"163\": \"MI\", \"164\": \"MI\", \"165\": \"MI\", \"166\": \"MI\", \"167\": \"MI\", \"168\": \"MI\", \"169\": \"MI\", \"170\": \"MI\", \"171\": \"MI\", \"172\": \"MI\", \"173\": \"MN\", \"174\": \"MN\", \"175\": \"MN\", \"176\": \"MN\", \"177\": \"MN\", \"178\": \"MN\", \"179\": \"MN\", \"180\": \"MN\", \"181\": \"MO\", \"182\": \"MO\", \"183\": \"MO\", \"184\": \"MO\", \"185\": \"MO\", \"186\": \"MO\", \"187\": \"MO\", \"188\": \"MO\", \"189\": \"MS\", \"190\": \"MS\", \"191\": \"MS\", \"192\": \"MS\", \"193\": \"MS\", \"194\": \"MT\", \"195\": \"MT\", \"196\": \"MT\", \"197\": \"MT\", \"198\": \"MT\", \"199\": \"MT\", \"200\": \"MT\", \"201\": \"MT\", \"202\": \"NC\", \"203\": \"NC\", \"204\": \"NC\", \"205\": \"NC\", \"206\": \"NC\", \"207\": \"NC\", \"208\": \"NC\", \"209\": \"NC\", \"210\": \"NC\", \"211\": \"NC\", \"212\": \"ND\", \"213\": \"ND\", \"214\": \"ND\", \"215\": \"ND\", \"216\": \"ND\", \"217\": \"ND\", \"218\": \"ND\", \"219\": \"ND\", \"220\": \"NE\", \"221\": \"NE\", \"222\": \"NE\", \"223\": \"NE\", \"224\": \"NE\", \"225\": \"NE\", \"226\": \"NH\", \"227\": \"NH\", \"228\": \"NJ\", \"229\": \"NJ\", \"230\": \"NJ\", \"231\": \"NM\", \"232\": \"NM\", \"233\": \"NM\", \"234\": \"NM\", \"235\": \"NV\", \"236\": \"NV\", \"237\": \"NV\", \"238\": \"NY\", \"239\": \"NY\", \"240\": \"NY\", \"241\": \"NY\", \"242\": \"NY\", \"243\": \"NY\", \"244\": \"NY\", \"245\": \"NY\", \"246\": \"NY\", \"247\": \"NY\", \"248\": \"NY\", \"249\": \"NY\", \"250\": \"NY\", \"251\": \"NY\", \"252\": \"NY\", \"253\": \"NY\", \"254\": \"OH\", \"255\": \"OH\", \"256\": \"OH\", \"257\": \"OH\", \"258\": \"OH\", \"259\": \"OH\", \"260\": \"OK\", \"261\": \"OK\", \"262\": \"OK\", \"263\": \"OK\", \"264\": \"OR\", \"265\": \"OR\", \"266\": \"OR\", \"267\": \"OR\", \"268\": \"OR\", \"269\": \"PA\", \"270\": \"PA\", \"271\": \"PA\", \"272\": \"PA\", \"273\": \"PA\", \"274\": \"PA\", \"275\": \"PA\", \"276\": \"PA\", \"277\": \"PA\", \"278\": \"PR\", \"279\": \"PR\", \"280\": \"PR\", \"281\": \"RI\", \"282\": \"SC\", \"283\": \"SC\", \"284\": \"SC\", \"285\": \"SC\", \"286\": \"SC\", \"287\": \"SC\", \"288\": \"SD\", \"289\": \"SD\", \"290\": \"SD\", \"291\": \"SD\", \"292\": \"SD\", \"293\": \"TN\", \"294\": \"TN\", \"295\": \"TN\", \"296\": \"TN\", \"297\": \"TN\", \"298\": \"TT\", \"299\": \"TT\", \"300\": \"TT\", \"301\": \"TX\", \"302\": \"TX\", \"303\": \"TX\", \"304\": \"TX\", \"305\": \"TX\", \"306\": \"TX\", \"307\": \"TX\", \"308\": \"TX\", \"309\": \"TX\", \"310\": \"TX\", \"311\": \"TX\", \"312\": \"TX\", \"313\": \"TX\", \"314\": \"TX\", \"315\": \"TX\", \"316\": \"TX\", \"317\": \"TX\", \"318\": \"TX\", \"319\": \"TX\", \"320\": \"TX\", \"321\": \"TX\", \"322\": \"TX\", \"323\": \"TX\", \"324\": \"TX\", \"325\": \"TX\", \"326\": \"TX\", \"327\": \"UT\", \"328\": \"UT\", \"329\": \"UT\", \"330\": \"UT\", \"331\": \"UT\", \"332\": \"UT\", \"333\": \"UT\", \"334\": \"VA\", \"335\": \"VA\", \"336\": \"VA\", \"337\": \"VA\", \"338\": \"VA\", \"339\": \"VA\", \"340\": \"VA\", \"341\": \"VA\", \"342\": \"VA\", \"343\": \"VI\", \"344\": \"VI\", \"345\": \"VT\", \"346\": \"WA\", \"347\": \"WA\", \"348\": \"WA\", \"349\": \"WA\", \"350\": \"WA\", \"351\": \"WA\", \"352\": \"WA\", \"353\": \"WA\", \"354\": \"WA\", \"355\": \"WI\", \"356\": \"WI\", \"357\": \"WI\", \"358\": \"WI\", \"359\": \"WI\", \"360\": \"WI\", \"361\": \"WI\", \"362\": \"WI\", \"363\": \"WV\", \"364\": \"WV\", \"365\": \"WV\", \"366\": \"WV\", \"367\": \"WY\", \"368\": \"WY\", \"369\": \"WY\", \"370\": \"WY\", \"371\": \"WY\", \"372\": \"WY\", \"373\": \"WY\", \"374\": \"WY\", \"375\": \"WY\"}, \"LATITUDE\": {\"0\": 56.801388, \"1\": 61.174168, \"2\": 55.354168, \"3\": 64.51056, \"4\": 60.77861, \"5\": 60.491665, \"6\": 58.676388, \"7\": 57.046944, \"8\": 64.81528, \"9\": 66.88472, \"10\": 57.74972, \"11\": 58.35472, \"12\": 56.484444, \"13\": 59.044724, \"14\": 58.425278, \"15\": 71.28472, \"16\": 59.503334, \"17\": 51.88361, \"18\": 70.194725, \"19\": 33.56389, \"20\": 30.69139, \"21\": 32.300556, \"22\": 34.637222, \"23\": 31.321112, \"24\": 36.281666, \"25\": 34.729443, \"26\": 33.45361, \"27\": 35.335278, \"28\": 32.11611, \"29\": 35.140278, \"30\": 33.307777, \"31\": 32.656666, \"32\": 33.434166, \"33\": 34.654724, \"34\": 35.154724, \"35\": 37.72111, \"36\": 34.9, \"37\": 38.695557, \"38\": 34.200554, \"39\": 37.894444, \"40\": 32.733612, \"41\": 36.77667, \"42\": 34.42611, \"43\": 34.05611, \"44\": 37.61889, \"45\": 35.23722, \"46\": 33.829723, \"47\": 40.50889, \"48\": 37.363056, \"49\": 33.675556, \"50\": 36.586945, \"51\": 33.818054, \"52\": 35.433887, \"53\": 33.9425, \"54\": 37.373055, \"55\": 38.509724, \"56\": 40.97778, \"57\": 39.221943, \"58\": 38.805832, \"59\": 37.435, \"60\": 39.1225, \"61\": 38.534443, \"62\": 39.861668, \"63\": 40.48111, \"64\": 39.642776, \"65\": 38.509724, \"66\": 37.15167, \"67\": 38.29, \"68\": 41.939167, \"69\": 39.67861, \"70\": 30.473333, \"71\": 30.358334, \"72\": 26.071667, \"73\": 28.429445, \"74\": 26.536112, \"75\": 29.18, \"76\": 24.55611, \"77\": 27.908611, \"78\": 30.483334, \"79\": 27.395555, \"80\": 26.918612, \"81\": 25.795279, \"82\": 30.494167, \"83\": 29.69, \"84\": 30.396667, \"85\": 28.102777, \"86\": 27.975555, \"87\": 26.683056, \"88\": 28.777222, \"89\": 32.1275, \"90\": 32.516388, \"91\": 31.535555, \"92\": 30.78139, \"93\": 33.37, \"94\": 33.636665, \"95\": 31.259167, \"96\": 20.898611, \"97\": 21.317778, \"98\": 19.720278, \"99\": 21.97611, \"100\": 19.73889, \"101\": 43.157776, \"102\": 42.40139, \"103\": 42.55111, \"104\": 42.401943, \"105\": 41.884724, \"106\": 42.558334, \"107\": 41.53417, \"108\": 43.51361, \"109\": 42.90972, \"110\": 46.374443, \"111\": 43.564445, \"112\": 43.503887, \"113\": 42.481945, \"114\": 40.477222, \"115\": 38.545277, \"116\": 41.78583, \"117\": 41.976944, \"118\": 42.19528, \"119\": 39.844166, \"120\": 40.664165, \"121\": 40.038612, \"122\": 41.448334, \"123\": 39.834446, \"124\": 38.040833, \"125\": 39.717224, \"126\": 40.978333, \"127\": 41.708332, \"128\": 37.763054, \"129\": 37.65, \"130\": 37.043888, \"131\": 38.842224, \"132\": 38.790554, \"133\": 39.14111, \"134\": 37.9275, \"135\": 37.060276, \"136\": 39.04889, \"137\": 37.738888, \"138\": 38.036667, \"139\": 38.174168, \"140\": 32.510555, \"141\": 32.44639, \"142\": 29.993334, \"143\": 30.533056, \"144\": 30.126112, \"145\": 30.205, \"146\": 31.3275, \"147\": 42.267223, \"148\": 42.363056, \"149\": 41.669445, \"150\": 41.253056, \"151\": 41.393333, \"152\": 38.34028, \"153\": 39.70861, \"154\": 39.175835, \"155\": 46.68889, \"156\": 44.8075, \"157\": 43.645557, \"158\": 46.349167, \"159\": 43.533054, \"160\": 45.818333, \"161\": 45.570835, \"162\": 45.72278, \"163\": 45.078056, \"164\": 42.965557, \"165\": 44.741665, \"166\": 42.2125, \"167\": 42.77861, \"168\": 42.880833, \"169\": 42.234444, \"170\": 43.167778, \"171\": 47.167778, \"172\": 46.25083, \"173\": 47.510834, \"174\": 48.565556, \"175\": 46.404167, \"176\": 46.841946, \"177\": 44.881943, \"178\": 43.908333, \"179\": 47.386665, \"180\": 45.546112, \"181\": 37.153057, \"182\": 39.2975, \"183\": 38.74861, \"184\": 38.81778, \"185\": 36.531944, \"186\": 37.245556, \"187\": 37.741665, \"188\": 37.225277, \"189\": 31.467222, \"190\": 32.3325, \"191\": 30.407223, \"192\": 33.448334, \"193\": 32.31111, \"194\": 48.310555, \"195\": 44.68833, \"196\": 45.807777, \"197\": 45.77722, \"198\": 46.91639, \"199\": 45.954723, \"200\": 47.482224, \"201\": 46.606667, \"202\": 34.829166, \"203\": 35.072777, \"204\": 35.877777, \"205\": 35.38778, \"206\": 35.635555, \"207\": 35.21361, \"208\": 35.43611, \"209\": 36.101387, \"210\": 34.99111, \"211\": 34.27111, \"212\": 48.25778, \"213\": 48.259724, \"214\": 46.800835, \"215\": 48.116665, \"216\": 46.92972, \"217\": 46.920555, \"218\": 46.772778, \"219\": 47.947224, \"220\": 40.726944, \"221\": 41.303055, \"222\": 40.9675, \"223\": 41.87417, \"224\": 41.12611, \"225\": 40.850834, \"226\": 43.078056, \"227\": 42.932777, \"228\": 39.4575, \"229\": 40.6925, \"230\": 40.27667, \"231\": 32.6875, \"232\": 35.61722, \"233\": 33.3, \"234\": 35.038887, \"235\": 39.49917, \"236\": 40.825, \"237\": 36.08, \"238\": 41.066944, \"239\": 42.940556, \"240\": 44.650833, \"241\": 43.119167, \"242\": 44.68222, \"243\": 42.208332, \"244\": 42.15972, \"245\": 40.77722, \"246\": 42.74917, \"247\": 41.504166, \"248\": 40.64, \"249\": 43.991943, \"250\": 42.49139, \"251\": 43.11111, \"252\": 40.796112, \"253\": 43.1075, \"254\": 39.996944, \"255\": 41.409443, \"256\": 39.81389, \"257\": 40.915, \"258\": 41.586945, \"259\": 39.90222, \"260\": 36.16139, \"261\": 35.393055, \"262\": 34.56778, \"263\": 36.198334, \"264\": 44.254166, \"265\": 42.375, \"266\": 45.58861, \"267\": 44.124443, \"268\": 43.416943, \"269\": 42.083057, \"270\": 39.871944, \"271\": 40.6525, \"272\": 41.338333, \"273\": 40.315556, \"274\": 40.273056, \"275\": 40.193054, \"276\": 40.85, \"277\": 40.49139, \"278\": 18.008888, \"279\": 18.494722, \"280\": 18.439444, \"281\": 41.72222, \"282\": 32.898613, \"283\": 33.93889, \"284\": 34.895557, \"285\": 32.224445, \"286\": 33.67972, \"287\": 34.185276, \"288\": 44.913887, \"289\": 45.446667, \"290\": 44.045277, \"291\": 43.581944, \"292\": 44.38278, \"293\": 36.475277, \"294\": 36.124443, \"295\": 35.0425, \"296\": 35.81111, \"297\": 35.03528, \"298\": 13.483889, \"299\": -14.33, \"300\": 15.120277, \"301\": 27.772223, \"302\": 31.357779, \"303\": 31.067223, \"304\": 25.90611, \"305\": 33.988888, \"306\": 29.950834, \"307\": 30.588055, \"308\": 32.41139, \"309\": 27.544167, \"310\": 29.645834, \"311\": 26.227222, \"312\": 33.663612, \"313\": 29.374166, \"314\": 29.53389, \"315\": 30.194445, \"316\": 32.38389, \"317\": 26.175833, \"318\": 32.845833, \"319\": 31.807222, \"320\": 31.612223, \"321\": 32.89722, \"322\": 35.219444, \"323\": 32.35361, \"324\": 31.9425, \"325\": 28.854166, \"326\": 29.984444, \"327\": 41.195, \"328\": 40.43611, \"329\": 40.788334, \"330\": 37.03639, \"331\": 37.700832, \"332\": 40.219166, \"333\": 38.7575, \"334\": 37.50528, \"335\": 38.26389, \"336\": 37.325554, \"337\": 38.851387, \"338\": 36.894722, \"339\": 37.131943, \"340\": 38.13972, \"341\": 38.9475, \"342\": 37.32528, \"343\": 18.337223, \"344\": 17.70139, \"345\": 44.471943, \"346\": 47.619167, \"347\": 46.741665, \"348\": 48.792778, \"349\": 47.907223, \"350\": 47.398888, \"351\": 47.45, \"352\": 46.26472, \"353\": 46.0925, \"354\": 46.568054, \"355\": 43.14, \"356\": 43.879166, \"357\": 44.7775, \"358\": 42.946945, \"359\": 44.865833, \"360\": 44.258057, \"361\": 44.484722, \"362\": 45.630833, \"363\": 38.37611, \"364\": 37.858334, \"365\": 38.36861, \"366\": 39.29778, \"367\": 41.594166, \"368\": 41.155556, \"369\": 41.311943, \"370\": 43.607224, \"371\": 42.905834, \"372\": 44.52028, \"373\": 44.34889, \"374\": 43.064167, \"375\": 44.769165}, \"LONGITUDE\": {\"0\": -132.9461, \"1\": -149.99806, \"2\": -131.7111, \"3\": -165.44472, \"4\": -161.83722, \"5\": -145.4775, \"6\": -156.6486, \"7\": -135.36111, \"8\": -147.85667, \"9\": -162.59805, \"10\": -152.4939, \"11\": -134.57834, \"12\": -132.36972, \"13\": -158.50555, \"14\": -135.7075, \"15\": -156.76862, \"16\": -139.66028, \"17\": -176.6425, \"18\": -148.46527, \"19\": -86.75222, \"20\": -88.242775, \"21\": -86.39389, \"22\": -86.775, \"23\": -85.44945, \"24\": -94.30778, \"25\": -92.224724, \"26\": -93.99111, \"27\": -94.367775, \"28\": -110.94111, \"29\": -111.66917, \"30\": -111.655556, \"31\": -114.60611, \"32\": -112.011665, \"33\": -112.41917, \"34\": -114.55945, \"35\": -122.22111, \"36\": -120.45805, \"37\": -121.590836, \"38\": -118.35861, \"39\": -121.23861, \"40\": -117.18972, \"41\": -119.71889, \"42\": -119.84139, \"43\": -117.60111, \"44\": -122.37556, \"45\": -120.6425, \"46\": -116.50667, \"47\": -122.293335, \"48\": -121.92861, \"49\": -117.86833, \"50\": -121.843056, \"51\": -118.15195, \"52\": -119.05778, \"53\": -118.40806, \"54\": -118.36361, \"55\": -122.812775, \"56\": -124.10833, \"57\": -106.86833, \"58\": -104.700836, \"59\": -105.867775, \"60\": -108.526665, \"61\": -106.93166, \"62\": -104.67306, \"63\": -107.21778, \"64\": -106.91583, \"65\": -107.894165, \"66\": -107.75389, \"67\": -104.498055, \"68\": -72.68445, \"69\": -75.60667, \"70\": -87.18667, \"71\": -85.795555, \"72\": -80.14972, \"73\": -81.30889, \"74\": -81.75528, \"75\": -81.05805, \"76\": -81.76, \"77\": -82.686386, \"78\": -86.525276, \"79\": -82.55444, \"80\": -81.99084, \"81\": -80.29, \"82\": -81.687775, \"83\": -82.27167, \"84\": -84.35083, \"85\": -80.64528, \"86\": -82.53333, \"87\": -80.09556, \"88\": -81.235, \"89\": -81.202225, \"90\": -84.93889, \"91\": -84.19444, \"92\": -83.27611, \"93\": -81.96445, \"94\": -84.42778, \"95\": -81.46639, \"96\": -156.43056, \"97\": -157.92027, \"98\": -155.04834, \"99\": -159.33888, \"100\": -156.04556, \"101\": -93.33111, \"102\": -96.384445, \"103\": -94.19195, \"104\": -90.70944, \"105\": -91.71083, \"106\": -92.40111, \"107\": -93.657776, \"108\": -112.07083, \"109\": -112.59583, \"110\": -117.015274, \"111\": -116.22278, \"112\": -114.295555, \"113\": -114.48778, \"114\": -88.91583, \"115\": -89.83528, \"116\": -87.7525, \"117\": -87.90806, \"118\": -89.09722, \"119\": -89.678055, \"120\": -89.69334, \"121\": -88.276665, \"122\": -90.5075, \"123\": -88.865555, \"124\": -87.52861, \"125\": -86.29472, \"126\": -85.195274, \"127\": -86.31722, \"128\": -99.96555, \"129\": -97.43305, \"130\": -100.96, \"131\": -99.273056, \"132\": -97.65222, \"133\": -96.67194, \"134\": -100.72444, \"135\": -88.773056, \"136\": -84.66778, \"137\": -87.16695, \"138\": -84.60861, \"139\": -85.73639, \"140\": -92.03611, \"141\": -93.82611, \"142\": -90.25916, \"143\": -91.15, \"144\": -93.223335, \"145\": -91.98778, \"146\": -92.548615, \"147\": -71.87556, \"148\": -71.006386, \"149\": -70.28028, \"150\": -70.06, \"151\": -70.61389, \"152\": -75.509445, \"153\": -77.72639, \"154\": -76.66889, \"155\": -68.04472, \"156\": -68.82806, \"157\": -70.30861, \"158\": -87.396385, \"159\": -84.07972, \"160\": -88.11444, \"161\": -84.79667, \"162\": -87.09361, \"163\": -83.56028, \"164\": -83.74472, \"165\": -85.58195, \"166\": -83.35333, \"167\": -84.58611, \"168\": -85.52278, \"169\": -85.55167, \"170\": -86.23556, \"171\": -88.48639, \"172\": -84.4725, \"173\": -94.93472, \"174\": -93.40222, \"175\": -94.13361, \"176\": -92.19334, \"177\": -93.221664, \"178\": -92.5, \"179\": -92.83889, \"180\": -94.05945, \"181\": -94.498886, \"182\": -94.71389, \"183\": -90.37, \"184\": -92.21778, \"185\": -93.200554, \"186\": -93.38861, \"187\": -92.14083, \"188\": -89.57083, \"189\": -89.336945, \"190\": -88.751945, \"191\": -89.07, \"192\": -88.59139, \"193\": -90.075836, \"194\": -114.25611, \"195\": -111.117775, \"196\": -108.54361, \"197\": -111.150276, \"198\": -114.09055, \"199\": -112.4975, \"200\": -111.37028, \"201\": -111.98333, \"202\": -77.61222, \"203\": -77.04305, \"204\": -78.7875, \"205\": -80.70917, \"206\": -77.38416, \"207\": -80.949165, \"208\": -82.54195, \"209\": -79.94111, \"210\": -78.88028, \"211\": -77.90278, \"212\": -101.27805, \"213\": -103.75056, \"214\": -102.80334, \"215\": -98.91, \"216\": -98.678055, \"217\": -96.815834, \"218\": -100.745834, \"219\": -97.17389, \"220\": -99.00667, \"221\": -95.894165, \"222\": -98.30972, \"223\": -103.59556, \"224\": -100.68361, \"225\": -96.75916, \"226\": -70.82333, \"227\": -71.43584, \"228\": -74.577225, \"229\": -74.16861, \"230\": -74.81333, \"231\": -103.217224, \"232\": -106.08945, \"233\": -104.52944, \"234\": -106.60833, \"235\": -119.76806, \"236\": -115.79139, \"237\": -115.15222, \"238\": -73.7075, \"239\": -78.73055, \"240\": -73.468056, \"241\": -77.67194, \"242\": -75.46333, \"243\": -75.97972, \"244\": -76.89167, \"245\": -73.8725, \"246\": -73.80194, \"247\": -74.10472, \"248\": -73.77861, \"249\": -76.01945, \"250\": -76.45861, \"251\": -76.10639, \"252\": -73.100555, \"253\": -78.94583, \"254\": -82.89222, \"255\": -81.85472, \"256\": -82.92778, \"257\": -81.44361, \"258\": -83.80778, \"259\": -84.219444, \"260\": -97.08583, \"261\": -97.60083, \"262\": -98.416664, \"263\": -95.888054, \"264\": -121.15056, \"265\": -122.87334, \"266\": -122.59695, \"267\": -123.211945, \"268\": -124.24695, \"269\": -80.17389, \"270\": -75.240555, \"271\": -75.44028, \"272\": -75.723335, \"273\": -78.834724, \"274\": -79.41028, \"275\": -76.7625, \"276\": -77.8475, \"277\": -80.23278, \"278\": -66.564445, \"279\": -67.12945, \"280\": -66.00222, \"281\": -71.42778, \"282\": -80.04056, \"283\": -81.119446, \"284\": -82.21889, \"285\": -80.6975, \"286\": -78.92834, \"287\": -79.72389, \"288\": -97.154724, \"289\": -98.4225, \"290\": -103.05722, \"291\": -96.74194, \"292\": -100.285835, \"293\": -82.4075, \"294\": -86.678055, \"295\": -89.97667, \"296\": -83.99416, \"297\": -85.20361, \"298\": 144.79723, \"299\": -170.71028, \"300\": 145.73, \"301\": -97.5025, \"302\": -100.49639, \"303\": -97.82889, \"304\": -97.42611, \"305\": -98.49194, \"306\": -94.02055, \"307\": -96.3625, \"308\": -99.681946, \"309\": -99.46167, \"310\": -95.27722, \"311\": -97.65528, \"312\": -101.82056, \"313\": -100.92722, \"314\": -98.46917, \"315\": -97.67, \"316\": -94.71139, \"317\": -98.23861, \"318\": -96.85083, \"319\": -106.37639, \"320\": -97.23028, \"321\": -97.03778, \"322\": -101.70583, \"323\": -95.40305, \"324\": -102.20194, \"325\": -96.91861, \"326\": -95.34139, \"327\": -112.01222, \"328\": -109.51139, \"329\": -111.977776, \"330\": -113.51028, \"331\": -113.09889, \"332\": -111.723335, \"333\": -109.753334, \"334\": -77.319725, \"335\": -78.896385, \"336\": -79.975555, \"337\": -77.03778, \"338\": -76.20111, \"339\": -76.49306, \"340\": -78.452225, \"341\": -77.46, \"342\": -79.20111, \"343\": -64.973335, \"344\": -64.80194, \"345\": -73.153336, \"346\": -117.53528, \"347\": -117.111664, \"348\": -122.5375, \"349\": -122.28222, \"350\": -120.20695, \"351\": -122.31167, \"352\": -119.11889, \"353\": -118.284164, \"354\": -120.54417, \"355\": -89.3375, \"356\": -91.25667, \"357\": -89.666664, \"358\": -87.89694, \"359\": -91.48417, \"360\": -88.519165, \"361\": -88.12972, \"362\": -89.46667, \"363\": -81.59278, \"364\": -80.399445, \"365\": -82.56028, \"366\": -80.2275, \"367\": -109.06528, \"368\": -104.810555, \"369\": -105.675, \"370\": -110.73778, \"371\": -106.46361, \"372\": -109.02389, \"373\": -105.539444, \"374\": -108.459724, \"375\": -106.98028}, \"ELEVATION\": {\"0\": 111, \"1\": 152, \"2\": 89, \"3\": 37, \"4\": 126, \"5\": 54, \"6\": 73, \"7\": 21, \"8\": 439, \"9\": 14, \"10\": 78, \"11\": 21, \"12\": 49, \"13\": 81, \"14\": 35, \"15\": 44, \"16\": 33, \"17\": 18, \"18\": 65, \"19\": 650, \"20\": 219, \"21\": 221, \"22\": 629, \"23\": 401, \"24\": 1287, \"25\": 262, \"26\": 390, \"27\": 469, \"28\": 2643, \"29\": 7014, \"30\": 1382, \"31\": 213, \"32\": 1135, \"33\": 5045, \"34\": 701, \"35\": 9, \"36\": 261, \"37\": 27, \"38\": 778, \"39\": 33, \"40\": 17, \"41\": 336, \"42\": 13, \"43\": 944, \"44\": 13, \"45\": 212, \"46\": 477, \"47\": 505, \"48\": 62, \"49\": 56, \"50\": 257, \"51\": 60, \"52\": 510, \"53\": 125, \"54\": 4124, \"55\": 128, \"56\": 221, \"57\": 7820, \"58\": 6187, \"59\": 7539, \"60\": 4858, \"61\": 7680, \"62\": 5431, \"63\": 6606, \"64\": 6548, \"65\": 5759, \"66\": 6685, \"67\": 4726, \"68\": 173, \"69\": 80, \"70\": 121, \"71\": 69, \"72\": 9, \"73\": 96, \"74\": 30, \"75\": 34, \"76\": 3, \"77\": 11, \"78\": 87, \"79\": 30, \"80\": 26, \"81\": 8, \"82\": 30, \"83\": 152, \"84\": 81, \"85\": 33, \"86\": 26, \"87\": 19, \"88\": 55, \"89\": 50, \"90\": 397, \"91\": 197, \"92\": 203, \"93\": 144, \"94\": 1026, \"95\": 26, \"96\": 54, \"97\": 13, \"98\": 38, \"99\": 153, \"100\": 47, \"101\": 1213, \"102\": 1098, \"103\": 1156, \"104\": 1077, \"105\": 869, \"106\": 873, \"107\": 958, \"108\": 4744, \"109\": 4452, \"110\": 1442, \"111\": 2871, \"112\": 5318, \"113\": 4154, \"114\": 871, \"115\": 459, \"116\": 620, \"117\": 672, \"118\": 742, \"119\": 598, \"120\": 660, \"121\": 755, \"122\": 590, \"123\": 682, \"124\": 418, \"125\": 797, \"126\": 814, \"127\": 799, \"128\": 2594, \"129\": 1333, \"130\": 2885, \"131\": 1999, \"132\": 1288, \"133\": 1057, \"134\": 2891, \"135\": 410, \"136\": 896, \"137\": 407, \"138\": 979, \"139\": 501, \"140\": 79, \"141\": 258, \"142\": 4, \"143\": 70, \"144\": 15, \"145\": 42, \"146\": 89, \"147\": 1009, \"148\": 20, \"149\": 54, \"150\": 47, \"151\": 67, \"152\": 52, \"153\": 703, \"154\": 146, \"155\": 534, \"156\": 192, \"157\": 76, \"158\": 1221, \"159\": 668, \"160\": 1182, \"161\": 721, \"162\": 609, \"163\": 690, \"164\": 782, \"165\": 624, \"166\": 645, \"167\": 861, \"168\": 794, \"169\": 874, \"170\": 629, \"171\": 1095, \"172\": 800, \"173\": 1391, \"174\": 1185, \"175\": 1232, \"176\": 1428, \"177\": 841, \"178\": 1317, \"179\": 1354, \"180\": 1031, \"181\": 981, \"182\": 1026, \"183\": 618, \"184\": 889, \"185\": 1302, \"186\": 1268, \"187\": 1159, \"188\": 342, \"189\": 298, \"190\": 297, \"191\": 28, \"192\": 264, \"193\": 346, \"194\": 2977, \"195\": 6649, \"196\": 3652, \"197\": 4473, \"198\": 3206, \"199\": 5550, \"200\": 3680, \"201\": 3877, \"202\": 94, \"203\": 18, \"204\": 435, \"205\": 705, \"206\": 26, \"207\": 748, \"208\": 2165, \"209\": 925, \"210\": 189, \"211\": 32, \"212\": 1716, \"213\": 2344, \"214\": 2592, \"215\": 1456, \"216\": 1500, \"217\": 902, \"218\": 1661, \"219\": 845, \"220\": 2131, \"221\": 984, \"222\": 1847, \"223\": 3967, \"224\": 2777, \"225\": 1219, \"226\": 100, \"227\": 266, \"228\": 75, \"229\": 18, \"230\": 213, \"231\": 3661, \"232\": 6348, \"233\": 3671, \"234\": 5355, \"235\": 4415, \"236\": 5140, \"237\": 2181, \"238\": 439, \"239\": 728, \"240\": 234, \"241\": 559, \"242\": 297, \"243\": 1636, \"244\": 954, \"245\": 21, \"246\": 285, \"247\": 491, \"248\": 13, \"249\": 325, \"250\": 1099, \"251\": 421, \"252\": 99, \"253\": 589, \"254\": 815, \"255\": 791, \"256\": 744, \"257\": 1228, \"258\": 683, \"259\": 1009, \"260\": 1000, \"261\": 1295, \"262\": 1110, \"263\": 677, \"264\": 3080, \"265\": 1335, \"266\": 31, \"267\": 374, \"268\": 17, \"269\": 732, \"270\": 36, \"271\": 393, \"272\": 962, \"273\": 2284, \"274\": 1199, \"275\": 310, \"276\": 1239, \"277\": 1203, \"278\": 28, \"279\": 237, \"280\": 9, \"281\": 55, \"282\": 46, \"283\": 236, \"284\": 964, \"285\": 19, \"286\": 25, \"287\": 146, \"288\": 1749, \"289\": 1302, \"290\": 3204, \"291\": 1429, \"292\": 1744, \"293\": 1519, \"294\": 599, \"295\": 341, \"296\": 981, \"297\": 683, \"298\": 305, \"299\": 32, \"300\": 215, \"301\": 44, \"302\": 1919, \"303\": 1015, \"304\": 22, \"305\": 1019, \"306\": 15, \"307\": 320, \"308\": 1791, \"309\": 508, \"310\": 46, \"311\": 36, \"312\": 3282, \"313\": 1002, \"314\": 809, \"315\": 542, \"316\": 365, \"317\": 107, \"318\": 487, \"319\": 3959, \"320\": 516, \"321\": 607, \"322\": 3607, \"323\": 544, \"324\": 2871, \"325\": 115, \"326\": 97, \"327\": 4473, \"328\": 5278, \"329\": 4227, \"330\": 2941, \"331\": 5622, \"332\": 4497, \"333\": 4557, \"334\": 167, \"335\": 1201, \"336\": 1175, \"337\": 15, \"338\": 26, \"339\": 42, \"340\": 639, \"341\": 312, \"342\": 938, \"343\": 24, \"344\": 74, \"345\": 335, \"346\": 2376, \"347\": 2556, \"348\": 170, \"349\": 606, \"350\": 1249, \"351\": 433, \"352\": 410, \"353\": 1194, \"354\": 1099, \"355\": 887, \"356\": 655, \"357\": 1277, \"358\": 723, \"359\": 913, \"360\": 918, \"361\": 695, \"362\": 1624, \"363\": 981, \"364\": 2302, \"365\": 828, \"366\": 1217, \"367\": 6764, \"368\": 6159, \"369\": 7284, \"370\": 6451, \"371\": 5350, \"372\": 5102, \"373\": 4365, \"374\": 5525, \"375\": 4021}, \"ICAO\": {\"0\": \"PAPG\", \"1\": \"PANC\", \"2\": \"PAKT\", \"3\": \"PAOM\", \"4\": \"PABE\", \"5\": \"PACV\", \"6\": \"PAKN\", \"7\": \"PASI\", \"8\": \"PAFA\", \"9\": \"PAOT\", \"10\": \"PADQ\", \"11\": \"PAJN\", \"12\": \"PAWG\", \"13\": \"PADL\", \"14\": \"PAGS\", \"15\": \"PABR\", \"16\": \"PAYA\", \"17\": \"PADK\", \"18\": \"PASC\", \"19\": \"KBHM\", \"20\": \"KMOB\", \"21\": \"KMGM\", \"22\": \"KHSV\", \"23\": \"KDHN\", \"24\": \"KXNA\", \"25\": \"KLIT\", \"26\": \"KTXK\", \"27\": \"KFSM\", \"28\": \"KTUS\", \"29\": \"KFLG\", \"30\": \"KIWA\", \"31\": \"KNYL\", \"32\": \"KPHX\", \"33\": \"KPRC\", \"34\": \"KIFP\", \"35\": \"KOAK\", \"36\": \"KSMX\", \"37\": \"KSMF\", \"38\": \"KBUR\", \"39\": \"KSCK\", \"40\": \"KSAN\", \"41\": \"KFAT\", \"42\": \"KSBA\", \"43\": \"KONT\", \"44\": \"KSFO\", \"45\": \"KSBP\", \"46\": \"KPSP\", \"47\": \"KRDD\", \"48\": \"KSJC\", \"49\": \"KSNA\", \"50\": \"KMRY\", \"51\": \"KLGB\", \"52\": \"KBFL\", \"53\": \"KLAX\", \"54\": \"KBIH\", \"55\": \"KSTS\", \"56\": \"KACV\", \"57\": \"KASE\", \"58\": \"KCOS\", \"59\": \"KALS\", \"60\": \"KGJT\", \"61\": \"KGUC\", \"62\": \"KDEN\", \"63\": \"KHDN\", \"64\": \"KEGE\", \"65\": \"KMTJ\", \"66\": \"KDRO\", \"67\": \"KPUB\", \"68\": \"KBDL\", \"69\": \"KILG\", \"70\": \"KPNS\", \"71\": \"KECP\", \"72\": \"KFLL\", \"73\": \"KMCO\", \"74\": \"KRSW\", \"75\": \"KDAB\", \"76\": \"KEYW\", \"77\": \"KPIE\", \"78\": \"KVPS\", \"79\": \"KSRQ\", \"80\": \"KPGD\", \"81\": \"KMIA\", \"82\": \"KJAX\", \"83\": \"KGNV\", \"84\": \"KTLH\", \"85\": \"KMLB\", \"86\": \"KTPA\", \"87\": \"KPBI\", \"88\": \"KSFB\", \"89\": \"KSAV\", \"90\": \"KCSG\", \"91\": \"KABY\", \"92\": \"KVLD\", \"93\": \"KAGS\", \"94\": \"KATL\", \"95\": \"KBQK\", \"96\": \"PHOG\", \"97\": \"PHNL\", \"98\": \"PHTO\", \"99\": \"PHLI\", \"100\": \"PHKO\", \"101\": \"KMCW\", \"102\": \"KSUX\", \"103\": \"KFOD\", \"104\": \"KDBQ\", \"105\": \"KCID\", \"106\": \"KALO\", \"107\": \"KDSM\", \"108\": \"KIDA\", \"109\": \"KPIH\", \"110\": \"KLWS\", \"111\": \"KBOI\", \"112\": \"KSUN\", \"113\": \"KTWF\", \"114\": \"KBMI\", \"115\": \"KBLV\", \"116\": \"KMDW\", \"117\": \"KORD\", \"118\": \"KRFD\", \"119\": \"KSPI\", \"120\": \"KPIA\", \"121\": \"KCMI\", \"122\": \"KMLI\", \"123\": \"KDEC\", \"124\": \"KEVV\", \"125\": \"KIND\", \"126\": \"KFWA\", \"127\": \"KSBN\", \"128\": \"KDDC\", \"129\": \"KICT\", \"130\": \"KLBL\", \"131\": \"KHYS\", \"132\": \"KSLN\", \"133\": \"KMHK\", \"134\": \"KGCK\", \"135\": \"KPAH\", \"136\": \"KCVG\", \"137\": \"KOWB\", \"138\": \"KLEX\", \"139\": \"KSDF\", \"140\": \"KMLU\", \"141\": \"KSHV\", \"142\": \"KMSY\", \"143\": \"KBTR\", \"144\": \"KLCH\", \"145\": \"KLFT\", \"146\": \"KAEX\", \"147\": \"KORH\", \"148\": \"KBOS\", \"149\": \"KHYA\", \"150\": \"KACK\", \"151\": \"KMVY\", \"152\": \"KSBY\", \"153\": \"KHGR\", \"154\": \"KBWI\", \"155\": \"KPQI\", \"156\": \"KBGR\", \"157\": \"KPWM\", \"158\": \"KSAW\", \"159\": \"KMBS\", \"160\": \"KIMT\", \"161\": \"KPLN\", \"162\": \"KESC\", \"163\": \"KAPN\", \"164\": \"KFNT\", \"165\": \"KTVC\", \"166\": \"KDTW\", \"167\": \"KLAN\", \"168\": \"KGRR\", \"169\": \"KAZO\", \"170\": \"KMKG\", \"171\": \"KCMX\", \"172\": \"KCIU\", \"173\": \"KBJI\", \"174\": \"KINL\", \"175\": \"KBRD\", \"176\": \"KDLH\", \"177\": \"KMSP\", \"178\": \"KRST\", \"179\": \"KHIB\", \"180\": \"KSTC\", \"181\": \"KJLN\", \"182\": \"KMCI\", \"183\": \"KSTL\", \"184\": \"KCOU\", \"185\": \"KBBG\", \"186\": \"KSGF\", \"187\": \"KTBN\", \"188\": \"KCGI\", \"189\": \"KPIB\", \"190\": \"KMEI\", \"191\": \"KGPT\", \"192\": \"KGTR\", \"193\": \"KJAN\", \"194\": \"KGPI\", \"195\": \"KWYS\", \"196\": \"KBIL\", \"197\": \"KBZN\", \"198\": \"KMSO\", \"199\": \"KBTM\", \"200\": \"KGTF\", \"201\": \"KHLN\", \"202\": \"KOAJ\", \"203\": \"KEWN\", \"204\": \"KRDU\", \"205\": \"KJQF\", \"206\": \"KPGV\", \"207\": \"KCLT\", \"208\": \"KAVL\", \"209\": \"KGSO\", \"210\": \"KFAY\", \"211\": \"KILM\", \"212\": \"KMOT\", \"213\": \"KXWA\", \"214\": \"KDIK\", \"215\": \"KDVL\", \"216\": \"KJMS\", \"217\": \"KFAR\", \"218\": \"KBIS\", \"219\": \"KGFK\", \"220\": \"KEAR\", \"221\": \"KOMA\", \"222\": \"KGRI\", \"223\": \"KBFF\", \"224\": \"KLBF\", \"225\": \"KLNK\", \"226\": \"KPSM\", \"227\": \"KMHT\", \"228\": \"KACY\", \"229\": \"KEWR\", \"230\": \"KTTN\", \"231\": \"KHOB\", \"232\": \"KSAF\", \"233\": \"KROW\", \"234\": \"KABQ\", \"235\": \"KRNO\", \"236\": \"KEKO\", \"237\": \"KLAS\", \"238\": \"KHPN\", \"239\": \"KBUF\", \"240\": \"KPBG\", \"241\": \"KROC\", \"242\": \"KOGS\", \"243\": \"KBGM\", \"244\": \"KELM\", \"245\": \"KLGA\", \"246\": \"KALB\", \"247\": \"KSWF\", \"248\": \"KJFK\", \"249\": \"KART\", \"250\": \"KITH\", \"251\": \"KSYR\", \"252\": \"KISP\", \"253\": \"KIAG\", \"254\": \"KCMH\", \"255\": \"KCLE\", \"256\": \"KLCK\", \"257\": \"KCAK\", \"258\": \"KTOL\", \"259\": \"KDAY\", \"260\": \"KSWO\", \"261\": \"KOKC\", \"262\": \"KLAW\", \"263\": \"KTUL\", \"264\": \"KRDM\", \"265\": \"KMFR\", \"266\": \"KPDX\", \"267\": \"KEUG\", \"268\": \"KOTH\", \"269\": \"KERI\", \"270\": \"KPHL\", \"271\": \"KABE\", \"272\": \"KAVP\", \"273\": \"KJST\", \"274\": \"KLBE\", \"275\": \"KMDT\", \"276\": \"KUNV\", \"277\": \"KPIT\", \"278\": \"TJPS\", \"279\": \"TJBQ\", \"280\": \"TJSJ\", \"281\": \"KPVD\", \"282\": \"KCHS\", \"283\": \"KCAE\", \"284\": \"KGSP\", \"285\": \"KHXD\", \"286\": \"KMYR\", \"287\": \"KFLO\", \"288\": \"KATY\", \"289\": \"KABR\", \"290\": \"KRAP\", \"291\": \"KFSD\", \"292\": \"KPIR\", \"293\": \"KTRI\", \"294\": \"KBNA\", \"295\": \"KMEM\", \"296\": \"KTYS\", \"297\": \"KCHA\", \"298\": \"PGUM\", \"299\": \"NSTU\", \"300\": \"PGSN\", \"301\": \"KCRP\", \"302\": \"KSJT\", \"303\": \"KGRK\", \"304\": \"KBRO\", \"305\": \"KSPS\", \"306\": \"KBPT\", \"307\": \"KCLL\", \"308\": \"KABI\", \"309\": \"KLRD\", \"310\": \"KHOU\", \"311\": \"KHRL\", \"312\": \"KLBB\", \"313\": \"KDRT\", \"314\": \"KSAT\", \"315\": \"KAUS\", \"316\": \"KGGG\", \"317\": \"KMFE\", \"318\": \"KDAL\", \"319\": \"KELP\", \"320\": \"KACT\", \"321\": \"KDFW\", \"322\": \"KAMA\", \"323\": \"KTYR\", \"324\": \"KMAF\", \"325\": \"KVCT\", \"326\": \"KIAH\", \"327\": \"KOGD\", \"328\": \"KVEL\", \"329\": \"KSLC\", \"330\": \"KSGU\", \"331\": \"KCDC\", \"332\": \"KPVU\", \"333\": \"KCNY\", \"334\": \"KRIC\", \"335\": \"KSHD\", \"336\": \"KROA\", \"337\": \"KDCA\", \"338\": \"KORF\", \"339\": \"KPHF\", \"340\": \"KCHO\", \"341\": \"KIAD\", \"342\": \"KLYH\", \"343\": \"TIST\", \"344\": \"TISX\", \"345\": \"KBTV\", \"346\": \"KGEG\", \"347\": \"KPUW\", \"348\": \"KBLI\", \"349\": \"KPAE\", \"350\": \"KEAT\", \"351\": \"KSEA\", \"352\": \"KPSC\", \"353\": \"KALW\", \"354\": \"KYKM\", \"355\": \"KMSN\", \"356\": \"KLSE\", \"357\": \"KCWA\", \"358\": \"KMKE\", \"359\": \"KEAU\", \"360\": \"KATW\", \"361\": \"KGRB\", \"362\": \"KRHI\", \"363\": \"KCRW\", \"364\": \"KLWB\", \"365\": \"KHTS\", \"366\": \"KCKB\", \"367\": \"KRKS\", \"368\": \"KCYS\", \"369\": \"KLAR\", \"370\": \"KJAC\", \"371\": \"KCPR\", \"372\": \"KCOD\", \"373\": \"KGCC\", \"374\": \"KRIW\", \"375\": \"KSHR\"}, \"IATA\": {\"0\": \"PSG\", \"1\": \"ANC\", \"2\": \"KTN\", \"3\": \"OME\", \"4\": \"BET\", \"5\": \"CDV\", \"6\": \"AKN\", \"7\": \"SIT\", \"8\": \"FAI\", \"9\": \"OTZ\", \"10\": \"ADQ\", \"11\": \"JNU\", \"12\": \"WRG\", \"13\": \"DLG\", \"14\": \"GST\", \"15\": \"BRW\", \"16\": \"YAK\", \"17\": \"ADK\", \"18\": \"SCC\", \"19\": \"BHM\", \"20\": \"MOB\", \"21\": \"MGM\", \"22\": \"HSV\", \"23\": \"DHN\", \"24\": \"XNA\", \"25\": \"LIT\", \"26\": \"TXK\", \"27\": \"FSM\", \"28\": \"TUS\", \"29\": \"FLG\", \"30\": \"AZA\", \"31\": \"YUM\", \"32\": \"PHX\", \"33\": \"PRC\", \"34\": \"IFP\", \"35\": \"OAK\", \"36\": \"SMX\", \"37\": \"SMF\", \"38\": \"BUR\", \"39\": \"SCK\", \"40\": \"SAN\", \"41\": \"FAT\", \"42\": \"SBA\", \"43\": \"ONT\", \"44\": \"SFO\", \"45\": \"SBP\", \"46\": \"PSP\", \"47\": \"RDD\", \"48\": \"SJC\", \"49\": \"SNA\", \"50\": \"MRY\", \"51\": \"LGB\", \"52\": \"BFL\", \"53\": \"LAX\", \"54\": \"BIH\", \"55\": \"STS\", \"56\": \"ACV\", \"57\": \"ASE\", \"58\": \"COS\", \"59\": \"ALS\", \"60\": \"GJT\", \"61\": \"GUC\", \"62\": \"DEN\", \"63\": \"HDN\", \"64\": \"EGE\", \"65\": \"MTJ\", \"66\": \"DRO\", \"67\": \"PUB\", \"68\": \"BDL\", \"69\": \"ILG\", \"70\": \"PNS\", \"71\": \"ECP\", \"72\": \"FLL\", \"73\": \"MCO\", \"74\": \"RSW\", \"75\": \"DAB\", \"76\": \"EYW\", \"77\": \"PIE\", \"78\": \"VPS\", \"79\": \"SRQ\", \"80\": \"PGD\", \"81\": \"MIA\", \"82\": \"JAX\", \"83\": \"GNV\", \"84\": \"TLH\", \"85\": \"MLB\", \"86\": \"TPA\", \"87\": \"PBI\", \"88\": \"SFB\", \"89\": \"SAV\", \"90\": \"CSG\", \"91\": \"ABY\", \"92\": \"VLD\", \"93\": \"AGS\", \"94\": \"ATL\", \"95\": \"BQK\", \"96\": \"OGG\", \"97\": \"HNL\", \"98\": \"ITO\", \"99\": \"LIH\", \"100\": \"KOA\", \"101\": \"MCW\", \"102\": \"SUX\", \"103\": \"FOD\", \"104\": \"DBQ\", \"105\": \"CID\", \"106\": \"ALO\", \"107\": \"DSM\", \"108\": \"IDA\", \"109\": \"PIH\", \"110\": \"LWS\", \"111\": \"BOI\", \"112\": \"SUN\", \"113\": \"TWF\", \"114\": \"BMI\", \"115\": \"BLV\", \"116\": \"MDW\", \"117\": \"ORD\", \"118\": \"RFD\", \"119\": \"SPI\", \"120\": \"PIA\", \"121\": \"CMI\", \"122\": \"MLI\", \"123\": \"DEC\", \"124\": \"EVV\", \"125\": \"IND\", \"126\": \"FWA\", \"127\": \"SBN\", \"128\": \"DDC\", \"129\": \"ICT\", \"130\": \"LBL\", \"131\": \"HYS\", \"132\": \"SLN\", \"133\": \"MHK\", \"134\": \"GCK\", \"135\": \"PAH\", \"136\": \"CVG\", \"137\": \"OWB\", \"138\": \"LEX\", \"139\": \"SDF\", \"140\": \"MLU\", \"141\": \"SHV\", \"142\": \"MSY\", \"143\": \"BTR\", \"144\": \"LCH\", \"145\": \"LFT\", \"146\": \"AEX\", \"147\": \"ORH\", \"148\": \"BOS\", \"149\": \"HYA\", \"150\": \"ACK\", \"151\": \"MVY\", \"152\": \"SBY\", \"153\": \"HGR\", \"154\": \"BWI\", \"155\": \"PQI\", \"156\": \"BGR\", \"157\": \"PWM\", \"158\": \"MQT\", \"159\": \"MBS\", \"160\": \"IMT\", \"161\": \"PLN\", \"162\": \"ESC\", \"163\": \"APN\", \"164\": \"FNT\", \"165\": \"TVC\", \"166\": \"DTW\", \"167\": \"LAN\", \"168\": \"GRR\", \"169\": \"AZO\", \"170\": \"MKG\", \"171\": \"CMX\", \"172\": \"CIU\", \"173\": \"BJI\", \"174\": \"INL\", \"175\": \"BRD\", \"176\": \"DLH\", \"177\": \"MSP\", \"178\": \"RST\", \"179\": \"HIB\", \"180\": \"STC\", \"181\": \"JLN\", \"182\": \"MCI\", \"183\": \"STL\", \"184\": \"COU\", \"185\": \"BKG\", \"186\": \"SGF\", \"187\": \"TBN\", \"188\": \"CGI\", \"189\": \"PIB\", \"190\": \"MEI\", \"191\": \"GPT\", \"192\": \"GTR\", \"193\": \"JAN\", \"194\": \"FCA\", \"195\": \"WYS\", \"196\": \"BIL\", \"197\": \"BZN\", \"198\": \"MSO\", \"199\": \"BTM\", \"200\": \"GTF\", \"201\": \"HLN\", \"202\": \"OAJ\", \"203\": \"EWN\", \"204\": \"RDU\", \"205\": \"USA\", \"206\": \"PGV\", \"207\": \"CLT\", \"208\": \"AVL\", \"209\": \"GSO\", \"210\": \"FAY\", \"211\": \"ILM\", \"212\": \"MOT\", \"213\": \"XWA\", \"214\": \"DIK\", \"215\": \"DVL\", \"216\": \"JMS\", \"217\": \"FAR\", \"218\": \"BIS\", \"219\": \"GFK\", \"220\": \"EAR\", \"221\": \"OMA\", \"222\": \"GRI\", \"223\": \"BFF\", \"224\": \"LBF\", \"225\": \"LNK\", \"226\": \"PSM\", \"227\": \"MHT\", \"228\": \"ACY\", \"229\": \"EWR\", \"230\": \"TTN\", \"231\": \"HOB\", \"232\": \"SAF\", \"233\": \"ROW\", \"234\": \"ABQ\", \"235\": \"RNO\", \"236\": \"EKO\", \"237\": \"LAS\", \"238\": \"HPN\", \"239\": \"BUF\", \"240\": \"PBG\", \"241\": \"ROC\", \"242\": \"OGS\", \"243\": \"BGM\", \"244\": \"ELM\", \"245\": \"LGA\", \"246\": \"ALB\", \"247\": \"SWF\", \"248\": \"JFK\", \"249\": \"ART\", \"250\": \"ITH\", \"251\": \"SYR\", \"252\": \"ISP\", \"253\": \"IAG\", \"254\": \"CMH\", \"255\": \"CLE\", \"256\": \"LCK\", \"257\": \"CAK\", \"258\": \"TOL\", \"259\": \"DAY\", \"260\": \"SWO\", \"261\": \"OKC\", \"262\": \"LAW\", \"263\": \"TUL\", \"264\": \"RDM\", \"265\": \"MFR\", \"266\": \"PDX\", \"267\": \"EUG\", \"268\": \"OTH\", \"269\": \"ERI\", \"270\": \"PHL\", \"271\": \"ABE\", \"272\": \"AVP\", \"273\": \"JST\", \"274\": \"LBE\", \"275\": \"MDT\", \"276\": \"SCE\", \"277\": \"PIT\", \"278\": \"PSE\", \"279\": \"BQN\", \"280\": \"SJU\", \"281\": \"PVD\", \"282\": \"CHS\", \"283\": \"CAE\", \"284\": \"GSP\", \"285\": \"HHH\", \"286\": \"MYR\", \"287\": \"FLO\", \"288\": \"ATY\", \"289\": \"ABR\", \"290\": \"RAP\", \"291\": \"FSD\", \"292\": \"PIR\", \"293\": \"TRI\", \"294\": \"BNA\", \"295\": \"MEM\", \"296\": \"TYS\", \"297\": \"CHA\", \"298\": \"GUM\", \"299\": \"PPG\", \"300\": \"SPN\", \"301\": \"CRP\", \"302\": \"SJT\", \"303\": \"GRK\", \"304\": \"BRO\", \"305\": \"SPS\", \"306\": \"BPT\", \"307\": \"CLL\", \"308\": \"ABI\", \"309\": \"LRD\", \"310\": \"HOU\", \"311\": \"HRL\", \"312\": \"LBB\", \"313\": \"DRT\", \"314\": \"SAT\", \"315\": \"AUS\", \"316\": \"GGG\", \"317\": \"MFE\", \"318\": \"DAL\", \"319\": \"ELP\", \"320\": \"ACT\", \"321\": \"DFW\", \"322\": \"AMA\", \"323\": \"TYR\", \"324\": \"MAF\", \"325\": \"VCT\", \"326\": \"IAH\", \"327\": \"OGD\", \"328\": \"VEL\", \"329\": \"SLC\", \"330\": \"SGU\", \"331\": \"CDC\", \"332\": \"PVU\", \"333\": \"CNY\", \"334\": \"RIC\", \"335\": \"SHD\", \"336\": \"ROA\", \"337\": \"DCA\", \"338\": \"ORF\", \"339\": \"PHF\", \"340\": \"CHO\", \"341\": \"IAD\", \"342\": \"LYH\", \"343\": \"STT\", \"344\": \"STX\", \"345\": \"BTV\", \"346\": \"GEG\", \"347\": \"PUW\", \"348\": \"BLI\", \"349\": \"PAE\", \"350\": \"EAT\", \"351\": \"SEA\", \"352\": \"PSC\", \"353\": \"ALW\", \"354\": \"YKM\", \"355\": \"MSN\", \"356\": \"LSE\", \"357\": \"CWA\", \"358\": \"MKE\", \"359\": \"EAU\", \"360\": \"ATW\", \"361\": \"GRB\", \"362\": \"RHI\", \"363\": \"CRW\", \"364\": \"LWB\", \"365\": \"HTS\", \"366\": \"CKB\", \"367\": \"RKS\", \"368\": \"CYS\", \"369\": \"LAR\", \"370\": \"JAC\", \"371\": \"CPR\", \"372\": \"COD\", \"373\": \"GCC\", \"374\": \"RIW\", \"375\": \"SHR\"}, \"FAA\": {\"0\": \"PSG\", \"1\": \"ANC\", \"2\": \"KTN\", \"3\": \"OME\", \"4\": \"BET\", \"5\": \"CDV\", \"6\": \"AKN\", \"7\": \"SIT\", \"8\": \"FAI\", \"9\": \"OTZ\", \"10\": \"ADQ\", \"11\": \"JNU\", \"12\": \"WRG\", \"13\": \"DLG\", \"14\": \"GST\", \"15\": \"BRW\", \"16\": \"YAK\", \"17\": \"ADK\", \"18\": \"SCC\", \"19\": \"BHM\", \"20\": \"MOB\", \"21\": \"MGM\", \"22\": \"HSV\", \"23\": \"DHN\", \"24\": \"XNA\", \"25\": \"LIT\", \"26\": \"TXK\", \"27\": \"FSM\", \"28\": \"TUS\", \"29\": \"FLG\", \"30\": \"IWA\", \"31\": \"NYL\", \"32\": \"PHX\", \"33\": \"PRC\", \"34\": \"IFP\", \"35\": \"OAK\", \"36\": \"SMX\", \"37\": \"SMF\", \"38\": \"BUR\", \"39\": \"SCK\", \"40\": \"SAN\", \"41\": \"FAT\", \"42\": \"SBA\", \"43\": \"ONT\", \"44\": \"SFO\", \"45\": \"SBP\", \"46\": \"PSP\", \"47\": \"RDD\", \"48\": \"SJC\", \"49\": \"SNA\", \"50\": \"MRY\", \"51\": \"LGB\", \"52\": \"BFL\", \"53\": \"LAX\", \"54\": \"BIH\", \"55\": \"STS\", \"56\": \"ACV\", \"57\": \"ASE\", \"58\": \"COS\", \"59\": \"ALS\", \"60\": \"GJT\", \"61\": \"GUC\", \"62\": \"DEN\", \"63\": \"HDN\", \"64\": \"EGE\", \"65\": \"MTJ\", \"66\": \"DRO\", \"67\": \"PUB\", \"68\": \"BDL\", \"69\": \"ILG\", \"70\": \"PNS\", \"71\": \"ECP\", \"72\": \"FLL\", \"73\": \"MCO\", \"74\": \"RSW\", \"75\": \"DAB\", \"76\": \"EYW\", \"77\": \"PIE\", \"78\": \"VPS\", \"79\": \"SRQ\", \"80\": \"PGD\", \"81\": \"MIA\", \"82\": \"JAX\", \"83\": \"GNV\", \"84\": \"TLH\", \"85\": \"MLB\", \"86\": \"TPA\", \"87\": \"PBI\", \"88\": \"SFB\", \"89\": \"SAV\", \"90\": \"CSG\", \"91\": \"ABY\", \"92\": \"VLD\", \"93\": \"AGS\", \"94\": \"ATL\", \"95\": \"BQK\", \"96\": \"OGG\", \"97\": \"HNL\", \"98\": \"ITO\", \"99\": \"LIH\", \"100\": \"KOA\", \"101\": \"MCW\", \"102\": \"SUX\", \"103\": \"FOD\", \"104\": \"DBQ\", \"105\": \"CID\", \"106\": \"ALO\", \"107\": \"DSM\", \"108\": \"IDA\", \"109\": \"PIH\", \"110\": \"LWS\", \"111\": \"BOI\", \"112\": \"SUN\", \"113\": \"TWF\", \"114\": \"BMI\", \"115\": \"BLV\", \"116\": \"MDW\", \"117\": \"ORD\", \"118\": \"RFD\", \"119\": \"SPI\", \"120\": \"PIA\", \"121\": \"CMI\", \"122\": \"MLI\", \"123\": \"DEC\", \"124\": \"EVV\", \"125\": \"IND\", \"126\": \"FWA\", \"127\": \"SBN\", \"128\": \"DDC\", \"129\": \"ICT\", \"130\": \"LBL\", \"131\": \"HYS\", \"132\": \"SLN\", \"133\": \"MHK\", \"134\": \"GCK\", \"135\": \"PAH\", \"136\": \"CVG\", \"137\": \"OWB\", \"138\": \"LEX\", \"139\": \"SDF\", \"140\": \"MLU\", \"141\": \"SHV\", \"142\": \"MSY\", \"143\": \"BTR\", \"144\": \"LCH\", \"145\": \"LFT\", \"146\": \"AEX\", \"147\": \"ORH\", \"148\": \"BOS\", \"149\": \"HYA\", \"150\": \"ACK\", \"151\": \"MVY\", \"152\": \"SBY\", \"153\": \"HGR\", \"154\": \"BWI\", \"155\": \"PQI\", \"156\": \"BGR\", \"157\": \"PWM\", \"158\": \"SAW\", \"159\": \"MBS\", \"160\": \"IMT\", \"161\": \"PLN\", \"162\": \"ESC\", \"163\": \"APN\", \"164\": \"FNT\", \"165\": \"TVC\", \"166\": \"DTW\", \"167\": \"LAN\", \"168\": \"GRR\", \"169\": \"AZO\", \"170\": \"MKG\", \"171\": \"CMX\", \"172\": \"CIU\", \"173\": \"BJI\", \"174\": \"INL\", \"175\": \"BRD\", \"176\": \"DLH\", \"177\": \"MSP\", \"178\": \"RST\", \"179\": \"HIB\", \"180\": \"STC\", \"181\": \"JLN\", \"182\": \"MCI\", \"183\": \"STL\", \"184\": \"COU\", \"185\": \"BBG\", \"186\": \"SGF\", \"187\": \"TBN\", \"188\": \"CGI\", \"189\": \"PIB\", \"190\": \"MEI\", \"191\": \"GPT\", \"192\": \"GTR\", \"193\": \"JAN\", \"194\": \"GPI\", \"195\": \"WYS\", \"196\": \"BIL\", \"197\": \"BZN\", \"198\": \"MSO\", \"199\": \"BTM\", \"200\": \"GTF\", \"201\": \"HLN\", \"202\": \"OAJ\", \"203\": \"EWN\", \"204\": \"RDU\", \"205\": \"JQF\", \"206\": \"PGV\", \"207\": \"CLT\", \"208\": \"AVL\", \"209\": \"GSO\", \"210\": \"FAY\", \"211\": \"ILM\", \"212\": \"MOT\", \"213\": \"XWA\", \"214\": \"DIK\", \"215\": \"DVL\", \"216\": \"JMS\", \"217\": \"FAR\", \"218\": \"BIS\", \"219\": \"GFK\", \"220\": \"EAR\", \"221\": \"OMA\", \"222\": \"GRI\", \"223\": \"BFF\", \"224\": \"LBF\", \"225\": \"LNK\", \"226\": \"PSM\", \"227\": \"MHT\", \"228\": \"ACY\", \"229\": \"EWR\", \"230\": \"TTN\", \"231\": \"HOB\", \"232\": \"SAF\", \"233\": \"ROW\", \"234\": \"ABQ\", \"235\": \"RNO\", \"236\": \"EKO\", \"237\": \"LAS\", \"238\": \"HPN\", \"239\": \"BUF\", \"240\": \"PBG\", \"241\": \"ROC\", \"242\": \"OGS\", \"243\": \"BGM\", \"244\": \"ELM\", \"245\": \"LGA\", \"246\": \"ALB\", \"247\": \"SWF\", \"248\": \"JFK\", \"249\": \"ART\", \"250\": \"ITH\", \"251\": \"SYR\", \"252\": \"ISP\", \"253\": \"IAG\", \"254\": \"CMH\", \"255\": \"CLE\", \"256\": \"LCK\", \"257\": \"CAK\", \"258\": \"TOL\", \"259\": \"DAY\", \"260\": \"SWO\", \"261\": \"OKC\", \"262\": \"LAW\", \"263\": \"TUL\", \"264\": \"RDM\", \"265\": \"MFR\", \"266\": \"PDX\", \"267\": \"EUG\", \"268\": \"OTH\", \"269\": \"ERI\", \"270\": \"PHL\", \"271\": \"ABE\", \"272\": \"AVP\", \"273\": \"JST\", \"274\": \"LBE\", \"275\": \"MDT\", \"276\": \"UNV\", \"277\": \"PIT\", \"278\": \"PSE\", \"279\": \"BQN\", \"280\": \"SJU\", \"281\": \"PVD\", \"282\": \"CHS\", \"283\": \"CAE\", \"284\": \"GSP\", \"285\": \"HXD\", \"286\": \"MYR\", \"287\": \"FLO\", \"288\": \"ATY\", \"289\": \"ABR\", \"290\": \"RAP\", \"291\": \"FSD\", \"292\": \"PIR\", \"293\": \"TRI\", \"294\": \"BNA\", \"295\": \"MEM\", \"296\": \"TYS\", \"297\": \"CHA\", \"298\": \"GUM\", \"299\": \"PPG\", \"300\": \"GSN\", \"301\": \"CRP\", \"302\": \"SJT\", \"303\": \"GRK\", \"304\": \"BRO\", \"305\": \"SPS\", \"306\": \"BPT\", \"307\": \"CLL\", \"308\": \"ABI\", \"309\": \"LRD\", \"310\": \"HOU\", \"311\": \"HRL\", \"312\": \"LBB\", \"313\": \"DRT\", \"314\": \"SAT\", \"315\": \"AUS\", \"316\": \"GGG\", \"317\": \"MFE\", \"318\": \"DAL\", \"319\": \"ELP\", \"320\": \"ACT\", \"321\": \"DFW\", \"322\": \"AMA\", \"323\": \"TYR\", \"324\": \"MAF\", \"325\": \"VCT\", \"326\": \"IAH\", \"327\": \"OGD\", \"328\": \"VEL\", \"329\": \"SLC\", \"330\": \"SGU\", \"331\": \"CDC\", \"332\": \"PVU\", \"333\": \"CNY\", \"334\": \"RIC\", \"335\": \"SHD\", \"336\": \"ROA\", \"337\": \"DCA\", \"338\": \"ORF\", \"339\": \"PHF\", \"340\": \"CHO\", \"341\": \"IAD\", \"342\": \"LYH\", \"343\": \"STT\", \"344\": \"STX\", \"345\": \"BTV\", \"346\": \"GEG\", \"347\": \"PUW\", \"348\": \"BLI\", \"349\": \"PAE\", \"350\": \"EAT\", \"351\": \"SEA\", \"352\": \"PSC\", \"353\": \"ALW\", \"354\": \"YKM\", \"355\": \"MSN\", \"356\": \"LSE\", \"357\": \"CWA\", \"358\": \"MKE\", \"359\": \"EAU\", \"360\": \"ATW\", \"361\": \"GRB\", \"362\": \"RHI\", \"363\": \"CRW\", \"364\": \"LWB\", \"365\": \"HTS\", \"366\": \"CKB\", \"367\": \"RKS\", \"368\": \"CYS\", \"369\": \"LAR\", \"370\": \"JAC\", \"371\": \"CPR\", \"372\": \"COD\", \"373\": \"GCC\", \"374\": \"RIW\", \"375\": \"SHR\"}, \"MESONET_STATION\": {\"0\": \"PAPG\", \"1\": \"PANC\", \"2\": \"PAKT\", \"3\": \"PAOM\", \"4\": \"PABE\", \"5\": \"PACV\", \"6\": \"PAKN\", \"7\": \"PASI\", \"8\": \"PAFA\", \"9\": \"PAOT\", \"10\": \"PADQ\", \"11\": \"PAJN\", \"12\": \"PAWG\", \"13\": \"PADL\", \"14\": \"PAGS\", \"15\": \"PABR\", \"16\": \"PAYA\", \"17\": \"PADK\", \"18\": \"PASC\", \"19\": \"BHM\", \"20\": \"MOB\", \"21\": \"MGM\", \"22\": \"HSV\", \"23\": \"DHN\", \"24\": \"XNA\", \"25\": \"LIT\", \"26\": \"TXK\", \"27\": \"FSM\", \"28\": \"TUS\", \"29\": \"FLG\", \"30\": \"IWA\", \"31\": \"NYL\", \"32\": \"PHX\", \"33\": \"PRC\", \"34\": \"IFP\", \"35\": \"OAK\", \"36\": \"SMX\", \"37\": \"SMF\", \"38\": \"BUR\", \"39\": \"SCK\", \"40\": \"SAN\", \"41\": \"FAT\", \"42\": \"SBA\", \"43\": \"ONT\", \"44\": \"SFO\", \"45\": \"SBP\", \"46\": \"PSP\", \"47\": \"RDD\", \"48\": \"SJC\", \"49\": \"SNA\", \"50\": \"MRY\", \"51\": \"LGB\", \"52\": \"BFL\", \"53\": \"LAX\", \"54\": \"BIH\", \"55\": \"STS\", \"56\": \"ACV\", \"57\": \"ASE\", \"58\": \"COS\", \"59\": \"ALS\", \"60\": \"GJT\", \"61\": \"GUC\", \"62\": \"DEN\", \"63\": \"HDN\", \"64\": \"EGE\", \"65\": \"MTJ\", \"66\": \"DRO\", \"67\": \"PUB\", \"68\": \"BDL\", \"69\": \"ILG\", \"70\": \"PNS\", \"71\": \"ECP\", \"72\": \"FLL\", \"73\": \"MCO\", \"74\": \"RSW\", \"75\": \"DAB\", \"76\": \"EYW\", \"77\": \"PIE\", \"78\": \"VPS\", \"79\": \"SRQ\", \"80\": \"PGD\", \"81\": \"MIA\", \"82\": \"JAX\", \"83\": \"GNV\", \"84\": \"TLH\", \"85\": \"MLB\", \"86\": \"TPA\", \"87\": \"PBI\", \"88\": \"SFB\", \"89\": \"SAV\", \"90\": \"CSG\", \"91\": \"ABY\", \"92\": \"VLD\", \"93\": \"AGS\", \"94\": \"ATL\", \"95\": \"BQK\", \"96\": \"PHOG\", \"97\": \"PHNL\", \"98\": \"PHTO\", \"99\": \"PHLI\", \"100\": \"PHKO\", \"101\": \"MCW\", \"102\": \"SUX\", \"103\": \"FOD\", \"104\": \"DBQ\", \"105\": \"CID\", \"106\": \"ALO\", \"107\": \"DSM\", \"108\": \"IDA\", \"109\": \"PIH\", \"110\": \"LWS\", \"111\": \"BOI\", \"112\": \"SUN\", \"113\": \"TWF\", \"114\": \"BMI\", \"115\": \"BLV\", \"116\": \"MDW\", \"117\": \"ORD\", \"118\": \"RFD\", \"119\": \"SPI\", \"120\": \"PIA\", \"121\": \"CMI\", \"122\": \"MLI\", \"123\": \"DEC\", \"124\": \"EVV\", \"125\": \"IND\", \"126\": \"FWA\", \"127\": \"SBN\", \"128\": \"DDC\", \"129\": \"ICT\", \"130\": \"LBL\", \"131\": \"HYS\", \"132\": \"SLN\", \"133\": \"MHK\", \"134\": \"GCK\", \"135\": \"PAH\", \"136\": \"CVG\", \"137\": \"OWB\", \"138\": \"LEX\", \"139\": \"SDF\", \"140\": \"MLU\", \"141\": \"SHV\", \"142\": \"MSY\", \"143\": \"BTR\", \"144\": \"LCH\", \"145\": \"LFT\", \"146\": \"AEX\", \"147\": \"ORH\", \"148\": \"BOS\", \"149\": \"HYA\", \"150\": \"ACK\", \"151\": \"MVY\", \"152\": \"SBY\", \"153\": \"HGR\", \"154\": \"BWI\", \"155\": \"PQI\", \"156\": \"BGR\", \"157\": \"PWM\", \"158\": \"SAW\", \"159\": \"MBS\", \"160\": \"IMT\", \"161\": \"PLN\", \"162\": \"ESC\", \"163\": \"APN\", \"164\": \"FNT\", \"165\": \"TVC\", \"166\": \"DTW\", \"167\": \"LAN\", \"168\": \"GRR\", \"169\": \"AZO\", \"170\": \"MKG\", \"171\": \"CMX\", \"172\": \"CIU\", \"173\": \"BJI\", \"174\": \"INL\", \"175\": \"BRD\", \"176\": \"DLH\", \"177\": \"MSP\", \"178\": \"RST\", \"179\": \"HIB\", \"180\": \"STC\", \"181\": \"JLN\", \"182\": \"MCI\", \"183\": \"STL\", \"184\": \"COU\", \"185\": \"BBG\", \"186\": \"SGF\", \"187\": \"TBN\", \"188\": \"CGI\", \"189\": \"PIB\", \"190\": \"MEI\", \"191\": \"GPT\", \"192\": \"GTR\", \"193\": \"JAN\", \"194\": \"GPI\", \"195\": \"WYS\", \"196\": \"BIL\", \"197\": \"BZN\", \"198\": \"MSO\", \"199\": \"BTM\", \"200\": \"GTF\", \"201\": \"HLN\", \"202\": \"OAJ\", \"203\": \"EWN\", \"204\": \"RDU\", \"205\": \"JQF\", \"206\": \"PGV\", \"207\": \"CLT\", \"208\": \"AVL\", \"209\": \"GSO\", \"210\": \"FAY\", \"211\": \"ILM\", \"212\": \"MOT\", \"213\": \"XWA\", \"214\": \"DIK\", \"215\": \"DVL\", \"216\": \"JMS\", \"217\": \"FAR\", \"218\": \"BIS\", \"219\": \"GFK\", \"220\": \"EAR\", \"221\": \"OMA\", \"222\": \"GRI\", \"223\": \"BFF\", \"224\": \"LBF\", \"225\": \"LNK\", \"226\": \"PSM\", \"227\": \"MHT\", \"228\": \"ACY\", \"229\": \"EWR\", \"230\": \"TTN\", \"231\": \"HOB\", \"232\": \"SAF\", \"233\": \"ROW\", \"234\": \"ABQ\", \"235\": \"RNO\", \"236\": \"EKO\", \"237\": \"LAS\", \"238\": \"HPN\", \"239\": \"BUF\", \"240\": \"PBG\", \"241\": \"ROC\", \"242\": \"OGS\", \"243\": \"BGM\", \"244\": \"ELM\", \"245\": \"LGA\", \"246\": \"ALB\", \"247\": \"SWF\", \"248\": \"JFK\", \"249\": \"ART\", \"250\": \"ITH\", \"251\": \"SYR\", \"252\": \"ISP\", \"253\": \"IAG\", \"254\": \"CMH\", \"255\": \"CLE\", \"256\": \"LCK\", \"257\": \"CAK\", \"258\": \"TOL\", \"259\": \"DAY\", \"260\": \"SWO\", \"261\": \"OKC\", \"262\": \"LAW\", \"263\": \"TUL\", \"264\": \"RDM\", \"265\": \"MFR\", \"266\": \"PDX\", \"267\": \"EUG\", \"268\": \"OTH\", \"269\": \"ERI\", \"270\": \"PHL\", \"271\": \"ABE\", \"272\": \"AVP\", \"273\": \"JST\", \"274\": \"LBE\", \"275\": \"MDT\", \"276\": \"UNV\", \"277\": \"PIT\", \"278\": \"TJPS\", \"279\": \"TJBQ\", \"280\": \"TJSJ\", \"281\": \"PVD\", \"282\": \"CHS\", \"283\": \"CAE\", \"284\": \"GSP\", \"285\": \"HXD\", \"286\": \"MYR\", \"287\": \"FLO\", \"288\": \"ATY\", \"289\": \"ABR\", \"290\": \"RAP\", \"291\": \"FSD\", \"292\": \"PIR\", \"293\": \"TRI\", \"294\": \"BNA\", \"295\": \"MEM\", \"296\": \"TYS\", \"297\": \"CHA\", \"298\": \"PGUM\", \"299\": \"NSTU\", \"300\": \"PGSN\", \"301\": \"CRP\", \"302\": \"SJT\", \"303\": \"GRK\", \"304\": \"BRO\", \"305\": \"SPS\", \"306\": \"BPT\", \"307\": \"CLL\", \"308\": \"ABI\", \"309\": \"LRD\", \"310\": \"HOU\", \"311\": \"HRL\", \"312\": \"LBB\", \"313\": \"DRT\", \"314\": \"SAT\", \"315\": \"AUS\", \"316\": \"GGG\", \"317\": \"MFE\", \"318\": \"DAL\", \"319\": \"ELP\", \"320\": \"ACT\", \"321\": \"DFW\", \"322\": \"AMA\", \"323\": \"TYR\", \"324\": \"MAF\", \"325\": \"VCT\", \"326\": \"IAH\", \"327\": \"OGD\", \"328\": \"VEL\", \"329\": \"SLC\", \"330\": \"SGU\", \"331\": \"CDC\", \"332\": \"PVU\", \"333\": \"CNY\", \"334\": \"RIC\", \"335\": \"SHD\", \"336\": \"ROA\", \"337\": \"DCA\", \"338\": \"ORF\", \"339\": \"PHF\", \"340\": \"CHO\", \"341\": \"IAD\", \"342\": \"LYH\", \"343\": \"TIST\", \"344\": \"TISX\", \"345\": \"BTV\", \"346\": \"GEG\", \"347\": \"PUW\", \"348\": \"BLI\", \"349\": \"PAE\", \"350\": \"EAT\", \"351\": \"SEA\", \"352\": \"PSC\", \"353\": \"ALW\", \"354\": \"YKM\", \"355\": \"MSN\", \"356\": \"LSE\", \"357\": \"CWA\", \"358\": \"MKE\", \"359\": \"EAU\", \"360\": \"ATW\", \"361\": \"GRB\", \"362\": \"RHI\", \"363\": \"CRW\", \"364\": \"LWB\", \"365\": \"HTS\", \"366\": \"CKB\", \"367\": \"RKS\", \"368\": \"CYS\", \"369\": \"LAR\", \"370\": \"JAC\", \"371\": \"CPR\", \"372\": \"COD\", \"373\": \"GCC\", \"374\": \"RIW\", \"375\": \"SHR\"}}'"
     },
     "execution_count": 5,
     "metadata": {},
     "output_type": "execute_result"
    }
   ],
   "source": [
    "import json\n",
    "\n",
    "json_stations = json.loads(result_json)\n",
    "json.dumps(json_stations)"
   ],
   "metadata": {
    "collapsed": false,
    "ExecuteTime": {
     "start_time": "2023-04-24T12:34:24.058293Z",
     "end_time": "2023-04-24T12:34:24.067639Z"
    }
   }
  },
  {
   "cell_type": "markdown",
   "source": [
    "# Testing JSON"
   ],
   "metadata": {
    "collapsed": false
   }
  },
  {
   "cell_type": "code",
   "execution_count": 6,
   "outputs": [
    {
     "data": {
      "text/plain": "   AIRPORT_ID AIRPORT                 DISPLAY_AIRPORT_NAME  \\\n0       14256     PSG           Petersburg James A Johnson   \n1       10299     ANC  Ted Stevens Anchorage International   \n2       12819     KTN              Ketchikan International   \n3       13873     OME                         Nome Airport   \n4       10551     BET                       Bethel Airport   \n\n  DISPLAY_AIRPORT_CITY_NAME_FULL AIRPORT_STATE_NAME AIRPORT_STATE_CODE  \\\n0                 Petersburg, AK             Alaska                 AK   \n1                  Anchorage, AK             Alaska                 AK   \n2                  Ketchikan, AK             Alaska                 AK   \n3                       Nome, AK             Alaska                 AK   \n4                     Bethel, AK             Alaska                 AK   \n\n    LATITUDE  LONGITUDE  ELEVATION  ICAO IATA  FAA MESONET_STATION  \n0  56.801388 -132.94610        111  PAPG  PSG  PSG            PAPG  \n1  61.174168 -149.99806        152  PANC  ANC  ANC            PANC  \n2  55.354168 -131.71110         89  PAKT  KTN  KTN            PAKT  \n3  64.510560 -165.44472         37  PAOM  OME  OME            PAOM  \n4  60.778610 -161.83722        126  PABE  BET  BET            PABE  ",
      "text/html": "<div>\n<style scoped>\n    .dataframe tbody tr th:only-of-type {\n        vertical-align: middle;\n    }\n\n    .dataframe tbody tr th {\n        vertical-align: top;\n    }\n\n    .dataframe thead th {\n        text-align: right;\n    }\n</style>\n<table border=\"1\" class=\"dataframe\">\n  <thead>\n    <tr style=\"text-align: right;\">\n      <th></th>\n      <th>AIRPORT_ID</th>\n      <th>AIRPORT</th>\n      <th>DISPLAY_AIRPORT_NAME</th>\n      <th>DISPLAY_AIRPORT_CITY_NAME_FULL</th>\n      <th>AIRPORT_STATE_NAME</th>\n      <th>AIRPORT_STATE_CODE</th>\n      <th>LATITUDE</th>\n      <th>LONGITUDE</th>\n      <th>ELEVATION</th>\n      <th>ICAO</th>\n      <th>IATA</th>\n      <th>FAA</th>\n      <th>MESONET_STATION</th>\n    </tr>\n  </thead>\n  <tbody>\n    <tr>\n      <th>0</th>\n      <td>14256</td>\n      <td>PSG</td>\n      <td>Petersburg James A Johnson</td>\n      <td>Petersburg, AK</td>\n      <td>Alaska</td>\n      <td>AK</td>\n      <td>56.801388</td>\n      <td>-132.94610</td>\n      <td>111</td>\n      <td>PAPG</td>\n      <td>PSG</td>\n      <td>PSG</td>\n      <td>PAPG</td>\n    </tr>\n    <tr>\n      <th>1</th>\n      <td>10299</td>\n      <td>ANC</td>\n      <td>Ted Stevens Anchorage International</td>\n      <td>Anchorage, AK</td>\n      <td>Alaska</td>\n      <td>AK</td>\n      <td>61.174168</td>\n      <td>-149.99806</td>\n      <td>152</td>\n      <td>PANC</td>\n      <td>ANC</td>\n      <td>ANC</td>\n      <td>PANC</td>\n    </tr>\n    <tr>\n      <th>2</th>\n      <td>12819</td>\n      <td>KTN</td>\n      <td>Ketchikan International</td>\n      <td>Ketchikan, AK</td>\n      <td>Alaska</td>\n      <td>AK</td>\n      <td>55.354168</td>\n      <td>-131.71110</td>\n      <td>89</td>\n      <td>PAKT</td>\n      <td>KTN</td>\n      <td>KTN</td>\n      <td>PAKT</td>\n    </tr>\n    <tr>\n      <th>3</th>\n      <td>13873</td>\n      <td>OME</td>\n      <td>Nome Airport</td>\n      <td>Nome, AK</td>\n      <td>Alaska</td>\n      <td>AK</td>\n      <td>64.510560</td>\n      <td>-165.44472</td>\n      <td>37</td>\n      <td>PAOM</td>\n      <td>OME</td>\n      <td>OME</td>\n      <td>PAOM</td>\n    </tr>\n    <tr>\n      <th>4</th>\n      <td>10551</td>\n      <td>BET</td>\n      <td>Bethel Airport</td>\n      <td>Bethel, AK</td>\n      <td>Alaska</td>\n      <td>AK</td>\n      <td>60.778610</td>\n      <td>-161.83722</td>\n      <td>126</td>\n      <td>PABE</td>\n      <td>BET</td>\n      <td>BET</td>\n      <td>PABE</td>\n    </tr>\n  </tbody>\n</table>\n</div>"
     },
     "execution_count": 6,
     "metadata": {},
     "output_type": "execute_result"
    }
   ],
   "source": [
    "stations_path = '../data/jsonFiles/stations_data.json'\n",
    "df_stations_json = pd.read_json(stations_path)\n",
    "df_stations_json.head()"
   ],
   "metadata": {
    "collapsed": false,
    "ExecuteTime": {
     "start_time": "2023-04-24T12:34:25.082389Z",
     "end_time": "2023-04-24T12:34:25.098477Z"
    }
   }
  },
  {
   "cell_type": "code",
   "execution_count": 7,
   "outputs": [
    {
     "name": "stdout",
     "output_type": "stream",
     "text": [
      "<class 'pandas.core.frame.DataFrame'>\n",
      "Int64Index: 376 entries, 0 to 375\n",
      "Data columns (total 13 columns):\n",
      " #   Column                          Non-Null Count  Dtype  \n",
      "---  ------                          --------------  -----  \n",
      " 0   AIRPORT_ID                      376 non-null    int64  \n",
      " 1   AIRPORT                         376 non-null    object \n",
      " 2   DISPLAY_AIRPORT_NAME            376 non-null    object \n",
      " 3   DISPLAY_AIRPORT_CITY_NAME_FULL  376 non-null    object \n",
      " 4   AIRPORT_STATE_NAME              376 non-null    object \n",
      " 5   AIRPORT_STATE_CODE              376 non-null    object \n",
      " 6   LATITUDE                        376 non-null    float64\n",
      " 7   LONGITUDE                       376 non-null    float64\n",
      " 8   ELEVATION                       376 non-null    int64  \n",
      " 9   ICAO                            376 non-null    object \n",
      " 10  IATA                            376 non-null    object \n",
      " 11  FAA                             376 non-null    object \n",
      " 12  MESONET_STATION                 376 non-null    object \n",
      "dtypes: float64(2), int64(2), object(9)\n",
      "memory usage: 41.1+ KB\n"
     ]
    }
   ],
   "source": [
    "df_stations_json.info()"
   ],
   "metadata": {
    "collapsed": false,
    "ExecuteTime": {
     "start_time": "2023-04-24T12:35:43.019246Z",
     "end_time": "2023-04-24T12:35:43.037134Z"
    }
   }
  },
  {
   "cell_type": "markdown",
   "source": [
    "## Can ```AIRPORT_ID``` be the id of the table? Is it unique?"
   ],
   "metadata": {
    "collapsed": false
   }
  },
  {
   "cell_type": "code",
   "execution_count": 10,
   "outputs": [
    {
     "data": {
      "text/plain": "376"
     },
     "execution_count": 10,
     "metadata": {},
     "output_type": "execute_result"
    }
   ],
   "source": [
    "len (df_stations_json['AIRPORT_ID'].unique())"
   ],
   "metadata": {
    "collapsed": false,
    "ExecuteTime": {
     "start_time": "2023-04-24T12:36:38.981286Z",
     "end_time": "2023-04-24T12:36:38.985142Z"
    }
   }
  },
  {
   "cell_type": "code",
   "execution_count": 11,
   "outputs": [
    {
     "name": "stdout",
     "output_type": "stream",
     "text": [
      "   Courses    Fee Duration  Discount\n",
      "0    Spark  20000   30days      1000\n",
      "1  PySpark  25000   40days      2300\n",
      "2   Python  22000   35days      1200\n",
      "3   pandas  30000   50days      2000\n",
      "4   Python  22000   40days      2300\n",
      "5    Spark  20000   30days      1000\n",
      "6   pandas  30000   50days      2000\n"
     ]
    }
   ],
   "source": [
    "import pandas as pd\n",
    "technologies = {\n",
    "    'Courses':[\"Spark\",\"PySpark\",\"Python\",\"pandas\",\"Python\",\"Spark\",\"pandas\"],\n",
    "    'Fee' :[20000,25000,22000,30000,22000,20000,30000],\n",
    "    'Duration':['30days','40days','35days','50days','40days','30days','50days'],\n",
    "    'Discount':[1000,2300,1200,2000,2300,1000,2000]\n",
    "}\n",
    "df = pd.DataFrame(technologies)\n",
    "print(df)"
   ],
   "metadata": {
    "collapsed": false,
    "ExecuteTime": {
     "start_time": "2023-04-24T12:40:25.669709Z",
     "end_time": "2023-04-24T12:40:25.681313Z"
    }
   }
  },
  {
   "cell_type": "code",
   "execution_count": 12,
   "outputs": [
    {
     "data": {
      "text/plain": "array(['Spark', 'PySpark', 'Python', 'pandas'], dtype=object)"
     },
     "execution_count": 12,
     "metadata": {},
     "output_type": "execute_result"
    }
   ],
   "source": [
    "df['Courses'].unique()"
   ],
   "metadata": {
    "collapsed": false,
    "ExecuteTime": {
     "start_time": "2023-04-24T12:40:42.902320Z",
     "end_time": "2023-04-24T12:40:42.912595Z"
    }
   }
  },
  {
   "cell_type": "code",
   "execution_count": null,
   "outputs": [],
   "source": [],
   "metadata": {
    "collapsed": false
   }
  }
 ],
 "metadata": {
  "kernelspec": {
   "display_name": "Python 3",
   "language": "python",
   "name": "python3"
  },
  "language_info": {
   "codemirror_mode": {
    "name": "ipython",
    "version": 2
   },
   "file_extension": ".py",
   "mimetype": "text/x-python",
   "name": "python",
   "nbconvert_exporter": "python",
   "pygments_lexer": "ipython2",
   "version": "2.7.6"
  }
 },
 "nbformat": 4,
 "nbformat_minor": 0
}
