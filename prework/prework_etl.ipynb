{
 "cells": [
  {
   "cell_type": "markdown",
   "metadata": {
    "collapsed": false
   },
   "source": [
    "# Prework\n",
    "**Author:** github.com/juansevargasc"
   ]
  },
  {
   "cell_type": "markdown",
   "metadata": {
    "collapsed": false
   },
   "source": [
    "## CSV All Departures Data Exploration"
   ]
  },
  {
   "cell_type": "code",
   "execution_count": 1,
   "metadata": {
    "ExecuteTime": {
     "end_time": "2023-05-02T13:11:01.360319Z",
     "start_time": "2023-05-02T13:11:00.899846Z"
    },
    "collapsed": false
   },
   "outputs": [],
   "source": [
    "import pandas as pd\n",
    "#from sqlalchemy import create_engine"
   ]
  },
  {
   "cell_type": "code",
   "execution_count": 4,
   "metadata": {
    "ExecuteTime": {
     "end_time": "2023-04-18T11:55:33.932523Z",
     "start_time": "2023-04-18T11:55:14.123437Z"
    },
    "collapsed": false
   },
   "outputs": [],
   "source": [
    "pathfile = '../data/csvFiles/CompleteData.csv'\n",
    "df = pd.read_csv(pathfile, sep=',')"
   ]
  },
  {
   "cell_type": "markdown",
   "metadata": {
    "collapsed": false
   },
   "source": [
    "### Checking head and tails of data"
   ]
  },
  {
   "cell_type": "code",
   "execution_count": null,
   "metadata": {
    "ExecuteTime": {
     "end_time": "2023-04-18T11:55:34.011434Z",
     "start_time": "2023-04-18T11:55:33.931167Z"
    },
    "collapsed": false
   },
   "outputs": [],
   "source": [
    "df.head()"
   ]
  },
  {
   "cell_type": "code",
   "execution_count": null,
   "metadata": {
    "ExecuteTime": {
     "end_time": "2023-04-18T11:55:38.579829Z",
     "start_time": "2023-04-18T11:55:38.555049Z"
    },
    "collapsed": false
   },
   "outputs": [],
   "source": [
    "df.tail()"
   ]
  },
  {
   "cell_type": "markdown",
   "metadata": {
    "collapsed": false
   },
   "source": [
    "# Checking some columns to see how to prepare some values"
   ]
  },
  {
   "cell_type": "markdown",
   "metadata": {
    "collapsed": false
   },
   "source": [
    "The format function helps to see this numbers as Floats: `apply(lambda x: format(x, 'f'))`"
   ]
  },
  {
   "cell_type": "code",
   "execution_count": null,
   "metadata": {
    "ExecuteTime": {
     "end_time": "2023-04-18T11:55:46.596611Z",
     "start_time": "2023-04-18T11:55:46.498439Z"
    },
    "collapsed": false
   },
   "outputs": [],
   "source": [
    "df['OP_CARRIER_FL_NUM'].describe().apply(lambda x: format(x, 'f'))"
   ]
  },
  {
   "cell_type": "code",
   "execution_count": null,
   "metadata": {
    "ExecuteTime": {
     "end_time": "2023-04-14T13:03:30.291965Z",
     "start_time": "2023-04-14T13:03:29.922562Z"
    },
    "collapsed": false
   },
   "outputs": [],
   "source": [
    "df['MKT_CARRIER_FL_NUM'].describe().apply(lambda x: format(x, 'f'))"
   ]
  },
  {
   "cell_type": "markdown",
   "metadata": {
    "collapsed": false
   },
   "source": [
    "## Review and change Columns"
   ]
  },
  {
   "cell_type": "code",
   "execution_count": null,
   "metadata": {
    "ExecuteTime": {
     "end_time": "2023-04-18T11:55:50.392618Z",
     "start_time": "2023-04-18T11:55:50.380413Z"
    },
    "collapsed": false
   },
   "outputs": [],
   "source": [
    "columns = df.columns.to_list()\n",
    "columns"
   ]
  },
  {
   "cell_type": "code",
   "execution_count": 9,
   "metadata": {
    "ExecuteTime": {
     "end_time": "2023-04-18T11:55:52.898706Z",
     "start_time": "2023-04-18T11:55:52.893757Z"
    },
    "collapsed": false
   },
   "outputs": [],
   "source": [
    "columns_new_name = { col:col.replace(' ','_').lower() for col in columns}"
   ]
  },
  {
   "cell_type": "code",
   "execution_count": null,
   "metadata": {
    "ExecuteTime": {
     "end_time": "2023-04-18T11:55:54.693958Z",
     "start_time": "2023-04-18T11:55:54.686909Z"
    },
    "collapsed": false
   },
   "outputs": [],
   "source": [
    "columns_new_name"
   ]
  },
  {
   "cell_type": "code",
   "execution_count": null,
   "metadata": {
    "ExecuteTime": {
     "end_time": "2023-04-18T11:56:00.196233Z",
     "start_time": "2023-04-18T11:56:00.191463Z"
    },
    "collapsed": false
   },
   "outputs": [],
   "source": [
    "with open('columns.txt', 'a+') as file:\n",
    "    # Write\n",
    "    for col in columns:\n",
    "        file.write(col.lower())\n",
    "        file.write('\\n')\n",
    "\n",
    "    # move cursor to the beginning of the file\n",
    "    file.seek(0)\n",
    "\n",
    "    # read from file\n",
    "    file_contents = file.read()\n",
    "    print(file_contents)\n"
   ]
  },
  {
   "cell_type": "code",
   "execution_count": null,
   "metadata": {
    "ExecuteTime": {
     "end_time": "2023-04-18T11:56:02.048995Z",
     "start_time": "2023-04-18T11:56:02.034145Z"
    },
    "collapsed": false
   },
   "outputs": [],
   "source": [
    "df.info()"
   ]
  },
  {
   "cell_type": "code",
   "execution_count": 13,
   "metadata": {
    "ExecuteTime": {
     "end_time": "2023-04-18T11:56:16.209287Z",
     "start_time": "2023-04-18T11:56:15.384211Z"
    },
    "collapsed": false
   },
   "outputs": [],
   "source": [
    "df = df.rename(columns=columns_new_name)"
   ]
  },
  {
   "cell_type": "code",
   "execution_count": null,
   "metadata": {
    "ExecuteTime": {
     "end_time": "2023-04-18T11:56:18.142521Z",
     "start_time": "2023-04-18T11:56:18.139651Z"
    },
    "collapsed": false
   },
   "outputs": [],
   "source": [
    "df.columns"
   ]
  },
  {
   "cell_type": "markdown",
   "metadata": {
    "collapsed": false
   },
   "source": [
    "### Save to CSV"
   ]
  },
  {
   "cell_type": "code",
   "execution_count": 15,
   "metadata": {
    "ExecuteTime": {
     "end_time": "2023-04-18T11:57:49.860536Z",
     "start_time": "2023-04-18T11:56:58.606470Z"
    },
    "collapsed": false
   },
   "outputs": [],
   "source": [
    "df.to_csv('../postgres-volume/stage_departures.csv', index=False)"
   ]
  },
  {
   "cell_type": "code",
   "execution_count": 33,
   "metadata": {
    "ExecuteTime": {
     "end_time": "2023-04-14T21:03:03.865188Z",
     "start_time": "2023-04-14T21:03:03.517545Z"
    },
    "collapsed": false
   },
   "outputs": [
    {
     "name": "stdout",
     "output_type": "stream",
     "text": [
      "columns.txt             postgres_departures.sql prework_etl.ipynb\r\n"
     ]
    }
   ],
   "source": [
    "!ls"
   ]
  },
  {
   "cell_type": "markdown",
   "metadata": {
    "collapsed": false
   },
   "source": [
    "# Stations"
   ]
  },
  {
   "cell_type": "code",
   "execution_count": 2,
   "metadata": {
    "ExecuteTime": {
     "end_time": "2023-04-24T12:34:21.962287Z",
     "start_time": "2023-04-24T12:34:21.953184Z"
    },
    "collapsed": false
   },
   "outputs": [],
   "source": [
    "stations_path = '../data/csvFiles/Stations.csv'\n",
    "df_stations = pd.read_csv(stations_path)"
   ]
  },
  {
   "cell_type": "code",
   "execution_count": null,
   "metadata": {
    "ExecuteTime": {
     "end_time": "2023-04-24T12:34:22.855953Z",
     "start_time": "2023-04-24T12:34:22.829653Z"
    },
    "collapsed": false
   },
   "outputs": [],
   "source": [
    "df_stations.head(10)"
   ]
  },
  {
   "cell_type": "code",
   "execution_count": 4,
   "metadata": {
    "ExecuteTime": {
     "end_time": "2023-04-24T12:34:23.589663Z",
     "start_time": "2023-04-24T12:34:23.587349Z"
    },
    "collapsed": false
   },
   "outputs": [],
   "source": [
    "result_json = df_stations.to_json(orient='columns')"
   ]
  },
  {
   "cell_type": "code",
   "execution_count": null,
   "metadata": {
    "ExecuteTime": {
     "end_time": "2023-04-24T12:34:24.067639Z",
     "start_time": "2023-04-24T12:34:24.058293Z"
    },
    "collapsed": false
   },
   "outputs": [],
   "source": [
    "import json\n",
    "\n",
    "json_stations = json.loads(result_json)\n",
    "json.dumps(json_stations)"
   ]
  },
  {
   "cell_type": "markdown",
   "metadata": {
    "collapsed": false
   },
   "source": [
    "# Testing JSON"
   ]
  },
  {
   "cell_type": "code",
   "execution_count": null,
   "metadata": {
    "ExecuteTime": {
     "end_time": "2023-04-24T12:34:25.098477Z",
     "start_time": "2023-04-24T12:34:25.082389Z"
    },
    "collapsed": false
   },
   "outputs": [],
   "source": [
    "stations_path = '../data/jsonFiles/stations_data.json'\n",
    "df_stations_json = pd.read_json(stations_path)\n",
    "df_stations_json.head()"
   ]
  },
  {
   "cell_type": "code",
   "execution_count": null,
   "metadata": {
    "ExecuteTime": {
     "end_time": "2023-04-24T12:35:43.037134Z",
     "start_time": "2023-04-24T12:35:43.019246Z"
    },
    "collapsed": false
   },
   "outputs": [],
   "source": [
    "df_stations_json.info()"
   ]
  },
  {
   "cell_type": "markdown",
   "metadata": {
    "collapsed": false
   },
   "source": [
    "## Can ```AIRPORT_ID``` be the id of the table? Is it unique?"
   ]
  },
  {
   "cell_type": "code",
   "execution_count": 10,
   "metadata": {
    "ExecuteTime": {
     "end_time": "2023-04-24T12:36:38.985142Z",
     "start_time": "2023-04-24T12:36:38.981286Z"
    },
    "collapsed": false
   },
   "outputs": [
    {
     "data": {
      "text/plain": [
       "376"
      ]
     },
     "execution_count": 10,
     "metadata": {},
     "output_type": "execute_result"
    }
   ],
   "source": [
    "len (df_stations_json['AIRPORT_ID'].unique())"
   ]
  },
  {
   "cell_type": "code",
   "execution_count": null,
   "metadata": {
    "ExecuteTime": {
     "end_time": "2023-04-24T12:40:25.681313Z",
     "start_time": "2023-04-24T12:40:25.669709Z"
    },
    "collapsed": false
   },
   "outputs": [],
   "source": [
    "import pandas as pd\n",
    "technologies = {\n",
    "    'Courses':[\"Spark\",\"PySpark\",\"Python\",\"pandas\",\"Python\",\"Spark\",\"pandas\"],\n",
    "    'Fee' :[20000,25000,22000,30000,22000,20000,30000],\n",
    "    'Duration':['30days','40days','35days','50days','40days','30days','50days'],\n",
    "    'Discount':[1000,2300,1200,2000,2300,1000,2000]\n",
    "}\n",
    "df = pd.DataFrame(technologies)\n",
    "print(df)"
   ]
  },
  {
   "cell_type": "code",
   "execution_count": 12,
   "metadata": {
    "ExecuteTime": {
     "end_time": "2023-04-24T12:40:42.912595Z",
     "start_time": "2023-04-24T12:40:42.902320Z"
    },
    "collapsed": false
   },
   "outputs": [
    {
     "data": {
      "text/plain": [
       "array(['Spark', 'PySpark', 'Python', 'pandas'], dtype=object)"
      ]
     },
     "execution_count": 12,
     "metadata": {},
     "output_type": "execute_result"
    }
   ],
   "source": [
    "df['Courses'].unique()"
   ]
  },
  {
   "cell_type": "markdown",
   "metadata": {
    "collapsed": false
   },
   "source": [
    "___"
   ]
  },
  {
   "cell_type": "code",
   "execution_count": null,
   "metadata": {
    "collapsed": false
   },
   "outputs": [],
   "source": [
    "Testings"
   ]
  },
  {
   "cell_type": "code",
   "execution_count": 13,
   "metadata": {
    "ExecuteTime": {
     "end_time": "2023-04-27T18:21:07.120719Z",
     "start_time": "2023-04-27T18:21:07.114727Z"
    },
    "collapsed": false
   },
   "outputs": [
    {
     "name": "stdout",
     "output_type": "stream",
     "text": [
      "       name  age gender  earnings           city\n",
      "0     Alice   25      F   1500000       New York\n",
      "1       Bob   32      M   2000000  San Francisco\n",
      "2   Charlie   45      M   4670980    Los Angeles\n",
      "3     David   19      M   3200000       New York\n",
      "4     Emily   28      F    825000         Boston\n",
      "5     Frank   36      M    765000         Austin\n",
      "6     Grace   42      F   5400000         Boston\n",
      "7     Henry   50      M    980000         Austin\n",
      "8  Isabella   29      F   2250000  San Francisco\n",
      "9      Jack   27      M    450000         Austin\n"
     ]
    }
   ],
   "source": [
    "import pandas as pd\n",
    "\n",
    "data = {'name': ['Alice', 'Bob', 'Charlie', 'David', 'Emily', 'Frank', 'Grace', 'Henry', 'Isabella', 'Jack'],\n",
    "        'age': [25, 32, 45, 19, 28, 36, 42, 50, 29, 27],\n",
    "        'gender': ['F', 'M', 'M', 'M', 'F', 'M', 'F', 'M', 'F', 'M'],\n",
    "        'earnings': [1500000, 2000000, 4670980, 3200000, 825000, 765000, 5400000, 980000, 2250000, 450000],\n",
    "        'city': ['New York', 'San Francisco', 'Los Angeles', 'New York', 'Boston', 'Austin', 'Boston', 'Austin', 'San Francisco', 'Austin']}\n",
    "\n",
    "df = pd.DataFrame(data)\n",
    "\n",
    "print(df.head(10))"
   ]
  },
  {
   "cell_type": "code",
   "execution_count": 14,
   "metadata": {
    "ExecuteTime": {
     "end_time": "2023-04-27T18:21:07.617328Z",
     "start_time": "2023-04-27T18:21:07.606402Z"
    },
    "collapsed": false
   },
   "outputs": [
    {
     "data": {
      "text/plain": [
       "0    1.50000\n",
       "1    2.00000\n",
       "2    4.67098\n",
       "3    3.20000\n",
       "4    0.82500\n",
       "5    0.76500\n",
       "6    5.40000\n",
       "7    0.98000\n",
       "8    2.25000\n",
       "9    0.45000\n",
       "Name: earnings, dtype: float64"
      ]
     },
     "execution_count": 14,
     "metadata": {},
     "output_type": "execute_result"
    }
   ],
   "source": [
    "df['earnings'].apply(lambda x: x / 10**6)"
   ]
  },
  {
   "cell_type": "code",
   "execution_count": 15,
   "metadata": {
    "ExecuteTime": {
     "end_time": "2023-04-27T18:21:09.116659Z",
     "start_time": "2023-04-27T18:21:09.114015Z"
    },
    "collapsed": false
   },
   "outputs": [
    {
     "data": {
      "text/plain": [
       "0    1500000\n",
       "1    2000000\n",
       "2    4670980\n",
       "3    3200000\n",
       "4     825000\n",
       "5     765000\n",
       "6    5400000\n",
       "7     980000\n",
       "8    2250000\n",
       "9     450000\n",
       "Name: earnings, dtype: int64"
      ]
     },
     "execution_count": 15,
     "metadata": {},
     "output_type": "execute_result"
    }
   ],
   "source": [
    "df['earnings']"
   ]
  },
  {
   "cell_type": "code",
   "execution_count": 16,
   "metadata": {
    "ExecuteTime": {
     "end_time": "2023-04-27T18:21:11.156883Z",
     "start_time": "2023-04-27T18:21:11.149827Z"
    },
    "collapsed": false
   },
   "outputs": [
    {
     "data": {
      "text/html": [
       "<div>\n",
       "<style scoped>\n",
       "    .dataframe tbody tr th:only-of-type {\n",
       "        vertical-align: middle;\n",
       "    }\n",
       "\n",
       "    .dataframe tbody tr th {\n",
       "        vertical-align: top;\n",
       "    }\n",
       "\n",
       "    .dataframe thead th {\n",
       "        text-align: right;\n",
       "    }\n",
       "</style>\n",
       "<table border=\"1\" class=\"dataframe\">\n",
       "  <thead>\n",
       "    <tr style=\"text-align: right;\">\n",
       "      <th></th>\n",
       "      <th>name</th>\n",
       "      <th>age</th>\n",
       "      <th>gender</th>\n",
       "      <th>earnings</th>\n",
       "      <th>city</th>\n",
       "    </tr>\n",
       "  </thead>\n",
       "  <tbody>\n",
       "    <tr>\n",
       "      <th>1</th>\n",
       "      <td>Bob</td>\n",
       "      <td>32</td>\n",
       "      <td>M</td>\n",
       "      <td>2000000</td>\n",
       "      <td>San Francisco</td>\n",
       "    </tr>\n",
       "    <tr>\n",
       "      <th>8</th>\n",
       "      <td>Isabella</td>\n",
       "      <td>29</td>\n",
       "      <td>F</td>\n",
       "      <td>2250000</td>\n",
       "      <td>San Francisco</td>\n",
       "    </tr>\n",
       "    <tr>\n",
       "      <th>0</th>\n",
       "      <td>Alice</td>\n",
       "      <td>25</td>\n",
       "      <td>F</td>\n",
       "      <td>1500000</td>\n",
       "      <td>New York</td>\n",
       "    </tr>\n",
       "    <tr>\n",
       "      <th>3</th>\n",
       "      <td>David</td>\n",
       "      <td>19</td>\n",
       "      <td>M</td>\n",
       "      <td>3200000</td>\n",
       "      <td>New York</td>\n",
       "    </tr>\n",
       "    <tr>\n",
       "      <th>2</th>\n",
       "      <td>Charlie</td>\n",
       "      <td>45</td>\n",
       "      <td>M</td>\n",
       "      <td>4670980</td>\n",
       "      <td>Los Angeles</td>\n",
       "    </tr>\n",
       "    <tr>\n",
       "      <th>6</th>\n",
       "      <td>Grace</td>\n",
       "      <td>42</td>\n",
       "      <td>F</td>\n",
       "      <td>5400000</td>\n",
       "      <td>Boston</td>\n",
       "    </tr>\n",
       "    <tr>\n",
       "      <th>4</th>\n",
       "      <td>Emily</td>\n",
       "      <td>28</td>\n",
       "      <td>F</td>\n",
       "      <td>825000</td>\n",
       "      <td>Boston</td>\n",
       "    </tr>\n",
       "    <tr>\n",
       "      <th>7</th>\n",
       "      <td>Henry</td>\n",
       "      <td>50</td>\n",
       "      <td>M</td>\n",
       "      <td>980000</td>\n",
       "      <td>Austin</td>\n",
       "    </tr>\n",
       "    <tr>\n",
       "      <th>5</th>\n",
       "      <td>Frank</td>\n",
       "      <td>36</td>\n",
       "      <td>M</td>\n",
       "      <td>765000</td>\n",
       "      <td>Austin</td>\n",
       "    </tr>\n",
       "    <tr>\n",
       "      <th>9</th>\n",
       "      <td>Jack</td>\n",
       "      <td>27</td>\n",
       "      <td>M</td>\n",
       "      <td>450000</td>\n",
       "      <td>Austin</td>\n",
       "    </tr>\n",
       "  </tbody>\n",
       "</table>\n",
       "</div>"
      ],
      "text/plain": [
       "       name  age gender  earnings           city\n",
       "1       Bob   32      M   2000000  San Francisco\n",
       "8  Isabella   29      F   2250000  San Francisco\n",
       "0     Alice   25      F   1500000       New York\n",
       "3     David   19      M   3200000       New York\n",
       "2   Charlie   45      M   4670980    Los Angeles\n",
       "6     Grace   42      F   5400000         Boston\n",
       "4     Emily   28      F    825000         Boston\n",
       "7     Henry   50      M    980000         Austin\n",
       "5     Frank   36      M    765000         Austin\n",
       "9      Jack   27      M    450000         Austin"
      ]
     },
     "execution_count": 16,
     "metadata": {},
     "output_type": "execute_result"
    }
   ],
   "source": [
    "df.sort_values(by=['city', 'age','name', 'gender', 'earnings'], ascending=False)"
   ]
  },
  {
   "cell_type": "code",
   "execution_count": null,
   "metadata": {
    "collapsed": false
   },
   "outputs": [],
   "source": []
  }
 ],
 "metadata": {
  "kernelspec": {
   "display_name": "Python 3",
   "language": "python",
   "name": "python3"
  },
  "language_info": {
   "codemirror_mode": {
    "name": "ipython",
    "version": 2
   },
   "file_extension": ".py",
   "mimetype": "text/x-python",
   "name": "python",
   "nbconvert_exporter": "python",
   "pygments_lexer": "ipython2",
   "version": "2.7.6"
  }
 },
 "nbformat": 4,
 "nbformat_minor": 0
}
